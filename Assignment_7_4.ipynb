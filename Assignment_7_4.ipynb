{
  "nbformat": 4,
  "nbformat_minor": 0,
  "metadata": {
    "kernelspec": {
      "display_name": "Python 3",
      "language": "python",
      "name": "python3"
    },
    "language_info": {
      "codemirror_mode": {
        "name": "ipython",
        "version": 3
      },
      "file_extension": ".py",
      "mimetype": "text/x-python",
      "name": "python",
      "nbconvert_exporter": "python",
      "pygments_lexer": "ipython3",
      "version": "3.8.9"
    },
    "colab": {
      "provenance": []
    }
  },
  "cells": [
    {
      "cell_type": "markdown",
      "metadata": {
        "id": "Tp-K0M9Xm4Yf"
      },
      "source": [
        "Pixeltests School Data Science\n",
        "\n",
        "*Unit 2, Sprint 2, Module 4*\n",
        "\n",
        "---"
      ]
    },
    {
      "cell_type": "code",
      "source": [
        "from google.colab import drive\n",
        "drive.mount('/content/drive')"
      ],
      "metadata": {
        "id": "mDxJG9DdiN2E",
        "outputId": "38de86a6-52a6-4f51-ab1b-029f2dfe9fb5",
        "colab": {
          "base_uri": "https://localhost:8080/"
        }
      },
      "execution_count": 1,
      "outputs": [
        {
          "output_type": "stream",
          "name": "stdout",
          "text": [
            "Mounted at /content/drive\n"
          ]
        }
      ]
    },
    {
      "cell_type": "code",
      "metadata": {
        "id": "Y1yNM8L9m4Yh"
      },
      "source": [
        "%%capture\n",
        "import sys\n",
        "\n",
        "# If you're on Colab:\n",
        "if 'google.colab' in sys.modules:\n",
        "    DATA_PATH = 'https://raw.githubusercontent.com/pixeltests/datasets/main/' #You might not need this, use the data from Kaggle directly!\n",
        "    !pip install category_encoders==2.*\n",
        "    !pip install pandas-profiling==2.*\n",
        "\n",
        "# If you're working locally:\n",
        "else:\n",
        "    DATA_PATH = '../data/'"
      ],
      "execution_count": 2,
      "outputs": []
    },
    {
      "cell_type": "markdown",
      "metadata": {
        "id": "nCc3XZEyG3XV"
      },
      "source": [
        "# Module Project: Classification Metrics\n",
        "\n",
        "This sprint, the module projects will focus on creating and improving a model for the Tanazania Water Pump dataset. Your goal is to create a model to predict whether a water pump is functional, non-functional, or needs repair.\n",
        "\n",
        "Dataset source: [DrivenData.org](https://www.drivendata.org/competitions/7/pump-it-up-data-mining-the-water-table/).\n",
        "\n",
        "## Directions\n",
        "\n",
        "\n",
        "\n",
        "The tasks for this project are as follows:\n",
        "- **Task 0:** Enter the [Kaggle](https://www.kaggle.com/t/6169ee7701164d24943c98eda2de9b5e) competition using exactly this link!\n",
        "- **Task 1:** Use `wrangle` function to import training and test data.\n",
        "- **Task 2:** Split training data into feature matrix `X` and target vector `y`.\n",
        "- **Task 3:** Split training data into training and validation sets.\n",
        "- **Task 4:** Establish the baseline accuracy score for your dataset.\n",
        "- **Task 5:** Build `model`.\n",
        "- **Task 6:** Calculate the training and validation accuracy score for your model.\n",
        "- **Task 7:** Plot the confusion matrix for your model.\n",
        "- **Task 8:** Print the classification report for your model.\n",
        "- **Task 9:** Identify likely `'non-functional'` pumps in the test set.\n",
        "- **Task 10:** Find likely `'non-functional'` pumps serving biggest populations.\n",
        "- **Task 11 (`stretch goal`):** Plot pump locations from Task 10.\n",
        "\n",
        "You should limit yourself to the following libraries for this project:\n",
        "\n",
        "- `category_encoders`\n",
        "- `matplotlib`\n",
        "- `pandas`\n",
        "- `pandas-profiling`\n",
        "- `plotly`\n",
        "- `sklearn`\n",
        "\n",
        "\n",
        "# I. Wrangle Data"
      ]
    },
    {
      "cell_type": "code",
      "metadata": {
        "id": "DdlqQ3VHm4Yj"
      },
      "source": [
        "import pandas as pd\n",
        "\n",
        "def wrangle(fm_path, tv_path=None):\n",
        "    if tv_path:\n",
        "        df = pd.merge(pd.read_csv(fm_path,\n",
        "                                  na_values=[0, -2.000000e-08]),\n",
        "                      pd.read_csv(tv_path)).set_index('id')\n",
        "    else:\n",
        "        df = pd.read_csv(fm_path,\n",
        "                         na_values=[0, -2.000000e-08],\n",
        "                         index_col='id')\n",
        "\n",
        "    # Drop constant columns\n",
        "    df.drop(columns=['recorded_by'], inplace=True)\n",
        "\n",
        "    # Drop HCCCs\n",
        "    cutoff = 100\n",
        "    drop_cols = [col for col in df.select_dtypes('object').columns\n",
        "                 if df[col].nunique() > cutoff]\n",
        "    df.drop(columns=drop_cols, inplace=True)\n",
        "\n",
        "    # Drop duplicate columns\n",
        "    dupe_cols = [col for col in df.head(15).T.duplicated().index\n",
        "                 if df.head(15).T.duplicated()[col]]\n",
        "    df.drop(columns=dupe_cols, inplace=True)\n",
        "\n",
        "    return df"
      ],
      "execution_count": 3,
      "outputs": []
    },
    {
      "cell_type": "markdown",
      "metadata": {
        "id": "qxO0LX1um4Yj"
      },
      "source": [
        "**Task 1:** Using the above `wrangle` function to read `train_features.csv` and `train_labels.csv` into the DataFrame `df`, and `test_features.csv` into the DataFrame `X_test`."
      ]
    },
    {
      "cell_type": "code",
      "metadata": {
        "id": "SKBhHjlKm4Yj",
        "colab": {
          "base_uri": "https://localhost:8080/",
          "height": 482
        },
        "outputId": "30754a2c-a918-4e88-a104-7ccf39dce3a7"
      },
      "source": [
        "df = pd.read_csv('/content/drive/MyDrive/Pixeltest/predict-faulty-tanzania-water-pumps/train_features.csv')\n",
        "lables_df = pd.read_csv('/content/drive/MyDrive/Pixeltest/predict-faulty-tanzania-water-pumps/train_labels.csv')\n",
        "X_test = pd.read_csv('/content/drive/MyDrive/Pixeltest/predict-faulty-tanzania-water-pumps/test_features.csv')\n",
        "print('Shape of dataset',{df.shape})\n",
        "df.head()"
      ],
      "execution_count": 19,
      "outputs": [
        {
          "output_type": "stream",
          "name": "stdout",
          "text": [
            "Shape of dataset {(47520, 40)}\n"
          ]
        },
        {
          "output_type": "execute_result",
          "data": {
            "text/plain": [
              "      id  amount_tsh date_recorded  funder  gps_height       installer  \\\n",
              "0   1027        50.0    2013-02-13   Kiuma         690           KIUMA   \n",
              "1  16782         0.0    2011-07-26  Hesawa           0             DWE   \n",
              "2  13169         0.0    2011-03-14     Ded           0             DWE   \n",
              "3  18341         0.0    2013-04-03    Adra        1300  Adra/Community   \n",
              "4  66703        10.0    2013-09-03     Giz         791      KILI WATER   \n",
              "\n",
              "   longitude   latitude             wpt_name  num_private  ... payment_type  \\\n",
              "0  36.957086 -11.311964  Kwa Mkwanda Mohamed            0  ...   per bucket   \n",
              "1  33.058573  -2.595762           Kwa Lujina            0  ...      monthly   \n",
              "2  35.238216  -5.168248            Kilimba A            0  ...   per bucket   \n",
              "3  36.941756  -3.336709                 John            0  ...      unknown   \n",
              "4  37.469637  -3.393065       Kwa Iddi Mlaki            0  ...   per bucket   \n",
              "\n",
              "  water_quality quality_group      quantity  quantity_group       source  \\\n",
              "0          soft          good        enough          enough  machine dbh   \n",
              "1          soft          good        enough          enough  machine dbh   \n",
              "2          soft          good        enough          enough  machine dbh   \n",
              "3       unknown       unknown  insufficient    insufficient        river   \n",
              "4          soft          good        enough          enough       spring   \n",
              "\n",
              "  source_type  source_class              waterpoint_type waterpoint_type_group  \n",
              "0    borehole   groundwater  communal standpipe multiple    communal standpipe  \n",
              "1    borehole   groundwater                    hand pump             hand pump  \n",
              "2    borehole   groundwater  communal standpipe multiple    communal standpipe  \n",
              "3  river/lake       surface           communal standpipe    communal standpipe  \n",
              "4      spring   groundwater           communal standpipe    communal standpipe  \n",
              "\n",
              "[5 rows x 40 columns]"
            ],
            "text/html": [
              "\n",
              "  <div id=\"df-3652419f-9323-4b69-8f60-0326069ddf82\" class=\"colab-df-container\">\n",
              "    <div>\n",
              "<style scoped>\n",
              "    .dataframe tbody tr th:only-of-type {\n",
              "        vertical-align: middle;\n",
              "    }\n",
              "\n",
              "    .dataframe tbody tr th {\n",
              "        vertical-align: top;\n",
              "    }\n",
              "\n",
              "    .dataframe thead th {\n",
              "        text-align: right;\n",
              "    }\n",
              "</style>\n",
              "<table border=\"1\" class=\"dataframe\">\n",
              "  <thead>\n",
              "    <tr style=\"text-align: right;\">\n",
              "      <th></th>\n",
              "      <th>id</th>\n",
              "      <th>amount_tsh</th>\n",
              "      <th>date_recorded</th>\n",
              "      <th>funder</th>\n",
              "      <th>gps_height</th>\n",
              "      <th>installer</th>\n",
              "      <th>longitude</th>\n",
              "      <th>latitude</th>\n",
              "      <th>wpt_name</th>\n",
              "      <th>num_private</th>\n",
              "      <th>...</th>\n",
              "      <th>payment_type</th>\n",
              "      <th>water_quality</th>\n",
              "      <th>quality_group</th>\n",
              "      <th>quantity</th>\n",
              "      <th>quantity_group</th>\n",
              "      <th>source</th>\n",
              "      <th>source_type</th>\n",
              "      <th>source_class</th>\n",
              "      <th>waterpoint_type</th>\n",
              "      <th>waterpoint_type_group</th>\n",
              "    </tr>\n",
              "  </thead>\n",
              "  <tbody>\n",
              "    <tr>\n",
              "      <th>0</th>\n",
              "      <td>1027</td>\n",
              "      <td>50.0</td>\n",
              "      <td>2013-02-13</td>\n",
              "      <td>Kiuma</td>\n",
              "      <td>690</td>\n",
              "      <td>KIUMA</td>\n",
              "      <td>36.957086</td>\n",
              "      <td>-11.311964</td>\n",
              "      <td>Kwa Mkwanda Mohamed</td>\n",
              "      <td>0</td>\n",
              "      <td>...</td>\n",
              "      <td>per bucket</td>\n",
              "      <td>soft</td>\n",
              "      <td>good</td>\n",
              "      <td>enough</td>\n",
              "      <td>enough</td>\n",
              "      <td>machine dbh</td>\n",
              "      <td>borehole</td>\n",
              "      <td>groundwater</td>\n",
              "      <td>communal standpipe multiple</td>\n",
              "      <td>communal standpipe</td>\n",
              "    </tr>\n",
              "    <tr>\n",
              "      <th>1</th>\n",
              "      <td>16782</td>\n",
              "      <td>0.0</td>\n",
              "      <td>2011-07-26</td>\n",
              "      <td>Hesawa</td>\n",
              "      <td>0</td>\n",
              "      <td>DWE</td>\n",
              "      <td>33.058573</td>\n",
              "      <td>-2.595762</td>\n",
              "      <td>Kwa Lujina</td>\n",
              "      <td>0</td>\n",
              "      <td>...</td>\n",
              "      <td>monthly</td>\n",
              "      <td>soft</td>\n",
              "      <td>good</td>\n",
              "      <td>enough</td>\n",
              "      <td>enough</td>\n",
              "      <td>machine dbh</td>\n",
              "      <td>borehole</td>\n",
              "      <td>groundwater</td>\n",
              "      <td>hand pump</td>\n",
              "      <td>hand pump</td>\n",
              "    </tr>\n",
              "    <tr>\n",
              "      <th>2</th>\n",
              "      <td>13169</td>\n",
              "      <td>0.0</td>\n",
              "      <td>2011-03-14</td>\n",
              "      <td>Ded</td>\n",
              "      <td>0</td>\n",
              "      <td>DWE</td>\n",
              "      <td>35.238216</td>\n",
              "      <td>-5.168248</td>\n",
              "      <td>Kilimba A</td>\n",
              "      <td>0</td>\n",
              "      <td>...</td>\n",
              "      <td>per bucket</td>\n",
              "      <td>soft</td>\n",
              "      <td>good</td>\n",
              "      <td>enough</td>\n",
              "      <td>enough</td>\n",
              "      <td>machine dbh</td>\n",
              "      <td>borehole</td>\n",
              "      <td>groundwater</td>\n",
              "      <td>communal standpipe multiple</td>\n",
              "      <td>communal standpipe</td>\n",
              "    </tr>\n",
              "    <tr>\n",
              "      <th>3</th>\n",
              "      <td>18341</td>\n",
              "      <td>0.0</td>\n",
              "      <td>2013-04-03</td>\n",
              "      <td>Adra</td>\n",
              "      <td>1300</td>\n",
              "      <td>Adra/Community</td>\n",
              "      <td>36.941756</td>\n",
              "      <td>-3.336709</td>\n",
              "      <td>John</td>\n",
              "      <td>0</td>\n",
              "      <td>...</td>\n",
              "      <td>unknown</td>\n",
              "      <td>unknown</td>\n",
              "      <td>unknown</td>\n",
              "      <td>insufficient</td>\n",
              "      <td>insufficient</td>\n",
              "      <td>river</td>\n",
              "      <td>river/lake</td>\n",
              "      <td>surface</td>\n",
              "      <td>communal standpipe</td>\n",
              "      <td>communal standpipe</td>\n",
              "    </tr>\n",
              "    <tr>\n",
              "      <th>4</th>\n",
              "      <td>66703</td>\n",
              "      <td>10.0</td>\n",
              "      <td>2013-09-03</td>\n",
              "      <td>Giz</td>\n",
              "      <td>791</td>\n",
              "      <td>KILI WATER</td>\n",
              "      <td>37.469637</td>\n",
              "      <td>-3.393065</td>\n",
              "      <td>Kwa Iddi Mlaki</td>\n",
              "      <td>0</td>\n",
              "      <td>...</td>\n",
              "      <td>per bucket</td>\n",
              "      <td>soft</td>\n",
              "      <td>good</td>\n",
              "      <td>enough</td>\n",
              "      <td>enough</td>\n",
              "      <td>spring</td>\n",
              "      <td>spring</td>\n",
              "      <td>groundwater</td>\n",
              "      <td>communal standpipe</td>\n",
              "      <td>communal standpipe</td>\n",
              "    </tr>\n",
              "  </tbody>\n",
              "</table>\n",
              "<p>5 rows × 40 columns</p>\n",
              "</div>\n",
              "    <div class=\"colab-df-buttons\">\n",
              "\n",
              "  <div class=\"colab-df-container\">\n",
              "    <button class=\"colab-df-convert\" onclick=\"convertToInteractive('df-3652419f-9323-4b69-8f60-0326069ddf82')\"\n",
              "            title=\"Convert this dataframe to an interactive table.\"\n",
              "            style=\"display:none;\">\n",
              "\n",
              "  <svg xmlns=\"http://www.w3.org/2000/svg\" height=\"24px\" viewBox=\"0 -960 960 960\">\n",
              "    <path d=\"M120-120v-720h720v720H120Zm60-500h600v-160H180v160Zm220 220h160v-160H400v160Zm0 220h160v-160H400v160ZM180-400h160v-160H180v160Zm440 0h160v-160H620v160ZM180-180h160v-160H180v160Zm440 0h160v-160H620v160Z\"/>\n",
              "  </svg>\n",
              "    </button>\n",
              "\n",
              "  <style>\n",
              "    .colab-df-container {\n",
              "      display:flex;\n",
              "      gap: 12px;\n",
              "    }\n",
              "\n",
              "    .colab-df-convert {\n",
              "      background-color: #E8F0FE;\n",
              "      border: none;\n",
              "      border-radius: 50%;\n",
              "      cursor: pointer;\n",
              "      display: none;\n",
              "      fill: #1967D2;\n",
              "      height: 32px;\n",
              "      padding: 0 0 0 0;\n",
              "      width: 32px;\n",
              "    }\n",
              "\n",
              "    .colab-df-convert:hover {\n",
              "      background-color: #E2EBFA;\n",
              "      box-shadow: 0px 1px 2px rgba(60, 64, 67, 0.3), 0px 1px 3px 1px rgba(60, 64, 67, 0.15);\n",
              "      fill: #174EA6;\n",
              "    }\n",
              "\n",
              "    .colab-df-buttons div {\n",
              "      margin-bottom: 4px;\n",
              "    }\n",
              "\n",
              "    [theme=dark] .colab-df-convert {\n",
              "      background-color: #3B4455;\n",
              "      fill: #D2E3FC;\n",
              "    }\n",
              "\n",
              "    [theme=dark] .colab-df-convert:hover {\n",
              "      background-color: #434B5C;\n",
              "      box-shadow: 0px 1px 3px 1px rgba(0, 0, 0, 0.15);\n",
              "      filter: drop-shadow(0px 1px 2px rgba(0, 0, 0, 0.3));\n",
              "      fill: #FFFFFF;\n",
              "    }\n",
              "  </style>\n",
              "\n",
              "    <script>\n",
              "      const buttonEl =\n",
              "        document.querySelector('#df-3652419f-9323-4b69-8f60-0326069ddf82 button.colab-df-convert');\n",
              "      buttonEl.style.display =\n",
              "        google.colab.kernel.accessAllowed ? 'block' : 'none';\n",
              "\n",
              "      async function convertToInteractive(key) {\n",
              "        const element = document.querySelector('#df-3652419f-9323-4b69-8f60-0326069ddf82');\n",
              "        const dataTable =\n",
              "          await google.colab.kernel.invokeFunction('convertToInteractive',\n",
              "                                                    [key], {});\n",
              "        if (!dataTable) return;\n",
              "\n",
              "        const docLinkHtml = 'Like what you see? Visit the ' +\n",
              "          '<a target=\"_blank\" href=https://colab.research.google.com/notebooks/data_table.ipynb>data table notebook</a>'\n",
              "          + ' to learn more about interactive tables.';\n",
              "        element.innerHTML = '';\n",
              "        dataTable['output_type'] = 'display_data';\n",
              "        await google.colab.output.renderOutput(dataTable, element);\n",
              "        const docLink = document.createElement('div');\n",
              "        docLink.innerHTML = docLinkHtml;\n",
              "        element.appendChild(docLink);\n",
              "      }\n",
              "    </script>\n",
              "  </div>\n",
              "\n",
              "\n",
              "<div id=\"df-e756972b-517b-455c-baf3-7cbfcdf19430\">\n",
              "  <button class=\"colab-df-quickchart\" onclick=\"quickchart('df-e756972b-517b-455c-baf3-7cbfcdf19430')\"\n",
              "            title=\"Suggest charts\"\n",
              "            style=\"display:none;\">\n",
              "\n",
              "<svg xmlns=\"http://www.w3.org/2000/svg\" height=\"24px\"viewBox=\"0 0 24 24\"\n",
              "     width=\"24px\">\n",
              "    <g>\n",
              "        <path d=\"M19 3H5c-1.1 0-2 .9-2 2v14c0 1.1.9 2 2 2h14c1.1 0 2-.9 2-2V5c0-1.1-.9-2-2-2zM9 17H7v-7h2v7zm4 0h-2V7h2v10zm4 0h-2v-4h2v4z\"/>\n",
              "    </g>\n",
              "</svg>\n",
              "  </button>\n",
              "\n",
              "<style>\n",
              "  .colab-df-quickchart {\n",
              "      --bg-color: #E8F0FE;\n",
              "      --fill-color: #1967D2;\n",
              "      --hover-bg-color: #E2EBFA;\n",
              "      --hover-fill-color: #174EA6;\n",
              "      --disabled-fill-color: #AAA;\n",
              "      --disabled-bg-color: #DDD;\n",
              "  }\n",
              "\n",
              "  [theme=dark] .colab-df-quickchart {\n",
              "      --bg-color: #3B4455;\n",
              "      --fill-color: #D2E3FC;\n",
              "      --hover-bg-color: #434B5C;\n",
              "      --hover-fill-color: #FFFFFF;\n",
              "      --disabled-bg-color: #3B4455;\n",
              "      --disabled-fill-color: #666;\n",
              "  }\n",
              "\n",
              "  .colab-df-quickchart {\n",
              "    background-color: var(--bg-color);\n",
              "    border: none;\n",
              "    border-radius: 50%;\n",
              "    cursor: pointer;\n",
              "    display: none;\n",
              "    fill: var(--fill-color);\n",
              "    height: 32px;\n",
              "    padding: 0;\n",
              "    width: 32px;\n",
              "  }\n",
              "\n",
              "  .colab-df-quickchart:hover {\n",
              "    background-color: var(--hover-bg-color);\n",
              "    box-shadow: 0 1px 2px rgba(60, 64, 67, 0.3), 0 1px 3px 1px rgba(60, 64, 67, 0.15);\n",
              "    fill: var(--button-hover-fill-color);\n",
              "  }\n",
              "\n",
              "  .colab-df-quickchart-complete:disabled,\n",
              "  .colab-df-quickchart-complete:disabled:hover {\n",
              "    background-color: var(--disabled-bg-color);\n",
              "    fill: var(--disabled-fill-color);\n",
              "    box-shadow: none;\n",
              "  }\n",
              "\n",
              "  .colab-df-spinner {\n",
              "    border: 2px solid var(--fill-color);\n",
              "    border-color: transparent;\n",
              "    border-bottom-color: var(--fill-color);\n",
              "    animation:\n",
              "      spin 1s steps(1) infinite;\n",
              "  }\n",
              "\n",
              "  @keyframes spin {\n",
              "    0% {\n",
              "      border-color: transparent;\n",
              "      border-bottom-color: var(--fill-color);\n",
              "      border-left-color: var(--fill-color);\n",
              "    }\n",
              "    20% {\n",
              "      border-color: transparent;\n",
              "      border-left-color: var(--fill-color);\n",
              "      border-top-color: var(--fill-color);\n",
              "    }\n",
              "    30% {\n",
              "      border-color: transparent;\n",
              "      border-left-color: var(--fill-color);\n",
              "      border-top-color: var(--fill-color);\n",
              "      border-right-color: var(--fill-color);\n",
              "    }\n",
              "    40% {\n",
              "      border-color: transparent;\n",
              "      border-right-color: var(--fill-color);\n",
              "      border-top-color: var(--fill-color);\n",
              "    }\n",
              "    60% {\n",
              "      border-color: transparent;\n",
              "      border-right-color: var(--fill-color);\n",
              "    }\n",
              "    80% {\n",
              "      border-color: transparent;\n",
              "      border-right-color: var(--fill-color);\n",
              "      border-bottom-color: var(--fill-color);\n",
              "    }\n",
              "    90% {\n",
              "      border-color: transparent;\n",
              "      border-bottom-color: var(--fill-color);\n",
              "    }\n",
              "  }\n",
              "</style>\n",
              "\n",
              "  <script>\n",
              "    async function quickchart(key) {\n",
              "      const quickchartButtonEl =\n",
              "        document.querySelector('#' + key + ' button');\n",
              "      quickchartButtonEl.disabled = true;  // To prevent multiple clicks.\n",
              "      quickchartButtonEl.classList.add('colab-df-spinner');\n",
              "      try {\n",
              "        const charts = await google.colab.kernel.invokeFunction(\n",
              "            'suggestCharts', [key], {});\n",
              "      } catch (error) {\n",
              "        console.error('Error during call to suggestCharts:', error);\n",
              "      }\n",
              "      quickchartButtonEl.classList.remove('colab-df-spinner');\n",
              "      quickchartButtonEl.classList.add('colab-df-quickchart-complete');\n",
              "    }\n",
              "    (() => {\n",
              "      let quickchartButtonEl =\n",
              "        document.querySelector('#df-e756972b-517b-455c-baf3-7cbfcdf19430 button');\n",
              "      quickchartButtonEl.style.display =\n",
              "        google.colab.kernel.accessAllowed ? 'block' : 'none';\n",
              "    })();\n",
              "  </script>\n",
              "</div>\n",
              "\n",
              "    </div>\n",
              "  </div>\n"
            ],
            "application/vnd.google.colaboratory.intrinsic+json": {
              "type": "dataframe",
              "variable_name": "df"
            }
          },
          "metadata": {},
          "execution_count": 19
        },
        {
          "output_type": "stream",
          "name": "stdout",
          "text": [
            "Warning: Total number of columns (40) exceeds max_columns (20) limiting to first (20) columns.\n"
          ]
        }
      ]
    },
    {
      "cell_type": "markdown",
      "metadata": {
        "id": "ouosDLDOm4Yk"
      },
      "source": [
        "# II. Split Data\n",
        "\n",
        "**Task 2:** Split your DataFrame `df` into a feature matrix `X` and the target vector `y`. You want to predict `'status_group'`.\n",
        "\n",
        "**Note:** You won't need to do a train-test split because you'll use cross-validation instead."
      ]
    },
    {
      "cell_type": "code",
      "metadata": {
        "id": "-IS8bVr6m4Yk"
      },
      "source": [
        "X = df\n",
        "y = lables_df"
      ],
      "execution_count": 5,
      "outputs": []
    },
    {
      "cell_type": "markdown",
      "metadata": {
        "id": "ocua5nTFm4Yk"
      },
      "source": [
        "**Task 3:** Using a randomized split, divide `X` and `y` into a training set (`X_train`, `y_train`) and a validation set (`X_val`, `y_val`)."
      ]
    },
    {
      "cell_type": "code",
      "metadata": {
        "id": "810mP3w4m4Yl",
        "outputId": "8fc00e86-7922-4136-f1c5-f0be07e1a9fe",
        "colab": {
          "base_uri": "https://localhost:8080/"
        }
      },
      "source": [
        "from sklearn.model_selection import train_test_split\n",
        "\n",
        "X_train, X_val, y_train, y_val = train_test_split(\n",
        "    X, y, test_size=0.2, random_state=42\n",
        ")\n",
        "\n",
        "# Optional: check the shapes\n",
        "print(\"X_train shape:\", X_train.shape)\n",
        "print(\"X_val shape:\", X_val.shape)\n",
        "print(\"y_train shape:\", y_train.shape)\n",
        "print(\"y_val shape:\", y_val.shape)"
      ],
      "execution_count": 6,
      "outputs": [
        {
          "output_type": "stream",
          "name": "stdout",
          "text": [
            "X_train shape: (38016, 40)\n",
            "X_val shape: (9504, 40)\n",
            "y_train shape: (38016, 1)\n",
            "y_val shape: (9504, 1)\n"
          ]
        }
      ]
    },
    {
      "cell_type": "markdown",
      "metadata": {
        "id": "LbCibiE8m4Ym"
      },
      "source": [
        "# III. Establish Baseline\n",
        "\n",
        "**Task 4:** Since this is a **classification** problem, you should establish a baseline accuracy score. Figure out what is the majority class in `y_train` and what percentage of your training observations it represents."
      ]
    },
    {
      "cell_type": "code",
      "metadata": {
        "id": "w2eVP50qm4Ym",
        "outputId": "11b651e3-6230-469f-af0a-693a2aa132b3",
        "colab": {
          "base_uri": "https://localhost:8080/"
        }
      },
      "source": [
        "print(y_train['status_group'].value_counts(normalize=True))\n",
        "\n",
        "#  majority class in y_train\n",
        "majority_class = y_train.value_counts().idxmax()\n",
        "majority_count = y_train.value_counts().max()\n",
        "\n",
        "# baseline accuracy\n",
        "baseline_acc = majority_count / len(y_train)\n",
        "\n",
        "print('Baseline Accuracy Score:', baseline_acc)"
      ],
      "execution_count": 7,
      "outputs": [
        {
          "output_type": "stream",
          "name": "stdout",
          "text": [
            "status_group\n",
            "functional                 0.542298\n",
            "non functional             0.384549\n",
            "functional needs repair    0.073153\n",
            "Name: proportion, dtype: float64\n",
            "Baseline Accuracy Score: 0.5422979797979798\n"
          ]
        }
      ]
    },
    {
      "cell_type": "markdown",
      "metadata": {
        "id": "Q8s2gPBcm4Ym"
      },
      "source": [
        "# IV. Build Models\n",
        "\n",
        "**Task 5:** Build and train your `model`. Include the transformers and predictor that you think are most appropriate for this problem."
      ]
    },
    {
      "cell_type": "code",
      "metadata": {
        "id": "AGpOmyLjm4Ym",
        "outputId": "81d25a1c-2b90-45ee-a35a-17485363dd7a",
        "colab": {
          "base_uri": "https://localhost:8080/"
        }
      },
      "source": [
        "import category_encoders as ce\n",
        "from sklearn.impute import SimpleImputer\n",
        "from sklearn.ensemble import RandomForestClassifier\n",
        "from sklearn.pipeline import make_pipeline\n",
        "from sklearn.preprocessing import OrdinalEncoder\n",
        "from sklearn.preprocessing import StandardScaler\n",
        "\n",
        "model = make_pipeline(\n",
        "    ce.OrdinalEncoder(),\n",
        "    SimpleImputer(strategy='median'),\n",
        "    StandardScaler(),\n",
        "    RandomForestClassifier(max_depth=13,n_estimators=200,n_jobs=-1,random_state=42)\n",
        ")\n",
        "\n",
        "model = model.fit(X_train, y_train)\n"
      ],
      "execution_count": 8,
      "outputs": [
        {
          "output_type": "stream",
          "name": "stderr",
          "text": [
            "/usr/local/lib/python3.11/dist-packages/sklearn/base.py:1389: DataConversionWarning: A column-vector y was passed when a 1d array was expected. Please change the shape of y to (n_samples,), for example using ravel().\n",
            "  return fit_method(estimator, *args, **kwargs)\n"
          ]
        }
      ]
    },
    {
      "cell_type": "markdown",
      "metadata": {
        "id": "V8wCKezDm4Yn"
      },
      "source": [
        "# V. Check Metrics\n",
        "\n",
        "**Task 6:** Calculate the training and validation accuracy scores for `model`."
      ]
    },
    {
      "cell_type": "code",
      "metadata": {
        "id": "1lUgnMq1m4Yn",
        "outputId": "394a5c4b-7c7e-484b-9e63-a818244e005f",
        "colab": {
          "base_uri": "https://localhost:8080/"
        }
      },
      "source": [
        "training_acc =  model.score(X_train, y_train)\n",
        "val_acc = model.score(X_val, y_val)\n",
        "\n",
        "print('Training Accuracy Score:', training_acc)\n",
        "print('Validation Accuracy Score:', val_acc)"
      ],
      "execution_count": 9,
      "outputs": [
        {
          "output_type": "stream",
          "name": "stdout",
          "text": [
            "Training Accuracy Score: 0.8445391414141414\n",
            "Validation Accuracy Score: 0.7917718855218855\n"
          ]
        }
      ]
    },
    {
      "cell_type": "markdown",
      "metadata": {
        "id": "K6rne2gRm4Yn"
      },
      "source": [
        "**Task 7:** Plot the confusion matrix for your model, using your validation data.\n",
        "\n",
        "**Note:** Since there are three classes in your target vector, the dimensions of your matrix will be 3x3."
      ]
    },
    {
      "cell_type": "code",
      "metadata": {
        "id": "I8847NIim4Yn",
        "outputId": "6e7dc976-1325-4fb1-ef91-22d9720dd3df",
        "colab": {
          "base_uri": "https://localhost:8080/",
          "height": 448
        }
      },
      "source": [
        "# Plot 3x3 confusion matrix\n",
        "from sklearn.metrics import confusion_matrix\n",
        "import seaborn as sns\n",
        "import matplotlib.pyplot as plt\n",
        "\n",
        "y_pred = model.predict(X_val)\n",
        "cm = confusion_matrix(y_val, y_pred)\n",
        "sns.heatmap(cm, annot=True, fmt='d', cmap='Reds')"
      ],
      "execution_count": 10,
      "outputs": [
        {
          "output_type": "execute_result",
          "data": {
            "text/plain": [
              "<Axes: >"
            ]
          },
          "metadata": {},
          "execution_count": 10
        },
        {
          "output_type": "display_data",
          "data": {
            "text/plain": [
              "<Figure size 640x480 with 2 Axes>"
            ],
            "image/png": "[encoded data removed]"
          },
          "metadata": {}
        }
      ]
    },
    {
      "cell_type": "markdown",
      "metadata": {
        "id": "xn7WIPFqm4Yn"
      },
      "source": [
        "Calculating precision and recall for a multiclass problem is a bit of a mess. Fortunately, we can use `sklearn`'s classification report.\n",
        "\n",
        "**Task 8:**  Print the classification report for your `model`, using your validation data."
      ]
    },
    {
      "cell_type": "code",
      "metadata": {
        "id": "-5b4Q9BCm4Yo",
        "outputId": "7e79a0be-b061-4e08-95da-f29c06993936",
        "colab": {
          "base_uri": "https://localhost:8080/"
        }
      },
      "source": [
        "# Print classification report\n",
        "from sklearn.metrics import classification_report\n",
        "print(classification_report(y_val, y_pred))"
      ],
      "execution_count": 11,
      "outputs": [
        {
          "output_type": "stream",
          "name": "stdout",
          "text": [
            "                         precision    recall  f1-score   support\n",
            "\n",
            "             functional       0.75      0.95      0.84      5191\n",
            "functional needs repair       0.71      0.14      0.24       673\n",
            "         non functional       0.89      0.69      0.77      3640\n",
            "\n",
            "               accuracy                           0.79      9504\n",
            "              macro avg       0.78      0.59      0.62      9504\n",
            "           weighted avg       0.80      0.79      0.77      9504\n",
            "\n"
          ]
        }
      ]
    },
    {
      "cell_type": "markdown",
      "metadata": {
        "id": "UbVCd8wNm4Yo"
      },
      "source": [
        "# VI. Tune Model\n",
        "\n",
        "Usually, we use this part of the ML workflow to adjust the hyperparameters of the our model to increase performance based on metrics like accuracy. Today, we'll use it to help maximize the impact of our water pump repairs when resources are scarce. What if we only had funds to repair 100 water pumps?\n",
        "\n",
        "\n",
        "**Task 9:** Using your model's `predict_proba` method, identify the observations in your **test set** where the model is more than 95% certain that a pump is `'non-functional'`. Put these observations in the DataFrame `X_test_nf`."
      ]
    },
    {
      "cell_type": "code",
      "metadata": {
        "id": "xlWoFJ8lm4Yo",
        "outputId": "99ec2a9d-3c82-4f38-f163-956be9e423e3",
        "colab": {
          "base_uri": "https://localhost:8080/",
          "height": 397
        }
      },
      "source": [
        "print(model.named_steps['randomforestclassifier'].classes_)\n",
        "\n",
        "proba = model.predict_proba(X_test)\n",
        "proba\n",
        "\n",
        "non_func_probs = proba[:, 2]\n",
        "\n",
        "X_test_nf = X_test[non_func_probs > 0.95]\n",
        "print(X_test_nf.shape)\n",
        "\n",
        "print(f\"Model is over 95% confident that {len(X_test_nf)} pumps are non-functional.\")\n",
        "X_test_nf.head()\n"
      ],
      "execution_count": 12,
      "outputs": [
        {
          "output_type": "stream",
          "name": "stdout",
          "text": [
            "['functional' 'functional needs repair' 'non functional']\n",
            "(942, 40)\n",
            "Model is over 95% confident that 942 pumps are non-functional.\n"
          ]
        },
        {
          "output_type": "execute_result",
          "data": {
            "text/plain": [
              "        id  amount_tsh date_recorded                  funder  gps_height  \\\n",
              "26   16291         0.0    2013-03-13                       0         -47   \n",
              "52   61610         0.0    2011-07-22  Government Of Tanzania           0   \n",
              "62   63098         0.0    2011-03-14                   Healt        1384   \n",
              "80   24756         0.0    2011-03-07        District Council         -14   \n",
              "108  69604         0.0    2013-02-07                     Lga         320   \n",
              "\n",
              "    installer  longitude   latitude              wpt_name  num_private  ...  \\\n",
              "26          0  39.361223  -6.861210  Kwa Abbas Mwinyichum            0  ...   \n",
              "52        DWE  30.893949  -1.478067             Kwanovati            0  ...   \n",
              "62      Healt  34.714240  -9.805399                  none            0  ...   \n",
              "80        DWE  38.933308  -5.567187           Baalii Sudi            0  ...   \n",
              "108       LGA  39.190458 -11.014937               Shuleni            0  ...   \n",
              "\n",
              "    payment_type water_quality quality_group  quantity  quantity_group  \\\n",
              "26     never pay         salty         salty       dry             dry   \n",
              "52     never pay          soft          good       dry             dry   \n",
              "62    on failure          soft          good       dry             dry   \n",
              "80     never pay         salty         salty    enough          enough   \n",
              "108      unknown          soft          good       dry             dry   \n",
              "\n",
              "           source   source_type  source_class              waterpoint_type  \\\n",
              "26    machine dbh      borehole   groundwater                        other   \n",
              "52          river    river/lake       surface           communal standpipe   \n",
              "62          river    river/lake       surface           communal standpipe   \n",
              "80   shallow well  shallow well   groundwater                        other   \n",
              "108        spring        spring   groundwater  communal standpipe multiple   \n",
              "\n",
              "    waterpoint_type_group  \n",
              "26                  other  \n",
              "52     communal standpipe  \n",
              "62     communal standpipe  \n",
              "80                  other  \n",
              "108    communal standpipe  \n",
              "\n",
              "[5 rows x 40 columns]"
            ],
            "text/html": [
              "\n",
              "  <div id=\"df-104a9d4b-195d-4a2f-ba34-dc9a94bf3f90\" class=\"colab-df-container\">\n",
              "    <div>\n",
              "<style scoped>\n",
              "    .dataframe tbody tr th:only-of-type {\n",
              "        vertical-align: middle;\n",
              "    }\n",
              "\n",
              "    .dataframe tbody tr th {\n",
              "        vertical-align: top;\n",
              "    }\n",
              "\n",
              "    .dataframe thead th {\n",
              "        text-align: right;\n",
              "    }\n",
              "</style>\n",
              "<table border=\"1\" class=\"dataframe\">\n",
              "  <thead>\n",
              "    <tr style=\"text-align: right;\">\n",
              "      <th></th>\n",
              "      <th>id</th>\n",
              "      <th>amount_tsh</th>\n",
              "      <th>date_recorded</th>\n",
              "      <th>funder</th>\n",
              "      <th>gps_height</th>\n",
              "      <th>installer</th>\n",
              "      <th>longitude</th>\n",
              "      <th>latitude</th>\n",
              "      <th>wpt_name</th>\n",
              "      <th>num_private</th>\n",
              "      <th>...</th>\n",
              "      <th>payment_type</th>\n",
              "      <th>water_quality</th>\n",
              "      <th>quality_group</th>\n",
              "      <th>quantity</th>\n",
              "      <th>quantity_group</th>\n",
              "      <th>source</th>\n",
              "      <th>source_type</th>\n",
              "      <th>source_class</th>\n",
              "      <th>waterpoint_type</th>\n",
              "      <th>waterpoint_type_group</th>\n",
              "    </tr>\n",
              "  </thead>\n",
              "  <tbody>\n",
              "    <tr>\n",
              "      <th>26</th>\n",
              "      <td>16291</td>\n",
              "      <td>0.0</td>\n",
              "      <td>2013-03-13</td>\n",
              "      <td>0</td>\n",
              "      <td>-47</td>\n",
              "      <td>0</td>\n",
              "      <td>39.361223</td>\n",
              "      <td>-6.861210</td>\n",
              "      <td>Kwa Abbas Mwinyichum</td>\n",
              "      <td>0</td>\n",
              "      <td>...</td>\n",
              "      <td>never pay</td>\n",
              "      <td>salty</td>\n",
              "      <td>salty</td>\n",
              "      <td>dry</td>\n",
              "      <td>dry</td>\n",
              "      <td>machine dbh</td>\n",
              "      <td>borehole</td>\n",
              "      <td>groundwater</td>\n",
              "      <td>other</td>\n",
              "      <td>other</td>\n",
              "    </tr>\n",
              "    <tr>\n",
              "      <th>52</th>\n",
              "      <td>61610</td>\n",
              "      <td>0.0</td>\n",
              "      <td>2011-07-22</td>\n",
              "      <td>Government Of Tanzania</td>\n",
              "      <td>0</td>\n",
              "      <td>DWE</td>\n",
              "      <td>30.893949</td>\n",
              "      <td>-1.478067</td>\n",
              "      <td>Kwanovati</td>\n",
              "      <td>0</td>\n",
              "      <td>...</td>\n",
              "      <td>never pay</td>\n",
              "      <td>soft</td>\n",
              "      <td>good</td>\n",
              "      <td>dry</td>\n",
              "      <td>dry</td>\n",
              "      <td>river</td>\n",
              "      <td>river/lake</td>\n",
              "      <td>surface</td>\n",
              "      <td>communal standpipe</td>\n",
              "      <td>communal standpipe</td>\n",
              "    </tr>\n",
              "    <tr>\n",
              "      <th>62</th>\n",
              "      <td>63098</td>\n",
              "      <td>0.0</td>\n",
              "      <td>2011-03-14</td>\n",
              "      <td>Healt</td>\n",
              "      <td>1384</td>\n",
              "      <td>Healt</td>\n",
              "      <td>34.714240</td>\n",
              "      <td>-9.805399</td>\n",
              "      <td>none</td>\n",
              "      <td>0</td>\n",
              "      <td>...</td>\n",
              "      <td>on failure</td>\n",
              "      <td>soft</td>\n",
              "      <td>good</td>\n",
              "      <td>dry</td>\n",
              "      <td>dry</td>\n",
              "      <td>river</td>\n",
              "      <td>river/lake</td>\n",
              "      <td>surface</td>\n",
              "      <td>communal standpipe</td>\n",
              "      <td>communal standpipe</td>\n",
              "    </tr>\n",
              "    <tr>\n",
              "      <th>80</th>\n",
              "      <td>24756</td>\n",
              "      <td>0.0</td>\n",
              "      <td>2011-03-07</td>\n",
              "      <td>District Council</td>\n",
              "      <td>-14</td>\n",
              "      <td>DWE</td>\n",
              "      <td>38.933308</td>\n",
              "      <td>-5.567187</td>\n",
              "      <td>Baalii Sudi</td>\n",
              "      <td>0</td>\n",
              "      <td>...</td>\n",
              "      <td>never pay</td>\n",
              "      <td>salty</td>\n",
              "      <td>salty</td>\n",
              "      <td>enough</td>\n",
              "      <td>enough</td>\n",
              "      <td>shallow well</td>\n",
              "      <td>shallow well</td>\n",
              "      <td>groundwater</td>\n",
              "      <td>other</td>\n",
              "      <td>other</td>\n",
              "    </tr>\n",
              "    <tr>\n",
              "      <th>108</th>\n",
              "      <td>69604</td>\n",
              "      <td>0.0</td>\n",
              "      <td>2013-02-07</td>\n",
              "      <td>Lga</td>\n",
              "      <td>320</td>\n",
              "      <td>LGA</td>\n",
              "      <td>39.190458</td>\n",
              "      <td>-11.014937</td>\n",
              "      <td>Shuleni</td>\n",
              "      <td>0</td>\n",
              "      <td>...</td>\n",
              "      <td>unknown</td>\n",
              "      <td>soft</td>\n",
              "      <td>good</td>\n",
              "      <td>dry</td>\n",
              "      <td>dry</td>\n",
              "      <td>spring</td>\n",
              "      <td>spring</td>\n",
              "      <td>groundwater</td>\n",
              "      <td>communal standpipe multiple</td>\n",
              "      <td>communal standpipe</td>\n",
              "    </tr>\n",
              "  </tbody>\n",
              "</table>\n",
              "<p>5 rows × 40 columns</p>\n",
              "</div>\n",
              "    <div class=\"colab-df-buttons\">\n",
              "\n",
              "  <div class=\"colab-df-container\">\n",
              "    <button class=\"colab-df-convert\" onclick=\"convertToInteractive('df-104a9d4b-195d-4a2f-ba34-dc9a94bf3f90')\"\n",
              "            title=\"Convert this dataframe to an interactive table.\"\n",
              "            style=\"display:none;\">\n",
              "\n",
              "  <svg xmlns=\"http://www.w3.org/2000/svg\" height=\"24px\" viewBox=\"0 -960 960 960\">\n",
              "    <path d=\"M120-120v-720h720v720H120Zm60-500h600v-160H180v160Zm220 220h160v-160H400v160Zm0 220h160v-160H400v160ZM180-400h160v-160H180v160Zm440 0h160v-160H620v160ZM180-180h160v-160H180v160Zm440 0h160v-160H620v160Z\"/>\n",
              "  </svg>\n",
              "    </button>\n",
              "\n",
              "  <style>\n",
              "    .colab-df-container {\n",
              "      display:flex;\n",
              "      gap: 12px;\n",
              "    }\n",
              "\n",
              "    .colab-df-convert {\n",
              "      background-color: #E8F0FE;\n",
              "      border: none;\n",
              "      border-radius: 50%;\n",
              "      cursor: pointer;\n",
              "      display: none;\n",
              "      fill: #1967D2;\n",
              "      height: 32px;\n",
              "      padding: 0 0 0 0;\n",
              "      width: 32px;\n",
              "    }\n",
              "\n",
              "    .colab-df-convert:hover {\n",
              "      background-color: #E2EBFA;\n",
              "      box-shadow: 0px 1px 2px rgba(60, 64, 67, 0.3), 0px 1px 3px 1px rgba(60, 64, 67, 0.15);\n",
              "      fill: #174EA6;\n",
              "    }\n",
              "\n",
              "    .colab-df-buttons div {\n",
              "      margin-bottom: 4px;\n",
              "    }\n",
              "\n",
              "    [theme=dark] .colab-df-convert {\n",
              "      background-color: #3B4455;\n",
              "      fill: #D2E3FC;\n",
              "    }\n",
              "\n",
              "    [theme=dark] .colab-df-convert:hover {\n",
              "      background-color: #434B5C;\n",
              "      box-shadow: 0px 1px 3px 1px rgba(0, 0, 0, 0.15);\n",
              "      filter: drop-shadow(0px 1px 2px rgba(0, 0, 0, 0.3));\n",
              "      fill: #FFFFFF;\n",
              "    }\n",
              "  </style>\n",
              "\n",
              "    <script>\n",
              "      const buttonEl =\n",
              "        document.querySelector('#df-104a9d4b-195d-4a2f-ba34-dc9a94bf3f90 button.colab-df-convert');\n",
              "      buttonEl.style.display =\n",
              "        google.colab.kernel.accessAllowed ? 'block' : 'none';\n",
              "\n",
              "      async function convertToInteractive(key) {\n",
              "        const element = document.querySelector('#df-104a9d4b-195d-4a2f-ba34-dc9a94bf3f90');\n",
              "        const dataTable =\n",
              "          await google.colab.kernel.invokeFunction('convertToInteractive',\n",
              "                                                    [key], {});\n",
              "        if (!dataTable) return;\n",
              "\n",
              "        const docLinkHtml = 'Like what you see? Visit the ' +\n",
              "          '<a target=\"_blank\" href=https://colab.research.google.com/notebooks/data_table.ipynb>data table notebook</a>'\n",
              "          + ' to learn more about interactive tables.';\n",
              "        element.innerHTML = '';\n",
              "        dataTable['output_type'] = 'display_data';\n",
              "        await google.colab.output.renderOutput(dataTable, element);\n",
              "        const docLink = document.createElement('div');\n",
              "        docLink.innerHTML = docLinkHtml;\n",
              "        element.appendChild(docLink);\n",
              "      }\n",
              "    </script>\n",
              "  </div>\n",
              "\n",
              "\n",
              "<div id=\"df-b80bc4ed-4203-4667-9eeb-bcc6e28031f0\">\n",
              "  <button class=\"colab-df-quickchart\" onclick=\"quickchart('df-b80bc4ed-4203-4667-9eeb-bcc6e28031f0')\"\n",
              "            title=\"Suggest charts\"\n",
              "            style=\"display:none;\">\n",
              "\n",
              "<svg xmlns=\"http://www.w3.org/2000/svg\" height=\"24px\"viewBox=\"0 0 24 24\"\n",
              "     width=\"24px\">\n",
              "    <g>\n",
              "        <path d=\"M19 3H5c-1.1 0-2 .9-2 2v14c0 1.1.9 2 2 2h14c1.1 0 2-.9 2-2V5c0-1.1-.9-2-2-2zM9 17H7v-7h2v7zm4 0h-2V7h2v10zm4 0h-2v-4h2v4z\"/>\n",
              "    </g>\n",
              "</svg>\n",
              "  </button>\n",
              "\n",
              "<style>\n",
              "  .colab-df-quickchart {\n",
              "      --bg-color: #E8F0FE;\n",
              "      --fill-color: #1967D2;\n",
              "      --hover-bg-color: #E2EBFA;\n",
              "      --hover-fill-color: #174EA6;\n",
              "      --disabled-fill-color: #AAA;\n",
              "      --disabled-bg-color: #DDD;\n",
              "  }\n",
              "\n",
              "  [theme=dark] .colab-df-quickchart {\n",
              "      --bg-color: #3B4455;\n",
              "      --fill-color: #D2E3FC;\n",
              "      --hover-bg-color: #434B5C;\n",
              "      --hover-fill-color: #FFFFFF;\n",
              "      --disabled-bg-color: #3B4455;\n",
              "      --disabled-fill-color: #666;\n",
              "  }\n",
              "\n",
              "  .colab-df-quickchart {\n",
              "    background-color: var(--bg-color);\n",
              "    border: none;\n",
              "    border-radius: 50%;\n",
              "    cursor: pointer;\n",
              "    display: none;\n",
              "    fill: var(--fill-color);\n",
              "    height: 32px;\n",
              "    padding: 0;\n",
              "    width: 32px;\n",
              "  }\n",
              "\n",
              "  .colab-df-quickchart:hover {\n",
              "    background-color: var(--hover-bg-color);\n",
              "    box-shadow: 0 1px 2px rgba(60, 64, 67, 0.3), 0 1px 3px 1px rgba(60, 64, 67, 0.15);\n",
              "    fill: var(--button-hover-fill-color);\n",
              "  }\n",
              "\n",
              "  .colab-df-quickchart-complete:disabled,\n",
              "  .colab-df-quickchart-complete:disabled:hover {\n",
              "    background-color: var(--disabled-bg-color);\n",
              "    fill: var(--disabled-fill-color);\n",
              "    box-shadow: none;\n",
              "  }\n",
              "\n",
              "  .colab-df-spinner {\n",
              "    border: 2px solid var(--fill-color);\n",
              "    border-color: transparent;\n",
              "    border-bottom-color: var(--fill-color);\n",
              "    animation:\n",
              "      spin 1s steps(1) infinite;\n",
              "  }\n",
              "\n",
              "  @keyframes spin {\n",
              "    0% {\n",
              "      border-color: transparent;\n",
              "      border-bottom-color: var(--fill-color);\n",
              "      border-left-color: var(--fill-color);\n",
              "    }\n",
              "    20% {\n",
              "      border-color: transparent;\n",
              "      border-left-color: var(--fill-color);\n",
              "      border-top-color: var(--fill-color);\n",
              "    }\n",
              "    30% {\n",
              "      border-color: transparent;\n",
              "      border-left-color: var(--fill-color);\n",
              "      border-top-color: var(--fill-color);\n",
              "      border-right-color: var(--fill-color);\n",
              "    }\n",
              "    40% {\n",
              "      border-color: transparent;\n",
              "      border-right-color: var(--fill-color);\n",
              "      border-top-color: var(--fill-color);\n",
              "    }\n",
              "    60% {\n",
              "      border-color: transparent;\n",
              "      border-right-color: var(--fill-color);\n",
              "    }\n",
              "    80% {\n",
              "      border-color: transparent;\n",
              "      border-right-color: var(--fill-color);\n",
              "      border-bottom-color: var(--fill-color);\n",
              "    }\n",
              "    90% {\n",
              "      border-color: transparent;\n",
              "      border-bottom-color: var(--fill-color);\n",
              "    }\n",
              "  }\n",
              "</style>\n",
              "\n",
              "  <script>\n",
              "    async function quickchart(key) {\n",
              "      const quickchartButtonEl =\n",
              "        document.querySelector('#' + key + ' button');\n",
              "      quickchartButtonEl.disabled = true;  // To prevent multiple clicks.\n",
              "      quickchartButtonEl.classList.add('colab-df-spinner');\n",
              "      try {\n",
              "        const charts = await google.colab.kernel.invokeFunction(\n",
              "            'suggestCharts', [key], {});\n",
              "      } catch (error) {\n",
              "        console.error('Error during call to suggestCharts:', error);\n",
              "      }\n",
              "      quickchartButtonEl.classList.remove('colab-df-spinner');\n",
              "      quickchartButtonEl.classList.add('colab-df-quickchart-complete');\n",
              "    }\n",
              "    (() => {\n",
              "      let quickchartButtonEl =\n",
              "        document.querySelector('#df-b80bc4ed-4203-4667-9eeb-bcc6e28031f0 button');\n",
              "      quickchartButtonEl.style.display =\n",
              "        google.colab.kernel.accessAllowed ? 'block' : 'none';\n",
              "    })();\n",
              "  </script>\n",
              "</div>\n",
              "\n",
              "    </div>\n",
              "  </div>\n"
            ],
            "application/vnd.google.colaboratory.intrinsic+json": {
              "type": "dataframe",
              "variable_name": "X_test_nf"
            }
          },
          "metadata": {},
          "execution_count": 12
        }
      ]
    },
    {
      "cell_type": "markdown",
      "metadata": {
        "id": "NsQiZyW5m4Yp"
      },
      "source": [
        "**Task 10:** Limit `X_test_nf` to the 100 pumps with the largest associated populations."
      ]
    },
    {
      "cell_type": "code",
      "metadata": {
        "id": "rAt3-omcm4Yp",
        "outputId": "1e3c2c12-039b-44b9-d4e2-b527fcb5609c",
        "colab": {
          "base_uri": "https://localhost:8080/"
        }
      },
      "source": [
        "X_test_nf = X_test[non_func_probs > 0.99444]\n",
        "print(X_test_nf.shape)"
      ],
      "execution_count": 13,
      "outputs": [
        {
          "output_type": "stream",
          "name": "stdout",
          "text": [
            "(100, 40)\n"
          ]
        }
      ]
    },
    {
      "cell_type": "markdown",
      "metadata": {
        "id": "Cn8OaCQ9m4Yp"
      },
      "source": [
        "# VII. Communicate Results\n",
        "\n",
        "**Task 11 (`stretch goal`):** Create a scatter plot with the location of the 100 pumps in `X_test_nf`.\n",
        "\n",
        "**Note:** If you want to make this a **`super stretch goal`**, create a Mapbox scatter plot using [Plotly](https://plotly.github.io/plotly.py-docs/generated/plotly.express.scatter_mapbox.html)."
      ]
    },
    {
      "cell_type": "code",
      "metadata": {
        "id": "e06_jySzm4Yp",
        "outputId": "1f22887a-b72c-4a3a-d9ca-d52db647e68d",
        "colab": {
          "base_uri": "https://localhost:8080/",
          "height": 617
        }
      },
      "source": [
        "import plotly.express as px\n",
        "\n",
        "# Scatter plot on Mapbox\n",
        "fig = px.scatter_mapbox(\n",
        "    X_test_nf,\n",
        "    lat=\"latitude\",\n",
        "    lon=\"longitude\",\n",
        "    zoom=4,\n",
        "    height=600,\n",
        "    title=\"Top 100 Most At-Risk Non-Functional Pumps\",\n",
        "    color_discrete_sequence=[\"red\"]\n",
        ")\n",
        "\n",
        "# Use open-street-map style (free & public)\n",
        "fig.update_layout(mapbox_style=\"open-street-map\")\n",
        "fig.update_layout(margin={\"r\":0,\"t\":30,\"l\":0,\"b\":0})\n",
        "fig.show()"
      ],
      "execution_count": 14,
      "outputs": [
        {
          "output_type": "display_data",
          "data": {
            "text/html": [
              "<html>\n",
              "<head><meta charset=\"utf-8\" /></head>\n",
              "<body>\n",
              "    <div>            <script src=\"https://cdnjs.cloudflare.com/ajax/libs/mathjax/2.7.5/MathJax.js?config=TeX-AMS-MML_SVG\"></script><script type=\"text/javascript\">if (window.MathJax && window.MathJax.Hub && window.MathJax.Hub.Config) {window.MathJax.Hub.Config({SVG: {font: \"STIX-Web\"}});}</script>                <script type=\"text/javascript\">window.PlotlyConfig = {MathJaxConfig: 'local'};</script>\n",
              "        <script charset=\"utf-8\" src=\"https://cdn.plot.ly/plotly-2.35.2.min.js\"></script>                <div id=\"80b5aab3-a5c5-4e2a-89dd-11c2c8681d59\" class=\"plotly-graph-div\" style=\"height:600px; width:100%;\"></div>            <script type=\"text/javascript\">                                    window.PLOTLYENV=window.PLOTLYENV || {};                                    if (document.getElementById(\"80b5aab3-a5c5-4e2a-89dd-11c2c8681d59\")) {                    Plotly.newPlot(                        \"80b5aab3-a5c5-4e2a-89dd-11c2c8681d59\",                        [{\"hovertemplate\":\"latitude=%{lat}\\u003cbr\\u003elongitude=%{lon}\\u003cextra\\u003e\\u003c\\u002fextra\\u003e\",\"lat\":[-11.01493685,-10.88880068,-9.62385423,-6.39568039,-10.38665425,-6.2226016,-5.96045209,-7.46618091,-10.85791917,-10.8643987,-10.82667589,-5.01525708,-4.53307775,-10.54103451,-7.1247044000000015,-10.07894219,-9.90625695,-7.42405318,-9.91297942,-5.57602444,-4.77048584,-6.24763263,-1.31111511,-10.33820277,-10.87172075,-2e-8,-6.02401506,-11.01105112,-8.009665400000001,-10.52012219,-10.87068222,-6.02207627,-6.06443535,-5.80839445,-10.77028374,-2e-8,-4.86063407,-10.83124009,-10.74768015,-5.81709914,-10.58286894,-10.76524143,-9.57717667,-2e-8,-10.70691637,-2e-8,-10.38532327,-6.58173828,-9.57867907,-6.1011235,-10.83614259,-4.96723131,-4.69234189,-10.81189151,-10.86051446,-5.18924724,-2e-8,-10.83066375,-6.05168453,-6.41332573,-5.81072658,-9.34883758,-11.11221997,-10.74470298,-6.31086833,-5.8136619000000005,-11.1106372,-10.66538835,-10.82310395,-11.31497124,-5.1193162,-10.63776931,-10.66747227,-10.363795,-6.25174075,-10.78702841,-6.06385222,-8.04987269,-10.11442079,-4.8476871,-10.90308413,-11.22368229,-10.77508095,-10.91590411,-6.25282121,-10.87378956,-10.95508611,-8.08079413,-2.9586904,-10.89400327,-10.57210351,-2e-8,-10.71446824,-10.56621899,-6.28653036,-6.05579137,-10.85163769,-10.66544438,-5.797644,-8.85605778],\"legendgroup\":\"\",\"lon\":[39.1904578,38.42302838,33.87540675,35.74741993,38.69252092,36.07216632,36.89460495,31.4427348,38.94573346,38.90148096,38.97928710000001,35.01948838,34.83897418,35.61926412,37.85207122,39.0281295,34.71725713,37.66608674,34.72811344,36.12824042,34.87991105,36.01533404,30.95193425,40.13582331,39.05410377,0.0,35.94078192,39.19135804,31.60769952,38.70835041,38.94906178,35.93425227,35.99032007,36.43539995,38.6209864,0.0,29.6675476,39.69430639,38.68063113,36.43083817,38.60583616,38.62406422,33.80878314,0.0,38.50530294,0.0,38.69302917,35.74317095,33.82585409,35.97332996,39.00855971,34.85957282,34.9654831,38.97192608,38.97796017,34.71408979,0.0,39.6980356,35.99117528,35.86809686,36.43478852,34.02459057,39.05690382,38.68445245,37.39539038,36.43242114,39.05610592,38.65492262,39.09073464,34.81529479,33.98129379,38.69951537,35.12775217,39.23075849,35.91026713,38.60497914,35.98332491,31.49903433,38.47682233,34.96013952,39.57054828,38.58682907,39.8123921,39.51963308,36.64750504,39.6032738,34.96638643,31.66856651,33.34559585,39.07859013,34.6326154,0.0,35.51343343,38.91727278,35.60588223,35.98818276,38.97740505,38.65492548,36.12323348,33.27509273],\"marker\":{\"color\":\"red\"},\"mode\":\"markers\",\"name\":\"\",\"showlegend\":false,\"subplot\":\"mapbox\",\"type\":\"scattermapbox\"}],                        {\"template\":{\"data\":{\"histogram2dcontour\":[{\"type\":\"histogram2dcontour\",\"colorbar\":{\"outlinewidth\":0,\"ticks\":\"\"},\"colorscale\":[[0.0,\"#0d0887\"],[0.1111111111111111,\"#46039f\"],[0.2222222222222222,\"#7201a8\"],[0.3333333333333333,\"#9c179e\"],[0.4444444444444444,\"#bd3786\"],[0.5555555555555556,\"#d8576b\"],[0.6666666666666666,\"#ed7953\"],[0.7777777777777778,\"#fb9f3a\"],[0.8888888888888888,\"#fdca26\"],[1.0,\"#f0f921\"]]}],\"choropleth\":[{\"type\":\"choropleth\",\"colorbar\":{\"outlinewidth\":0,\"ticks\":\"\"}}],\"histogram2d\":[{\"type\":\"histogram2d\",\"colorbar\":{\"outlinewidth\":0,\"ticks\":\"\"},\"colorscale\":[[0.0,\"#0d0887\"],[0.1111111111111111,\"#46039f\"],[0.2222222222222222,\"#7201a8\"],[0.3333333333333333,\"#9c179e\"],[0.4444444444444444,\"#bd3786\"],[0.5555555555555556,\"#d8576b\"],[0.6666666666666666,\"#ed7953\"],[0.7777777777777778,\"#fb9f3a\"],[0.8888888888888888,\"#fdca26\"],[1.0,\"#f0f921\"]]}],\"heatmap\":[{\"type\":\"heatmap\",\"colorbar\":{\"outlinewidth\":0,\"ticks\":\"\"},\"colorscale\":[[0.0,\"#0d0887\"],[0.1111111111111111,\"#46039f\"],[0.2222222222222222,\"#7201a8\"],[0.3333333333333333,\"#9c179e\"],[0.4444444444444444,\"#bd3786\"],[0.5555555555555556,\"#d8576b\"],[0.6666666666666666,\"#ed7953\"],[0.7777777777777778,\"#fb9f3a\"],[0.8888888888888888,\"#fdca26\"],[1.0,\"#f0f921\"]]}],\"heatmapgl\":[{\"type\":\"heatmapgl\",\"colorbar\":{\"outlinewidth\":0,\"ticks\":\"\"},\"colorscale\":[[0.0,\"#0d0887\"],[0.1111111111111111,\"#46039f\"],[0.2222222222222222,\"#7201a8\"],[0.3333333333333333,\"#9c179e\"],[0.4444444444444444,\"#bd3786\"],[0.5555555555555556,\"#d8576b\"],[0.6666666666666666,\"#ed7953\"],[0.7777777777777778,\"#fb9f3a\"],[0.8888888888888888,\"#fdca26\"],[1.0,\"#f0f921\"]]}],\"contourcarpet\":[{\"type\":\"contourcarpet\",\"colorbar\":{\"outlinewidth\":0,\"ticks\":\"\"}}],\"contour\":[{\"type\":\"contour\",\"colorbar\":{\"outlinewidth\":0,\"ticks\":\"\"},\"colorscale\":[[0.0,\"#0d0887\"],[0.1111111111111111,\"#46039f\"],[0.2222222222222222,\"#7201a8\"],[0.3333333333333333,\"#9c179e\"],[0.4444444444444444,\"#bd3786\"],[0.5555555555555556,\"#d8576b\"],[0.6666666666666666,\"#ed7953\"],[0.7777777777777778,\"#fb9f3a\"],[0.8888888888888888,\"#fdca26\"],[1.0,\"#f0f921\"]]}],\"surface\":[{\"type\":\"surface\",\"colorbar\":{\"outlinewidth\":0,\"ticks\":\"\"},\"colorscale\":[[0.0,\"#0d0887\"],[0.1111111111111111,\"#46039f\"],[0.2222222222222222,\"#7201a8\"],[0.3333333333333333,\"#9c179e\"],[0.4444444444444444,\"#bd3786\"],[0.5555555555555556,\"#d8576b\"],[0.6666666666666666,\"#ed7953\"],[0.7777777777777778,\"#fb9f3a\"],[0.8888888888888888,\"#fdca26\"],[1.0,\"#f0f921\"]]}],\"mesh3d\":[{\"type\":\"mesh3d\",\"colorbar\":{\"outlinewidth\":0,\"ticks\":\"\"}}],\"scatter\":[{\"fillpattern\":{\"fillmode\":\"overlay\",\"size\":10,\"solidity\":0.2},\"type\":\"scatter\"}],\"parcoords\":[{\"type\":\"parcoords\",\"line\":{\"colorbar\":{\"outlinewidth\":0,\"ticks\":\"\"}}}],\"scatterpolargl\":[{\"type\":\"scatterpolargl\",\"marker\":{\"colorbar\":{\"outlinewidth\":0,\"ticks\":\"\"}}}],\"bar\":[{\"error_x\":{\"color\":\"#2a3f5f\"},\"error_y\":{\"color\":\"#2a3f5f\"},\"marker\":{\"line\":{\"color\":\"#E5ECF6\",\"width\":0.5},\"pattern\":{\"fillmode\":\"overlay\",\"size\":10,\"solidity\":0.2}},\"type\":\"bar\"}],\"scattergeo\":[{\"type\":\"scattergeo\",\"marker\":{\"colorbar\":{\"outlinewidth\":0,\"ticks\":\"\"}}}],\"scatterpolar\":[{\"type\":\"scatterpolar\",\"marker\":{\"colorbar\":{\"outlinewidth\":0,\"ticks\":\"\"}}}],\"histogram\":[{\"marker\":{\"pattern\":{\"fillmode\":\"overlay\",\"size\":10,\"solidity\":0.2}},\"type\":\"histogram\"}],\"scattergl\":[{\"type\":\"scattergl\",\"marker\":{\"colorbar\":{\"outlinewidth\":0,\"ticks\":\"\"}}}],\"scatter3d\":[{\"type\":\"scatter3d\",\"line\":{\"colorbar\":{\"outlinewidth\":0,\"ticks\":\"\"}},\"marker\":{\"colorbar\":{\"outlinewidth\":0,\"ticks\":\"\"}}}],\"scattermapbox\":[{\"type\":\"scattermapbox\",\"marker\":{\"colorbar\":{\"outlinewidth\":0,\"ticks\":\"\"}}}],\"scatterternary\":[{\"type\":\"scatterternary\",\"marker\":{\"colorbar\":{\"outlinewidth\":0,\"ticks\":\"\"}}}],\"scattercarpet\":[{\"type\":\"scattercarpet\",\"marker\":{\"colorbar\":{\"outlinewidth\":0,\"ticks\":\"\"}}}],\"carpet\":[{\"aaxis\":{\"endlinecolor\":\"#2a3f5f\",\"gridcolor\":\"white\",\"linecolor\":\"white\",\"minorgridcolor\":\"white\",\"startlinecolor\":\"#2a3f5f\"},\"baxis\":{\"endlinecolor\":\"#2a3f5f\",\"gridcolor\":\"white\",\"linecolor\":\"white\",\"minorgridcolor\":\"white\",\"startlinecolor\":\"#2a3f5f\"},\"type\":\"carpet\"}],\"table\":[{\"cells\":{\"fill\":{\"color\":\"#EBF0F8\"},\"line\":{\"color\":\"white\"}},\"header\":{\"fill\":{\"color\":\"#C8D4E3\"},\"line\":{\"color\":\"white\"}},\"type\":\"table\"}],\"barpolar\":[{\"marker\":{\"line\":{\"color\":\"#E5ECF6\",\"width\":0.5},\"pattern\":{\"fillmode\":\"overlay\",\"size\":10,\"solidity\":0.2}},\"type\":\"barpolar\"}],\"pie\":[{\"automargin\":true,\"type\":\"pie\"}]},\"layout\":{\"autotypenumbers\":\"strict\",\"colorway\":[\"#636efa\",\"#EF553B\",\"#00cc96\",\"#ab63fa\",\"#FFA15A\",\"#19d3f3\",\"#FF6692\",\"#B6E880\",\"#FF97FF\",\"#FECB52\"],\"font\":{\"color\":\"#2a3f5f\"},\"hovermode\":\"closest\",\"hoverlabel\":{\"align\":\"left\"},\"paper_bgcolor\":\"white\",\"plot_bgcolor\":\"#E5ECF6\",\"polar\":{\"bgcolor\":\"#E5ECF6\",\"angularaxis\":{\"gridcolor\":\"white\",\"linecolor\":\"white\",\"ticks\":\"\"},\"radialaxis\":{\"gridcolor\":\"white\",\"linecolor\":\"white\",\"ticks\":\"\"}},\"ternary\":{\"bgcolor\":\"#E5ECF6\",\"aaxis\":{\"gridcolor\":\"white\",\"linecolor\":\"white\",\"ticks\":\"\"},\"baxis\":{\"gridcolor\":\"white\",\"linecolor\":\"white\",\"ticks\":\"\"},\"caxis\":{\"gridcolor\":\"white\",\"linecolor\":\"white\",\"ticks\":\"\"}},\"coloraxis\":{\"colorbar\":{\"outlinewidth\":0,\"ticks\":\"\"}},\"colorscale\":{\"sequential\":[[0.0,\"#0d0887\"],[0.1111111111111111,\"#46039f\"],[0.2222222222222222,\"#7201a8\"],[0.3333333333333333,\"#9c179e\"],[0.4444444444444444,\"#bd3786\"],[0.5555555555555556,\"#d8576b\"],[0.6666666666666666,\"#ed7953\"],[0.7777777777777778,\"#fb9f3a\"],[0.8888888888888888,\"#fdca26\"],[1.0,\"#f0f921\"]],\"sequentialminus\":[[0.0,\"#0d0887\"],[0.1111111111111111,\"#46039f\"],[0.2222222222222222,\"#7201a8\"],[0.3333333333333333,\"#9c179e\"],[0.4444444444444444,\"#bd3786\"],[0.5555555555555556,\"#d8576b\"],[0.6666666666666666,\"#ed7953\"],[0.7777777777777778,\"#fb9f3a\"],[0.8888888888888888,\"#fdca26\"],[1.0,\"#f0f921\"]],\"diverging\":[[0,\"#8e0152\"],[0.1,\"#c51b7d\"],[0.2,\"#de77ae\"],[0.3,\"#f1b6da\"],[0.4,\"#fde0ef\"],[0.5,\"#f7f7f7\"],[0.6,\"#e6f5d0\"],[0.7,\"#b8e186\"],[0.8,\"#7fbc41\"],[0.9,\"#4d9221\"],[1,\"#276419\"]]},\"xaxis\":{\"gridcolor\":\"white\",\"linecolor\":\"white\",\"ticks\":\"\",\"title\":{\"standoff\":15},\"zerolinecolor\":\"white\",\"automargin\":true,\"zerolinewidth\":2},\"yaxis\":{\"gridcolor\":\"white\",\"linecolor\":\"white\",\"ticks\":\"\",\"title\":{\"standoff\":15},\"zerolinecolor\":\"white\",\"automargin\":true,\"zerolinewidth\":2},\"scene\":{\"xaxis\":{\"backgroundcolor\":\"#E5ECF6\",\"gridcolor\":\"white\",\"linecolor\":\"white\",\"showbackground\":true,\"ticks\":\"\",\"zerolinecolor\":\"white\",\"gridwidth\":2},\"yaxis\":{\"backgroundcolor\":\"#E5ECF6\",\"gridcolor\":\"white\",\"linecolor\":\"white\",\"showbackground\":true,\"ticks\":\"\",\"zerolinecolor\":\"white\",\"gridwidth\":2},\"zaxis\":{\"backgroundcolor\":\"#E5ECF6\",\"gridcolor\":\"white\",\"linecolor\":\"white\",\"showbackground\":true,\"ticks\":\"\",\"zerolinecolor\":\"white\",\"gridwidth\":2}},\"shapedefaults\":{\"line\":{\"color\":\"#2a3f5f\"}},\"annotationdefaults\":{\"arrowcolor\":\"#2a3f5f\",\"arrowhead\":0,\"arrowwidth\":1},\"geo\":{\"bgcolor\":\"white\",\"landcolor\":\"#E5ECF6\",\"subunitcolor\":\"white\",\"showland\":true,\"showlakes\":true,\"lakecolor\":\"white\"},\"title\":{\"x\":0.05},\"mapbox\":{\"style\":\"light\"}}},\"mapbox\":{\"domain\":{\"x\":[0.0,1.0],\"y\":[0.0,1.0]},\"center\":{\"lat\":-8.0660603699,\"lon\":34.5309223227},\"zoom\":4,\"style\":\"open-street-map\"},\"legend\":{\"tracegroupgap\":0},\"title\":{\"text\":\"Top 100 Most At-Risk Non-Functional Pumps\"},\"height\":600,\"margin\":{\"r\":0,\"t\":30,\"l\":0,\"b\":0}},                        {\"responsive\": true}                    ).then(function(){\n",
              "                            \n",
              "var gd = document.getElementById('80b5aab3-a5c5-4e2a-89dd-11c2c8681d59');\n",
              "var x = new MutationObserver(function (mutations, observer) {{\n",
              "        var display = window.getComputedStyle(gd).display;\n",
              "        if (!display || display === 'none') {{\n",
              "            console.log([gd, 'removed!']);\n",
              "            Plotly.purge(gd);\n",
              "            observer.disconnect();\n",
              "        }}\n",
              "}});\n",
              "\n",
              "// Listen for the removal of the full notebook cells\n",
              "var notebookContainer = gd.closest('#notebook-container');\n",
              "if (notebookContainer) {{\n",
              "    x.observe(notebookContainer, {childList: true});\n",
              "}}\n",
              "\n",
              "// Listen for the clearing of the current output cell\n",
              "var outputEl = gd.closest('.output');\n",
              "if (outputEl) {{\n",
              "    x.observe(outputEl, {childList: true});\n",
              "}}\n",
              "\n",
              "                        })                };                            </script>        </div>\n",
              "</body>\n",
              "</html>"
            ]
          },
          "metadata": {}
        }
      ]
    },
    {
      "cell_type": "code",
      "source": [
        "import matplotlib.pyplot as plt\n",
        "import seaborn as sns\n",
        "\n",
        "\n",
        "# Get feature importances\n",
        "importances = model.named_steps['randomforestclassifier'].feature_importances_\n",
        "\n",
        "# Get feature names after encoding\n",
        "# Use 'ordinalencoder' instead of 'ce.ordinalencoder'\n",
        "feature_names = model.named_steps['ordinalencoder'].get_feature_names_out()\n",
        "\n",
        "# Create a DataFrame for better visualization\n",
        "feature_importance_df = pd.DataFrame({\n",
        "    'Feature': feature_names,\n",
        "    'Importance': importances\n",
        "})\n",
        "\n",
        "# Sort the features by importance\n",
        "feature_importance_df = feature_importance_df.sort_values(by='Importance', ascending=False)\n",
        "\n",
        "# Plot the top 10 most important features\n",
        "plt.figure(figsize=(10, 6))\n",
        "sns.barplot(x='Importance', y='Feature', data=feature_importance_df.head(10))\n",
        "plt.title('Top 10 Most Important Features')\n",
        "plt.show()"
      ],
      "metadata": {
        "colab": {
          "base_uri": "https://localhost:8080/",
          "height": 564
        },
        "id": "n0FmGMG0kqvR",
        "outputId": "d8e070d2-3b23-400f-da8c-6a3f0226ee30"
      },
      "execution_count": 22,
      "outputs": [
        {
          "output_type": "display_data",
          "data": {
            "text/plain": [
              "<Figure size 1000x600 with 1 Axes>"
            ],
            "image/png": "[encoded data removed]"
          },
          "metadata": {}
        }
      ]
    },
    {
      "cell_type": "markdown",
      "source": [
        "![CV Kaggle.png](data:image/png;base64,iVBORw0KGgoAAAANSUhEUgAABgYAAAJiCAYAAAAMg3luAAAAAXNSR0IArs4c6QAAAARnQU1BAACxjwv8YQUAAAAJcEhZcwAAEnQAABJ0Ad5mH3gAAOEtSURBVHhe7N0NXFR13v//d5pNYmGWuGbQjeBWqLmguUGuyc8yt1WpNbVdlTaNttRu1KuNuGqJq/6Etd5taiXp7qLupuYW6hZqXqApdHkDeQNmgmWQuWKZY2GT6f7PmTkDwzAgKCg4r6ePkTNnzpw553u+c86Zz+ec7/eC/xgEAAAAAAAAAAD8QgvrLwAAAAAAAAAA8AMkBgAAAAAAAAAA8CMkBgAAAAAAAAAA8CMkBgAAAAAAAAAA8CMkBgAAAAAAAAAA8CMkBgAAAAAAAAAA8CMkBgAAAAAAAAAA8CMkBgAAAAAAAAAA8CMkBgAAAAAAAAAA8CMkBgAAAAAAAAAA8CMkBgAAAAAAAAAA8CMkBgAAAAAAAAAA8CMkBgAAAAAAAAAA8CMkBgAAAAAAAAAA8CMkBgAAAAAAAAAA8CMkBgAAAAAAAAAA8CMkBgAAAAAAAAAA8CMkBgAAAAAAAAAA8CMkBgAAAAAAAAAA8CMkBgAAAAAAAAAA8CMkBgAAAAAAAAAA8CMkBgAAAAAAAAAA8CMkBgAAAAAAAAAA8CMkBgAAAAAAAAAA8CMkBgAAAAAAAAAA8CMkBgAAAAAAAAAA8CMkBgAAAAAAAAAA8CMkBgAAAAAAAAAA8CMkBgAAAAAAAAAA8CMkBgAAAAAAAAAA8CMkBgAAAAAAAAAA8CMkBgAAAAAAAAAA8CMkBgAAAAAAAAAA8CMkBgAAAAAAAAAA8CMkBgAAAAAAAAAA8CMkBgAAAAAAAAAA8CMkBgAAAAAAAAAA8CMkBgAAAAAAAAAA8CMkBgAAAAAAAAAA8CMkBgAAAAAAAAAA8CMkBgAAAAAAAAAA8CMkBgAAAAAAAAAA8CMX/MdgDfu3g7u1fv1GFX68W8VH2ir0huv1s5g7dEvnQGuCZujwOr2S+Ka2B9ymp16+T2H+lAY6slOZb21SmfXULeAn16tL51DdeENHtSItVpWP70B41G3qG97emqCxlOjDeWu0J/QOje4XYo1rJjzqWaeo0eof3so1vgbHC9/Tm7lfOoe79B+jW651DjawMy/P8m3LtWzLoUZcxsZg165/vqUth62nbrYr1eWnnRXa43oF2axxVdj14Z+e0WuftNbgJ6ZoaLg1+nzlV8cFu/IWzVPWwa4aPnGAmurexb5lodI+kGLGjlJkY5xy2POVPi9bZeHDNPnOYGtk81SyarqWFDaN7bk/e77WFltPKgSoU5duCgu/Xte0r/14cEru40tzPDbWke8y9K15HY/OleM6sneT1md9ZJzLfa5Dtva68WcR6tv3NoV1OLP66NpW7dXr3iG6sa01srGdreOVP/9eAgAAfo9Tn5N27VqYrPjEGZqfuVkffmZX2eESfZj7vl5LeUrxz7ypXUesaZubQ1+q6LjxM+HoVzpi/PUrx0q0JXez1no9VryzUNOmGdt7/FOav/6QNfHpM38oLZi3vPnWEdPJQ9o+71mf34H504zxjf4dOKQ95vb5+My3x1nnUc8W/HOdai+m49q+ZnlFXdzztTW6wZ15eX5Xkt/Iy9gYyrU/z1W2VR7Zy/Xa3Bl6cvxjSnxto8qq7QsP6YtSY6RxLCjzhx2lXx0XHNqzdo5mvZJXLUnclDg+W2cs4zrtKbdGNLTyImW/YpRDflMuhbopy2862/PIxz72N7nrtCB9tpISHtOT09ap7KQ18elwH1+a47GxjnyXoe9H8zoenQMnD2jtC5P1eMpCLcvdqaLy4/ru4F6tz1ymFxIna8pbe42j5Olzbat87T9mjTgbztbxyp9/LwEAAL/n54mBY9o19zlNyT4gdbxVDydO0V/feNX1ePlJPRzVXjqwTlOS5mpXY/1gb0xd7tOfZkzRnBkPqafPK2X9QK+HKrfpq9M0Z2qinhlxq66RXevTn9ULK41tfwbOyQ+lBmV+B1I0LffQKb4D87XLYb0F1TjvPvlsnXJLXM99OrxO7++wpkUjitBT7jr8xp+VNnWKUiYN1cCO0v4tC5WY8p5XsK6zhk4x9w3TjPp+hlf4NgccF4AG1FGjX3Dvb4yHeZ6R9JAGX9tKZYVv6oWFu63p4MuND3uUnfl4YYjCzBc8z92sx+hI51vg03Ht+stLWvDZcV0TNUYvz35VabONujjX+Js8Rv07GK9nvqz0jc3sZPVsHa84LgIAAD/m1yGq43kL9MqWY2oVMkQp/zOqarNB7TrrlrHPK+XuELX6Nl+v/WOncdrd/LS6JFABAX4Q7KqLVq0V0DZEYXeMUvLUJzW4o1T0zkt6s9B63Q/V6TswyCiobzdrwYraot7+7Zru3dRJh7Q8q+Yg0P6167RL7dWzu1GeOEtaqVXbQHUKv133vTBFyf076njJ8urBOpu5b2htPTn/cVwAGol5nhESoaGJD2lggHRkg7HfP5O7BnDunDyu4zWc+B93NLFfBCc/Um7uMenaoZo09uYqzea1uupmjX5yqG40hj/csOmM7ho4M0Z51nSBSS3lebaOVxwXAQCAv/LjxIBdue/mGyfIHXXf73+poBpKImjQaA1tb/y4y31PW612Qo6sSdHvHnxE09baXSO87H/rWefrr+V6nOietGvfytlKHP+I87XfPfiYHn9hrtbv8bp658B7esF8/bXNOrJpoV6wpl+QZ7x2cqfefMx4/thCFbmmrsqxWa89ZLyesEz7nSPytcCc1zPvVb/t/uBmvfnCJMU7l+URxY9/VtMWGp/p8QN212vma8la631Rfd5c1/umrPP6gWHXh1PM98zW1qZ+dXlAZw0dc7s66ZjWrt1cNelz/JC2L3zZY1sZ5fNEit40r6p3M8rAHD9li/nkgBY845rOuZ3c6jKfc6qO34EhQ9TfeG3//22y6pXbcZXlLtSUJx6r2/q5vwOPWOXx0GN64S9V61w1dainTcJ1vdXX2E+Ub9msIp/LVqLtW4xyaf8z3XydNaqapl+e5Xve1/ykxyre/7tHntK0t3aqvKltD59a65oR1v58w/tV9lG+93XHtG/N3Ip9sLO8nnxZK7b53u97l+3vHpmkKcb2qNp0US375Bpfq8dyHNqsZVOeqlwGs068tk7767oMR3Zr7cxnNc48jljvT5z5nvZVayPLmsdr+cZ7dmqZR52If3K21nof15oTe6EWPztcvbt10XWdjUfPgXokdYWKfEXTTpQpZ+4kDY3u5prWePS4Y7xmbaihoZsDuZoVH60b3NMOTdbiT2o5WJ6wq+CtZI/599Qdj6Qqo9p78pVivj5mqYo+WaqkoT2d0495y8dylK6ueP26zt3UO97X/CzeZdEtWkOfXaqCGr4C9sIVSnlkoHo4513z9GVvxTtfT8k1yu+VeGv+qfI8fNoLK9fDtZxzlFNDsTZJLbqph9lfyckvtf+ga1Tl+Z3xvfFW22vVVD9WjEt4Wcs2+T5WNO/9tg/e+ylzX/va+9rn6ztqHieN/WeV46px3Htt5e5q619xHPjigD6caexHjf1fvHF8NZtTdH7/j5dovTneOQ9jfkY5vlbtBPkcOXTIdX52eVv5bP6/3W2aNHWK5oyPVoA1qmxlsrM8qpy3Wmp7zTwmFS1M9ih/oz75OI+onId7eqM8jeNY/OQZ+vALYwJj25hNuTrnY5anebxaaNRL19st5/lx0WzK0/yd4D6PMx7jkubqw5IqCwcAANCo/DcxcCRfWz4z/nbpp6haL+ANUc8+5gR79dFO14la29636ibj7/bcTT7aFLcCgMaPwpsjrStPzHY/U55R0js79U37buofdbP6R4aozRf5mj/lv50nzdV8tlxT5m5S2ZXm9BG65lJjnDHPXr1aG7/y8rRlh2syT8fzNmmrcWLeqVdvdbLG+VKeN19PPjNfmV+00o2RxrIYy9Oz/RHtyp6v/3reOCm2Tu7Duncz/j+gbV6/6ot2fuwKpO/ZXTUIapRpzh7jb5duurE53Irb+Vb1Nzbt8W35lVf0ObfVs5qWvVdl7YyyHzhUYwZG6MaWJcqcZ4x3J4Muv95Zbje1N5+0VlgPVzl2udz5at3ncy7V9TvQIkKj576qv7481KNeHdOuec8ocd5GFbUMUV+zThv11L1+T84zEw6eXM12md+Bsks6u6b/+fU6vmm+/vi3An1nTeWprvW0abD2E+Ub9f7/+fhBt2Odlhu7BfO7ebU1qqpmUJ6FC/X0lGVaf/AK9TTq86SHhmpwiLQrc7ae/kszuaOqRWfdYm6nkzu1bZs1rgZF6f+tpMX52md8f4eOGKNJI27TjSf3atkrz2nBtqprW1G2n1eWbd+QViraOF+JCQvPqBmuOi/H4XWaljhfK4qlG6OG6OGHRml05BXat+VNJZnNJ1mT1eiL9zQlYYYW7DiioK6udejf9QqV7ViupIQUrTUDOd5OFujNpNn60NbNWQf7dgk0lmOnFrw8vXpCuTkoXaFHYmKV8Haput0zThMeHaf4foHO4P8dsanK8/wSnijV4odjNNJMGoQN04Tnp2nG82MVY1unqXExeuJdr3186VKNuT1OU3Ol6JGueY8IzlPSr5/W4hIfFcSYf8bjMRr0h6Uq6WrM35h+wpjbFLhpnp4YGKuULT7e89VSPfXrZL3X8jbFG9NX269/vUopD0zSe5cPseY3QB1ya5ifuywWFauLVRYT7glT0aJEDYoZr4xSazqLY0uqhg6apLQPbIoZk6DUmSlKdE8/dI4KTlgTetj6p/Ea+dcS9TTnP6ar3PerueaVqPTPQhU7xvzssfqlY55G/naOcs7gu3S2HW+UY5THsaKV+1jRTZ2O7tWKuT6aRzwf9tue3PupgiPqZO2n+l5r7Gu3LFNSonezn9Zx0th/Oo+r/YZozN23qWe7I/rwnRl62mczT+XKfWO6ln0XqiF3D9Fg8w4/sznFee9p7bQULfi8vfrfPVSjozob50N2ffiPl6odD86JDp0VZkb8P1qjTJ9BZdfdcwGXnOkV8T9q3zvTNWVjucJ+5ir/W644pu21nEfsWzFd0z42ym3IEA2N7KzLju7Wa68s09qFzxnzkW4aYJ4fd1NYq+Mqyp6tae+e+uBxfhwXjfrzsut3wvGQmzU6bowevjtCQQfz9drzLzfPYygAAGiW/Dcx8NUhfWn8Cbo2pOLqmZoEhYQYp9TSocNfuUa0jdZtPYy/n23UFu8Tt72btPaQFBBl/PiwguNHshbozc+OK+zuJM1JHq/RY8do9LgnlZI6Rn0Djmlt+rLqVxkfulA9n5qimc+Y0z9knFi6RofF3Oq6yn2j91Vlx7V9k/kjL0QD+xu/+mpycreWp29WWUCEnpo6RZPGGctiLM/DyVOVfJermY0FWa6ARqteP9Mtxt/tO3d4/Hjcq107jimgY0cF6WMVfmyNNhzfuVPbjb839Yo4ZZk2DR3VyXn19pcqs67oO/6JsU0Pt1LbXg9p5gtG2d97u/re+5AmPW9uK6MsMte4rsq69jZnuf3yWvNJW0UNc5XjLc7n9ZjPuVSP70A1hcv0Wq5RT8wmiF5+UmPMOm3U00kvJ2m0Uf3KchdouUcTTcdz52vaFqPeRI7RzCnu6ccreepD6rVtoz60pqtQj3raVATdeqvrVv31OV5BfGnXxo3GuI7q36eG72YzKM/t2Rt1xNi/jElJ0sNGfb6p9+0amvicHo00fvR+uVNF31oTNnHu/fn+g7X86j65WevXu5pl+JPx/R18x8266Y77XN/ftsZ7d+yu3MbusjXKZnRSZdmOSZzibIpORzaefjNc9ViOsnXva/vJ1hr4qLEMY3+pW3rfqv4PJyllkLG+x3ZrV62LYNeHC5dr1/HW6j9uipIfd63D6MeTNHNchNoeL9GbC310rp23Ud/8eopeTnzItc7GMcvZ/N7JEi1b3dzaVrcr8+Wnlenop9TMHM1/fqImT5yoxKlL9EH6WIUUz9NTf6v8Ejp2Zyv7M5vCHlqiTelJmjxysGJHJmjGkjTFBzuU8fpyjzv7SpX+eKKyyvsp+V8e856ZoTXPHdWsV3Kt6SrZV03TU+86FPNSpjalGfM3pp/8zDQty0o35l+stKfnVQ+27yhTt5lZ2rRkmhKN6eP7BFkvWN5aqKLfV53fyswUxQR4z88qi8Ohil+So0XW8k5+Pt2Y91iFHV6tp15ebUzlVqacf+XpSDuz7DI045mxGjF4mOKN6Vem9JOKp2vJB9Uj+nlt79SaDzL1qjn/Zwa72pZ35Crld/NUFDxWi7KWGPNyfXZyeo6W9V+uqX9zvrXpK9+sLeb5UUCorungGtUgrGNFgHluUXGsGK9nZiTqvo5S0fIF+vCwNa3hfNlvu1j7qRPmvvbPesbaT5n7nZljjfNOs9nPtzz2OwfztO6zH11NJZplNeqX6jvoPj38P66yOrK+6p1jLnaV//T3zn3a4EG/1FBjH5h8R3sd32YcI4/+0jmf+wbdrv5jjXP4J627Tjd+ZL33XLpeQ35n7KuNfe+byZOVOGW+1m7aqyMNnkg7pPUft3fefVBxHvHCFD3Vq3WN5xH7LrtNf/qf8RpqlOdg47dP8v3d1OrQ+1qw5QZjPq562fdeow6/PEq3GL9KizZsqj1gf74cF7/I1nt7jF3EreONaceof9+bdcugh5T8zC8V1uqYCnfQfCcAADg7/Dcx8M1XzhPPtm3qEBL9yZW6xvhTVGqGUU2t1PPWCOP/A1q7oeqJW9GGjcZ8A/XL28yr7U0HtCVrr463u11jzLbaPbW9WYMHGOO+3ahc7zsAut+uIV18tHkdYl3lnpdT9QfNkRytM+fR/TZFtXON8umjdVpr/BC8ZdgDurHKqrdSp7tdTcZsN9bBeaJr666fmQmJgoLKxMWB3dpm/OiM+vUQ3dTimLbu2Gu9YKz7jp3G/x3Vo6v7ur+mr/1PzG3yY0U7sq1uGKqnZvxZMx/2Sm4E/Ey9zLI4/FX1HwE+NNR8GlV9vgNVHNfWtWYdaa+hY7yaIGrRUf2rNdFUmbS67zc3K8Bz+oAI3TfC+JFoPa1Qn3raVLTrrdvMbbvHTAq5Rjk5NmudeTv+tbeql9cuwKU5lKdd5UetwSpa6ybjB/PMZ+7TjZdYo5o6a39e/r3HVYXejpbrG2uwioCbNWbqND01qlvF9/r4/73vLNtOA0ar/1XWSEvQoAlKTnxeybG1JGtrU4/lOGL3dZ+IsQx3J2pO6hPqW9silKzR8j1GbejxG90XWfW4ExD5gOJ6GOu55/3qnWsbx7Uhfavu74PuuE09jb/lXx6oliBr0g6s0pIVDnV9MkEjgq1xlsA+YzW+n3GMm72qorkbW/govbpmq9YkRKjKDXIBUerX3/i7o7QycF6crSX5xuF74kTFmZXPQ8i9SUqMsJ5UKNN7b62Qo3uCEu/1XpgoxT9mBtvnKNPMxHvqPlaj+3slAzwFj9Pke7zmFzxMiU+GV53fvuVKM8rCdn+SJveqevufrddEJd9vk2PFG3pnnzVSQYpJWqJNW9OqlV1I1G0y+4wtOVQ9YBgXN8p1lbMHR+5qpRsVZ+CT4xRdpWrZFDkxSXFe0597P6r8G2P/eMT12F+4WdvXvKlpz87XemM9wgberjDPffQZ2rXe3E93U9wDXucWrUI08NfGeenJvXq/ovm582i/bTqwUe8b+6mg/vdV29cGRA3RUOP4esQ4ju2yxqnDrXo49c9KS6p+XL0p0rzd85C+8TxWO7VX376drWGXTl1cO8+wW3pXnU/nzs6LAbT/UO2B7LMkIPIhzUwZo4FG2ZTt2awFc1/W4+OtZqbWlzRY01E3/sqoN1UqX2vd+MBQ14VEPs4joqJurXKeEhDa2XkMVvjNuslzPgGh6mIm0Q4eMLZMLc6X46Kxv/BZb64aomdmP69H7zjN8wYAAIB6asCfK+exE8edAbmAAI8z2J9Fq7/xdP8Wj3bXT+7Uli3HjN8VvdXT/bvCUaw95oWp7Y7r0CbjB6PX48ujrnnuK/G6etUWUD2459RRvW4zThaNz9qcVxnYOrJpo/Nq/Vt6967hfS779xQb6xKoi45+VG1Ztm/5SsfNxklLSqx1CtSNkeZnfaxt1p0B5QU7VaTO6hLaTeFdjR8fO3ZbJ7a7tc28mLJjb93kM/jZNB3/zjxFv1CtfBTa8W+tH/nr39OyOeatxNYL9dRQ82k6jPrxufGn3c90k6/fLSERzuTU8c8/t+rGXhnVzviR3k03+khatQo3xlvDbvWrp01FoHr2NYPyJcpcW/lL8cj6NfrQ+EF+S//bfLf92yzK09gX9OrsXLf5icmav3KjikqONVJTGY2svNwZuAi4uJY9ZdsIRZtJns+W6b+emau163dr/7e+EwllxnYxyzbK3FdWE6hOndv73L/UST2WI6xXpFG/jinzFbO95/e1a++hGjvO9Hb88wPObd8z8mc+jh+tdFOkmeg+pM8+95qhr+OUMa6N+fdouc8mrZoqx8eFyjL+hpw4qJwNuV6PItnNQ3V5oet47sVht6tkhzHd2qVKe2GSUpZaL1jsu/NUYPwd2MtsdN5bsHre7hVNdxSoMNv4G+LQwWrLkqs99ovMiVRQ7BVWusJWwz7GMiBCXVtawx7CukYZ/1fOz/FpsTMBMuK2yKpJDyebet42zPibr+JPfVyOfMIh+wHj/cZyZiyarqRnp1fpO8CT7ZLqcy/aZa54lPpF+LjAwNZVUWbSpUk5pGV/ekrjJrseidPma9riddp+1Dge3P2kJt3VkCdEe1Vk7vvbtdJ327z24+bjoHSZ8XLR5+7jz3m03zYcLzbW3/jb/uRX1dd9U4nKze/oSeM45utmsHK7yvbuNKZ7Xyvmzdbra2oKPRvngz6+I81Gh5t1X/KflTb7eSU/NEQDu7SXvt6rFekpevyZhb77SqmX9uoR7uu7GaouZlX3cR7R6kJroKGcL8fFG25W30uMqrlxtp5MeVPrt+1VWXkdFw4AAKAB+W9ioFOI87b1yh9QtfjigMwL4zq1v8L13NSim/qavY0e2qSt7ovmCz5yXiF2Y/87VNEW+2G768qXves0ba7xg9H7sbbyivu6atv3Duftth9u2uRMWJhXhW37P2M9Am7V7T+vPQJ1xFgec/r1b/lYlrnLtN7r6qm23SOMcnLfGXBcu3Yafzt2U2jbVrqxW2fpwE4Vm1G2L3Y723YN6n69arlesYk5ri8PmOVhnLBXXAx0rKJD1/gnrB/56cuV+clxBbj7D6iThppPI6rPd6CKI66r7GpMXgUowIz3VNwVUa7j5o/RFjXUzbaB1epMfetpU9Hq57e5Eobr11l32dTlu9k8yrNt/yeUPMrYH7Q4oPXvLNQLyZOcnTMmTnlT22u9vK9pOf7lAWeCJaC1KynrW6BumZSoh3t1VKuD+VqQPkOJZueVPjpZdJWtsY1qm91pq/tyKHyUXnz0dt3U1mzveZmmpDzr7DjT7MiwWif3Xr457NqAbVr7rlOtrPEVzemdh+yHXI3mZ74Qp5Fx1R8p7zpf9uBQkdkxcM8uuuFnPdU31pguPlGz1jnU9nprEovDfdl2DV/ZDkHORnQqHS6Tc6/8bqrPZRn5wmrnZPV24cXWgJfgUMVYgyZ3WfgK3Jvc46vcBVBmdazcpZt6RA/UUGM5n3hxqXbaQuUrZVYTxxHzs435+wwmBqrDldZgkxGovveO0aSHrMcg19XKrULvUtygzs7hhmMdKw7na361/bjxeCu/2hXI58t+2+TeT+1a62PdjccyH6fTRzYZ62x2UPvYU3oyZbYx3TItzzugVu183JF7PrG11zW9f6n7nnpec2ZP0TPm1ecHN2rKPPedh6erpsRJR3Xyym82nvPkuNjiet2XPF5DuwTqG+M34vxXXtaTj5kdNCdr/pq9zeuOOwAA0Kz5b2Kgo9VR18deHej6sCvPbM8/UD1ucPY0W6HTz38ms/Ox9za42ox0tSMeoqheHlfTtA5w/TDsMUpzpk6p8THpjnpcVWb7mW7ubvzdkaOtZqTwwEat/0wKiPjZKW9ZbxVg/hhqr6H/5Xs5XI/RlVccd+ymXsZqu+4M2K3Cgsrgf0DXbgrTXhUaq19ulOM+8wfyzVVvwW7SHB9ps3kZZ/vOutq6zLLs3el6wezQ9YpbNcb44TFn6jT99Y1XlWa232v1H1AXDTWfRlXn74Bd29+arwV/2WhdCRZg1CPjz8maf146r0gMcAe6TzG9j9up611Pmwp3wtDsINy8y6ZO383mUp6t1KnfQ3pmtqsePxNnXo3YWmV71mnaC/PPqIPds+e4tueZTZ61V/hPfVz16KlViG55OElzXvuz5iQ9oYfvvlk3XeLqZPGPHp12usr2Rx330blqg6jjcpgCegzVpJf/rL/++XklPzpUQ82OM7/M1/xTdAbcxkqSHP/R+ac6a3ztyZTmzRZg9vAvxaVt1batNT2m6m4r61b29gQN+sNCFXWdqBkZWcZrO/Xp3j3atma2Jt/smsbNPe+aInIHyyp7I3AKaGscTQ33p3l9ftXHjMENlIYvLXbeLeF2quV1jw90ZiwNjnxN/a3ZsXKQ7n4+XWtyjOXbtUef7szRsueHufoOqCNbWzO6aOxMfNZFuw66W3RsMgJ0zc+M72Rv63H3aMV1MYpoT4bea/C7A619f4fblexzH2494txNWZrOh/22i3s/dUucj3WuePxBfa0+HY5vM/aRczdq38XX676HntTLxnlY2lyjHGY/r99H13pvzfmlVaDCRozRUKNcjm/L9+j7pCEd0H6vDskb1flyXGzbTYOfmqK0V6fp5cTxzk6YrzHKcv3il+vUCTMAAEBD8N/EgK63Angb9WZtJ19fLNeyLcZfz+aB3ELu0MBrjVls2ayik/nakmecq/a4o2ob/207qpN5zvj5AX3TNtD4vV/Dw/eFeTVopZ79bjV+Iu5Vzha7yrZsMk7022vI7Z4/Bn3rdJV5ud0hffFVa9/L4Xx4XkkVopvMW/oP7NXnhbu1/aRH8L/j9ephrOuWj3eqaPde4+y4u25sRnmB/e8sdzbxUnmHh13FO0qMHxTd9PCzo9Q3PMSjLOw64rpcuw4aaj6NrY7fgb1r9GbmZq3/9iLrSvQrda3Zvu/Bndrl60rzwzu1zezM+aoQq1xPMX3x7so2gS31r6dNR6c+0c67bNZv2V3H72bzK89Wl4QorK95NeIUPdPf2D98u1lbzCRbU7fX2J9vM/5ee5ui6noZc4tWCgi5XrcMGqNJU57QYGOfdyQ3pyK44i7bbYUeV09XOKYjBz2vSmzlOur6Suo4TtH0zimWo4qA9rqmx+0a/HiS/jTqeuPzSpRbraf8SgFXXmkcT4x9eYGZNKmuqMDMcrVWpytPkUxpxgKvDXNe2b61tEyB7QJrfNicV8vatTU7Ww6N0oy0cYrtHmy85j6IVw9eu+educWjB/EKZdq52SuiFhisMDM+nleqgz6WoeJRr/MGQ26Bz/pSstts7MemsGtde/jal1cq2LLK+N9Yxmut+lCcq4xiqeuT05Q6MkphHT2W7esy33W0BiHXRBj/5yo738f36USx8tZaw01WoG4ZfKur+ZLF71VN0rrPuE/6iDRaTZzVzr3vP6BDF/vah1uPgBqucG6u+22Lez9V/OUh3+vtfLRWK6uc923baZRpoIaMf0IDe3dWkMdrR75uMidiDeLI2hl68smntGBTTdm86i6y7jr0Ffh2NbPpywHtKfZ1/CrRHvM8pWOIccZzFp0vx8VWrRXUuVtFJ8xmfwRFOdXvAAIAAGgMfpwYkDrd9Wv1v8Q4+XrnJb223sc91Qc36rWX3zNOMFur/2+GVDYPVCFQvaI6Gz/odmjXuwXKPSn1vfVm66peNyv4evh9LV/v/UP3uIr+8pQef2aG1te3NZfuN6uvcca6fedGbS8wTmw7RqtnHQJdAX36uZohWrFM+7zP7Q++r1eeeEpTFu6scgtrp+7djZPjncp5d6/KqgT/O+vG7q1V/un7WmecHzuvirZeadKO27Ur/VklrTmkViFDNMb8gexk/GisoaUFfZHt7PSubhpqPo2vTt+BP7+v/eZ3oL+7ble2pb9scb7X7c7HtGvxu87A9C19o50/qszp3e0cV5v+5AGtXZFf5eou0+nU0yaj463q60wYLteCD43v5imD0M2gPB07teyZSYp/4f2ag1dNul3m4zqSt1BJqUZdbhGi0Q/cXmtb7Md3vKmkJx7TlDW+gv2GFpXtnLjLdte/3nQ2p+apPG+B/pg4SeP+4g4sXK0uocafg5v1oVezF2Xvva8PrWG3ui/HIa032zl/YmHNd/94LHM14bdpiJkjzF2utV9Y49y+eE9v5pp95xj12lcT+eeL8CF6MEIqeHmhsryL+0ShZg0dqJF/WO1q4kc22WqKBZWanRhbw27X99NwY7uXvD5di71yAI4t8/SG2ax+FeGK/b2xMDtStWBt9W1f8Mpw3RGXqMyKzn/ryJxfttcl4uW5WvB6vlGRh6mfeSeiySoLX8ur0qWa+roxMmKsYt31wSgM38XhUM4/l1plVjeBUQMVa+zoMv88R3le36eSt+c4OyZu8sKHKs4sywPLtWyjR2Kwg3WX3kebtLXKehzT9syNdQgCuo8Vxv74n9XbzTmyZoYen5yiZTusz2z2+20v1n6qbO17+tB7hY7v1JtPTlLSn8zzFZcAm+8Eico3a73ZH9h5pO1PQ9TqsF1rl7+n/d7HeEP5puV676DU6obrXR3/Gtpee7XznCI317zb2YNRPpkbazjmGD5csVz7vY4zZe+967zQptPPujV6c6Lny3GxzPi+Pjl+kt6s6c4io/qavckAAAA0tpbPGaxh/9PqSvXo3lK7Nxboo/ws/euDXTpUsls78/OV++4Cvb4sT5//0Eo3/jpB437hO4zU6qqLdCDzQ2XvLpGj9a0a+bubdPkF1ouWS0M76PuNm5W9aZ3yjV8srU9+o6+/+Ez5i19VWp5dx9vdqvuGdHF1TPVtkdb/72593amn7u5VW2O67XX5d/+ntR/ma9dX0vW/GqMBod6XDx7Q9uVb9ekl12vA/7Pmf+FVuqbVdmVv2a71G3bpeIuL9ONX+/XvwizNeXWVdn3fQj0G36deHT1+LQbZdPT9D/XBl4fVqscv9TuP5bq8RZlWr86X2fdW38Fj1KO2RT6b3OX4w2Ed3bdb241tuj1/s9b+c4kWLP2Xsj8rV8sOt+qpp4cqpOLMu6XafLdLa3fu1pYtB3XZpQE6fuRTffJ//1La3F1yXFGuo+VXqs+QnhU/fNoc2aV/7SzRvv0Otbtwv44e76ygy+o/n3Omlu/A1jVvas7SzRXfgYejL7HeZJRUyA3q8Mk6bdy+WZt2fquLbcd05Itd2vC3+VpQ8J1a3nCfJo/oLHd+5OJrQ9Xmo3Xa9PFWbSpyKLDld/q6eLv+9cZftD4oXJ3/fVCHPOv86dTTc8GqZ7qhn/r+1F0+NnVqtU+Zm3bry2+lm375O8V0rvxulhvltubjb9X55kEV35emVp7VlvHCdrrg0/e1fud2bXV/3hf7tXv1G5q17iudvMTY98VV3/edXd/q0/9dp+3f/qijZZ+pyPmdN+vxcv39H0u17MMSHbmgvQY++gcNCasaMDq05V/auP8S9fh//dTZ2IwtL5NKjX3epm2bVOIIUOtv/61/G9sj67W/6d1DJ9X2F8M1uod1XaRRtl0uLdLaLTuVm1NZtruz/m4cQ3bp6wuv19jxQxTsvCHDZpTRPq3+6DPt3PiB9h65QG2+2a2sRW/ojf0B6my362uP/XXdlyNAAd9s1pptO7Vx8ze67BKHUX/269PcpZrz9m6VX9BZwx+4w1oGH8cFtVVYp2+18cPtyt2wVV+rlVp+8299mm/ss+at06f/CdTg3z+mn1fssHzNw6221862chVkzNP7n0mOk6Uq+PBD5Xo/7CGKDjPD2oG64acXKuvtuXpj4RaVX9FOLb/+UiV71mn2448rbYddYWMTFHejuUYX6orvP9Nf3n1L//q/Ewq5sq1OHClSwQeL9F8PrpWj2wF9eSBSIx7vI+c3sEWQeoSXK/Pvb2vJO1t0YaeO+rGsVHmZ0/XUcwf086EB2rajjW4fO0TdrN1I2+vDdGHW23pt/kJtPna5LpddX35ebGz7x/XoGztk7/Kg/nv09Vb5HtAHM5cq79r+io/tWr3Mvy1Uxry1+qzfL3R52gtacqKTrjz+tUq2rVbKxMlass+m2OlvKP5G934q0DgutNH7SxfqH0sry6Jo0yI9M/5P+uBEuBJffVEx7vrQ9kJ9/e6byng7VwfaBxt1vFxf7vlQK1+cpGnFl6vtgQO6/A4zkeBasvLCFUpb85l6DntMv/C+4qJ1qLp22KG/L3lby7IPKPAnAfpuf7Fy/v5HPbL0Wt0btV3b9niU7Tnkvd+o1Eqdrm2pncaxYXvRt+o2wL1vNM7b7MZ5W/Fn2vS+9T3bt1lv/+UNrf6+gwKN73+5537bx/lgy5Crddn2HK3P/0AbK44Vrn3xn97bp/JW1+ue+3oryIx3Nov9tpdaz4Hb6pqgb/Th5q3GNJX7qX8Xf6glsxfrg29+VFDf4fpVF9fGuLTFv5WVW6T8/CJdHGCM++6gSj/6X/31tVX6snUr4zzs4irbrsbt+eVWvbPZqMNVjvOmJrSva3udOu1fr42fGOeeq7fqwDfH9OP3xm8N47zAPL7Med+oGy1CNHLCaF3vzuJdcYlO5uZo52fbtXrTfrW58KRKN7+j+a+tV3mHAH1td1Q5T3GVT6DCrvhM76zcpYtat1T5v41jWUaaZq476KxPjz9h7GOs+uTrXMepxm3sPoZ7nh9XL+Pz5bjYps1hbVpboE1bt+p7WxudNM/JzLr86jva6jDOHY3fdZ7njgAAAI3FvxMDpsAu6vOLLrr868+067MSFZUYJ42l+1Vq/MC4+KoIjTZO+kZGeXQ67O3Cq3TZof9V9ufGD5J+9+m+7p7tCFku7KBuvwjXpaXblPvRduMkMF+5W7drZ9lJhdz6Oz09/jYFueObtf4oqurSK08aP/B26d/qpt+M+4U6VbvwxfdJapuwX+i2jt9ot7EMH24zl8V4FJSo/NLrNfLRibq7m+u65ErtjR+v5g8Cqfed96vX1Z5JgxP6+l/GZ1zQTYPu7+1jGc4RdzmWH3ZuT9fjgP7taKHLQm7QL4c+osfjohXkdTnOxZ0j1eOHPcrdYZysb/lQ63PztaVY6jtusm779n3l7q8a0G917fUKMX405m7fZWzXXSoN7KWYGy6p93zOqRq+A/u+dtTyHbAp+Jab1fnrXcrdaa6jWY926ZMjJ9U5+nd69pFotfUMNlxwiTr3Nr4D+3ZqS6FZVsb023Zrf/tBeuaJG3XIrENedb7+9fQcsOpZ1cSAsWO9KkDlazer6EQ3DX+46nfT94/lplWe1ZexpYJ+1tO5fOvz3PuwfOWXfKsrwofoqUlD1fmct+zkDiqU698V33lXPW4VeJUi+t2rx58YpZ93qn4VabWAkLHP7tHrJ/p+x1Z98NFHrrIytkdR+SXqGfuInhx6vVp5bI+Lr72lWtnmf3ZY6nSrHk14SD09vj6tro5Qr9Yl2rXb+K7tNba3sd2OXHmn/uvxCB15z2t/XY/laNOll3q0+Ezb8/K10Vl/jH1O0Vc6/pNb9cTTD6pne/d+u4bgRVA39bmhpb7asV0brc/a8vEBlbftppGPTdSvbvAst/oFQM4dd2LggHZv2qxNvh5X/UpP9HF9Ty688mYNvf1K2be+rb8seEv/fPtt/XPFOhX82FuT5/5d/9+dlXtsW5d+Gti+RCvfXqR/LnlTf3/zbWVsuVgP/PU1xR6bq39urRq8vrBTH/2y94UqeHeplpjzNR6ZeRdqxGuvaXTARv1ljaokBoyFUe+779SVR/K07K+LrPesUPZOh34+MU1LkvsrqOKezzomBga8pMyng5Xx3LOa+Q9jfpkbVKQIxc9Zov/vDq9e8YMiq5VFxpp8HblxlJLTZiruBo+dWosg9f7lTSo3pk3/+1ta8uabxvJm6+ubn9b8/75e2/+2VqprYsDQNvxODbyqTJveMcrqn671fn9vuJIXvaToz1/REq+yPVdqTgwYLrlWQfuztfGzvdr/n17qa5wXmC4N76Xrj+409g8HVLRru3Mf3LLHaCUOa6tt2V7nfj7PBy/RNX28jxWe++LhCquoAM1hv+3lFOfALTveVG0/lbttr7482VEDH3hK4/6f1cGAKegmRV+xX9vzdyo3f7NxHrZZubsO65q7H9fvrtqltR/r/EkMqJWCevVVROuDKt1dpO3Fu7XFWTa7VXTYPJczjkWJ4xXl2Z3ZBe10/c3X6kTBRyr68gvlG8eu/H0tFPXAZA1r+1G18xRX+bTTryY/rp9/vkaL3v9QG41j3vYvy41z3tv1zH/fp84e59SNlRg4b46Ll3RRL2PeB7YZ6+Fch6p1Ob6vj9+TAAAAjeCC/xisYei4jh855myGo1VAoFpVjx+duePHVF7uus+30T6jHo5/a3d1mtmytQIuOccL05RUbKdWanVpZbu0NXJOL2f7tlXUdz7n3Gl8B04eV/lR87b8Oq6jwyiT741PqEed86t62tTL02MfJrOd6/P9grZyu1yrW7ftUVG2dSgbc1qzGZY6fc/quhwV9cfQyti+NbQ3Xiv3Z53u+88HRhnYna3u2FTZf4APJxyyuyY0NqW7D4LaOQ7bze516zz96XxGreo7P3dZmE0GnSIf67Ab62bW/zpMe0oNvd5Ninms/VE6k/MCz+/6qfY35+N+22OfWGsfOR7l1BTOu8+GiuOQoU7rbNYPx4X1Ox9oCscJjzrQnI+LldvrFHUZAACgEZAYAAAAAAAAAADAj5zudUoAAAAAAAAAAKAZIjEAAAAAAAAAAIAfITEAAAAAAAAAAIAfITEAAAAAAAAAAIAfITEAAAAAAAAAAIAfITEAAAAAAAAAAIAfITEAAAAAAAAAAIAfITEAAAAAAAAAAIAfITEAAAAAAAAAAIAfITEAAAAAAAAAAIAfITEAAAAAAAAAAIAfITEAAAAAAAAAAIAfITEAAAAAAAAAAIAfITEAAAAAAAAAAIAfITEAAAAAAAAAAIAfITEAAAAAAAAAAIAfITEAAADOWydPnrSGqqppvL9pTuVwpsva0OtKHarubJQJ5d64KF8AAAD/ccF/DNYwAABAs/fxx7uVmblKH2zYoP37v9SBAwesV9BctWt3mW688Ubd3KuXYmL6qUePm6xXAAAAAACng8QAAAA4r4wbN0HvZa6ynuF8c8/dsZo27U/WMwAAAADA6SAxAAAAzivXde5iDeF89enePdYQAAAAAOB00McAAAAAAAAAAAB+5IJPij7jjgEAAAAAAAAAAPwETQkBAAAAAAAAAOBHaEoIAAAAAAAAAAA/QmIAAAAAAAAAAAA/QmIAAAAAAAAAAAA/QmIAAAAAAAAAAAA/QmIAAAAAAAAAAAA/QmIAAAAAAAAAAAA/QmIAAAAAAAAAAAA/QmIAAAAAAAAAAAA/QmIAAAAAAAAAAAA/QmIAAAAAAAAAAAA/QmIAAAAAAAAAAAA/QmIAAAAAAAAAAAA/QmIAAAAAAAAAAAA/QmIAAAAAAAAAAAA/QmIAAAAAAAAAAAA/QmIAAAAAAAAAAAA/QmIAAAAAAAAAAAA/QmIAAAAAAAAAAAA/QmIAAAAAAAAAAAA/QmIAAAAAAAAAAAA/QmIAAAAAAAAAAAA/QmIAAAAAAAAAAAA/QmIAAAAAAAAAAAA/QmIAAAAAAAAAAAA/QmIAAAAAAAAAAAA/QmIAAAAAAAAAAAA/QmIAAAAAAAAAAAA/QmIAAAAAAAAAAAA/QmIAAAAAAAAAAAA/QmIAAAAAAAAAAAA/QmIAAAAAAAAAAAA/QmIAAAAAAAAAAAA/QmIAAAAAAAAAAAA/QmIAAAAAAAAAAAA/QmIAAAAAAAAAAAA/QmIAAAAAAAAAAAA/QmIAAAAAAAAAAAA/QmIAAAAAAAAAAAA/QmIAAAAAAAAAAAA/QmIAAAAAAAAAAAA/QmIAAAAAAAAAAAA/QmIAAAAAAAAAAAA/QmIAAAAAAAAAAAA/QmIAAAAAAAAAAAA/QmIAAAAAAAAAAAA/QmIAAAAAAAAAAAA/QmIAAAAAAAAAAAA/QmIAAAAAAAAAAAA/QmIAAAAAAAAAAAA/QmIAAAAAAAAAAAA/QmIAAAAAAAAAAAA/csF/DNYwAAAAAAAA4LeOfvudvjli19Gj3+m7Y8fkcDj04/EfdZLwWbPQ4oILdGGrC2Wz2dSmdWtdemkbXdY2UJde0saaommj/jUNzb0e1RWJAQAAAAAAAPit8mPH9OWBMh0s+0otWlygyy5rq8BL26hNQIAuttmcAUIzUIimzwygm4H07x0OfVdeLvvR7/TNN0d08uR/1CHoCl3ZMUgBrVtbUzcN1L+mpznWo9NBYgAAAAAAAAB+59vvyvV5yX599fVhXdmxg37Sof15d0UwXMwr8f998JC+PHBQV1zeTleHdNIlbQKsV88N6l/z0xTr0ZkgMQAAAAAAAAC/Uvzp5yrdf0DXXn2VQoI7cUW2nzCvBC8p3a/PPv9CwZ06KvS6q61Xzi7qX/PWVOrRmSIxAAAAAAAAAL9gXvH78Z69ahPQWmHXXaOLLmplvQJ/8sMPx1X06T59V35MN3TpfNau1Kf+nV/OVT1qKCQGAAAAAAAAcN47eOgrFe7ao5+GXadOV/7EGgt/tv/Lf+uTok8VfmMXdWh/hTW2cVD/zl9nsx41JBIDAAAAAAAAOK99+e8yFRV/pm7hP1W7y9paYwHp8DdHtLPwE4WFXqsrfxJkjW1Y1L/z39moRw2NxAAAAAAAAADOW+aV2rs/2ase3W9U4KWXWGOBSvaj32rbjl26/qedG/yKb+qf/2jMetQYWlh/AQAAAAAAgPOK2aa72XyLeaU2QVnUxKwbZh0x64pZZxoK9c+/NFY9aiwkBgAAAAAAAHBeMjt6Ndt0p/kWnIpZR8y6YtaZhkL98z+NUY8aC4kBAAAAAAAAnHeKP/1cbQJa09Er6sysK2adMevOmaL++a+GrEeNicQAAAAAAAAAzivffleu0v0HFHbdNdYYoG7MOmPWHbMOnS7qHxqiHjU2EgMAAAAAAAA4r3xesl/XXn2VLrqolTUGqBuzzph1x6xDp4v6h4aoR42NxAAAAAAAAADOG+XHjumrrw8rJLiTNQaoH7PumHXIrEv1Rf2D25nUo7OBxAAAAAAAAADOG18eKNOVHTuoxQUXWGMaQdlqJcTGatDcfGsEzidm3THrkFmX6qsx65+jNF+L505X0iNG3YuN0xMvzNPiDcWyn7AmcNfLxNWq/5KjoZ1JPTobLviPwRpupvKVFvucMqxnpm6/f0OpdwVZz85nZcpMfFCzCqynhiaz7uaO6MHZ2mk9NcU+l6H4COsJfGjC2xMAAAAAgGYid1O+uoX/VJde0sYa0wgOLNWY6ERlPbREnyYQ7DgfHf32O+0s/ERRveu3fRul/tnzlTbhQaVssFsjvLSLUPxLs5XYNdtVL/ulaNP8YWqqESXHgWIVFDkU1DVUIe1s1tjz0+nWo7PhvLhjoGxHoQo8Hgebbp8ODe7IgSa67ieO6KDHcpmPMnf2EjVqstsTAAAAAIBmwAzCtWhxQeMmBRqdeeGgeUW41yNuklLmLlVOcQ3B4bMpf1715Ysdr6TpXlewN2NmHTLrklmn6qpR6l/pCj0SM9yZFAjsM1ap6ZnatHWrtpmPrAzNSBisro58pcXHaMzrhTpove20+dy2sXrk2elKX3GG8b3yfE0d1E03RA/U0LhY9f3FdOWd1bri8d06S3f7nE49OltoSggAAAAAAADnhW+O2HXZZW2tZ82X94WDzseGFUpLTdTIO6I19NVCOaxpz4kTZdWXb8dqpb+SqoS4geoxMFEZ+6xp68vdHI7xSDvHLTWZdcmsU3XV4PXPka+pD0xS5mGbYpIytSk9QSP6hCqoXaACzcc14Yp9aJpWZqUpLtShrL8tlEdDFKfH57YtVOaiOUp6PFa9jW2bWWpNW08Ff5ukWYVmzbUpKDxcXe+/TV1bul47Wyq+W19bI86C+tajs4XEAAAAAAAAAM4LR49+p8BLm/PdAl66j9WM9HQtMh7zXxqr6HbmSIfyXp6ktELnFOdc5D3jNOFR1yP+nggFmiOLl+qJX8Ur44BzkvrxaIXiXLc+YdYls07VVUPXv5K3XtSsYinsoQV69f5Q1djoTlA/Jf8lRTEB1vMGMvAZV91blD5NiYPDXZ9vbtuXV6v+Ye4y7dxsZRTuelHvr8zQyiejal6n80h969HZQmIAAAAAAAAA54Xvjh1Tm4AGjo5WcKiosIZLpcuLVXCaV1HX6opQRfeJcj5i7k3QoiVJinS+UKwl6zwyAyccKtmyVGnTp2uq+fBucsier3TrtfQtHuMPZFvvWag8j9Elq6z5TF+hglPcmtDzNxM1eaLrkTh1iTZlJrkC1OXZeur13Kp3NpxiOe1bFmrq66tVZD3f+o/qy6bDxcpa5F6+BmjephZmXTLrVF01bP0rVMbr+VLAKCU+FuEjgF6mxWO66LrO1qNvorIauEnqkJtcdS+6z2DFz1yiV0e6lsKxIlM5ntvkhF1FGyq3a9pb+Srx2PDO7Tp9jla5N+yXWa5pV7m+NK7XjeeL8mU/UaYc5/b12O6nmH8Fc7q11rzMh1G/8kprqcAVn2U8FmWryHOdGlB969HZcl50PpzSebjSrGemmJdyNP/eM+tew1Fm7NC352nr9lJnBiwo7Bb1vClSXa+pRx7L2NmVfVaonfl5yisx5xKo4JvC1S2sHvOx5pHzoVE5D5rL0c/4MkYozJkhNncA0UrIdk7pdMp1N3fAhcbybP/QOT+1CVZkZKS6dQ9VUI2LZLzHWIcSj8TWxddGKjLYeIN5e9G7q5RZVGbMK0JxD/VzdWzi7oTHObVL/JI9SuxlDJhf0vx1yvmgyFgDs0zMHUy4QupRtM7ts9so283mPIySDYlQz4iu6nptkGz1uAXJsa/Q2MZ5yjWX32Bu527hYbXPx1GqvM0l+t56apSGQm6OcC3/AWOnvXaVs2wDI0Ypvp/Xtmjo7QkAAAAAACps+HCLekf20EUXtbLGNBSH8qYP129fcejuWW8oNTK3svPhx2ya9bvhmlp8m2ZkzFZssPWW0+YRH6jWiaxHHMzd8XF5oevzt3gHQG3q+ugCLZtoBpWNafrGaqoZhx2Trk+fiXJOUfZWvHr/wRWIiJu/U8n9zOBGqRaPjFFCrjF41zRtmzXYdReApy2pum74POdgRbzHQ8ErMRo03fywUZq/K0kx5mzrsJx2j+Wp1E+pOWka0VEqeTdRYyYsrUgcVGg3oIHKvqoffjiuTXnb1OcWrxWsQYPWP3dsbfBsbZs5oPo2MOpJZuKDmuWr7aCu4/WXlAGn1/lwLdu2sr5UbhNnvwHDR1tNBHkIiNDkfyzQhO62KvWsCqsOV7zeL0HJV01X0iJzXtZnBJ56/k7GcqTEGt+NYtfTSjbFvJSp+fealcPjuzVmohI/nKMUz/m2G6ZX30/RQGecruHUtx6dLdwx4MXxyVIlDe2pG34+UEPjE5XyyhzNMh5Jj8dpUEw33TBoktLzT5E+OmFXwVuJGtSjm3rfMVxj/pDqnMcss521eNd8rusZp1kbXMHompjLkhDb0zmPJ551L8dw3dGzp0bOrWdbcmYG7BXjS2YsU9/YuIr5zUo1dqjDB6r3jcY8U7NV4jPDajfeG6eRcZWPWR/ajeVbqEd6R2vQ48nWvD5UifWOGu1boYSBPXXH8ElKqiiTWPU1P3+umRW0pqvJvmylxFnbJ849D+NL/Id4Db0jWjf0Hq6ktwpPOZ+yDXM0smcX3RATq5Hu5Tce5nZ2zqdHrBJqms/hXM3yKIuRcXOUc9ihokXj1SM6tqJsUz6seqlAg25PAAAAAABQzY/Hf9SFrS60njUkm7refqe6BhRr8YQHlfB2set3/Ne5FcHusP6xirzSOXGjceSuUqY13PVKV6i4YN54V7A9oJ8mL8nStq1ZWvRQhPGKQwWvvKjFzrb+wxXzGytqvjrfaofeoZ3bKoO1WbusiKq9ULlmUsAQ0+8WHwHpU+va605rKFsF1mzrspyBt4zToplj1dX1Fqspm3GuJpQOr1CKlRQIu3+a1uRs1aaMFFcy4PBqPTXP6+6EBmDWJbNO1VWD1j+HQ0fMv1cG1bANgjQwJUMrM3w8TjcpUJsTpfrfd931JVgdrItcMx63gvahw5RsbNdNa9KVfG+oK2EwfrryjJec2zV9muK7O98s3ZXgaqLo18Z0njZNV8rboYodYzZNdZu6BNRt/iaz/wJnUsCoX8kZOUb9ytHKpH7GN9ehrD9MU6Z3OHf+dC0JGavUmSmacKe1HIeXKuXNhm+jq7716GwhMeChLDtZgwYm1hr4dxSuUNLQaI15q4b7w4wvScbjMRr0h6UqqO32ncO5mhoXrTtS833utBxbUp3Lstg7G+ZkV07qcD3yVrX8qG/lxUp/OEYjp2errMZlMuY5N159B6Yqry63Hf2Yr7Txyco8bD2viyPZSvrVJC2ulrkzudZp6Mu+y8Nkbp87YuKVtqGWxMzhfKX/IVa/eHxFDUkOM8NvvB43XTm1LXt5oRYb8+n98NIa5uMlb54eebbm9tUadHsCAAAAAACfTv7nP2pxwQXWs4Zl6z5Of//HREWayYGX5ynHHPnWdFdS4N7Zmv/iAIU0dEeqRas1y2oWJemRgeo9cp7rosyAfoq3gpldH83Sxx9t1aYPZmlCr2AFtgtW9Khhina+mq9S67rUrjffKee11aX52mm2/X+iULlvG3+7hzsD8SUbClzz/iTPSj6Eq1/EaYaXKy6YL5XdijPVZTltwRGKvjlUHZzj3E3ZWK00tBusV/fs1LacHC17ZrDCOgYqqPswDR/gmtaxz9XqR0My65JZp+qqQeufzaZz3Y22qykn4/HCJA39xcCKVi7CHh2iaHObFK9S2loz1hWsydNSFGds16DQKMU9n6A4c8LSecrIdbi2a59bFHqFOdIQHGk8N7btT71SHuXBmrAkQzOeMZumGqXIsrrN3+Q4YsVqQ29Rz/Ago34FqeuoWdq0dac+3TtNA72zKxFJmv/qRI0YPEyTZ81WopW0KMkrVu2XctdffevR2UJiwK1wjn47ZqHXrUiBCjN3jsbD1dSLm5lpelAp1W59kgrmPqgn3q26G7J1DNfAkWYHLFFe8zH273MnVb+FqjxbKb+bV/22qCqMZXguWW+cMpZsV+bTsUpyfokqmctkrldX44ti3XDjUjxPv3381MHwonnTnJ2f1EdmcrLST5F0KJo7Wk95lZ+Tz+1jCDC+5KHV86b2dydpjI8kg/3dp/XbV7yuzm8Xquh7xmrCyAHq2rFKacixNlFJb59qd1CkN6bPqXl7Nej2BAAAAAAANWnsAFxlcsAaYWi0pICpNFvpVisH6auKXYHvdlFKXDBVsWYzLhabza6DecudbbAnPRKrO2ITXYkLT91v0QjnQLYKP3ZInxUox4zT3DxKo/sZf3NzVWB8QFGBdeV992GK9rqgu/5sVZpqrtNy1qalTfquVFlvuoLVIwdFa8x867VGUN9Af4PWv3ZBCjH/5hacIqZUyVGar5wNubW3q18PeW+76t6s+SuUd8Ccp01d75um+VafB/bdedbdJ2VKfzpWg2Ktx/Dpes/6jmzdV8PF1T71U3S4NWioz/zDbhrsinHuSNWgHtEaFDdJKfOWa2tpmRy+4pw3d3WVr6lloALdSYsTlY2HN5QGTRg1IBIDTqVKf3Z6lS+ZrX+SVn60VWusW3DWbMrR/Ps994bFSnt6ngo8K5YjV0tme0bLbYpJytS2nAy9+rzZAUu61nywRPFVdqqlSsuoeqtTifGl8w6gB95lLM/WPfp0r/HYs1NrZg5TWHmxik7x3XJsmK4nVnjOPVRxaTn62Fgm561FK3O0aaXVKYzFsTZZU1fVnmMtKTZvmQtU9MRpWrbGvD0nSyvTjWWyXvelpLTUaz22auVL3u9xKCN1YdVy9bF9nO2ILdmqT3fmaOUa4+9HGUruXzWoXzT3aa8e+kv1zrwVVco67P40bdqUqUVTEzT5+dla+UGmUr3mk7Vg1Sl2wKUqKjbmahyYJ89c4ryVbVtWRsXtUA25PQEAAAAAQM0atskOs8/FXOVsqNrRqWdywFdSwP6J+Z5cFdWnlYWadB+rGWaTK2kTFWONChk2UXERlRdJlq1K1B03xmiQ1ST24m1Sh8iIyqCnmy1K/Ua6BhfnF6ps+zpn0DU28k51u9lsj2e18j6xqyjPFUwJGRhZa5ynNmWfueNjUQqzWjCq83LWxFGotOHd1MPdRPP8dTrY0uxz0nq9EdS3aaAGrX+2SEUNNv7umKclPi5Orq5M7/xxuEbGTdfOE1VjW6fL1ZRTulJHWhvR2J6jHxtcUd8d5UddA7KprVdirEOo66JkOWqPMdamPvMPvOtFrZw5VjHmRb/lZSrYsEJpZhPqsTHq8Zt5p+xEuzE1aBNTDYjEgKlwud7It4ZNAaP06sxR6up5IXrLIMU8M02T3d8DU/FSZXkGno0dbPLOPfp4a47WLEnX/JkLNOX+UFe2yi0gQqPHujp4qfBFmcetTsXKWuK5MIbgsfrLVGN53HcbtLQpbHCK5qeY6dza2JW1dGGVQHhk0mwl9696G1hg+CjNMA5ilRzKeHfdKW6/ClX8khwtenSwIkPN23OC1bVPaO3tzoVO1N/Ncq1Yj0B1vTdFryZ57cFLjXLdbQ2bvLePUaJxsxZoQi+PTwsMV9zMNMV7bh+jLGct9Uy6BCtumbF9Ptqq9RnGjs2YfkZCPwV57lhaBmvEmFHWE8uOOtyKFjpWyz5I14TBEc5b2QKvCbduh2rI7QkAAAAAAGpjs9n0vaOhIoDuPhfNvgWtURZncuCfGT7vFCj6p6tPwiX1bGnBpytCXU2u9B+nyRNdQY+SuS96NNOcr/TJrnb3Q0bO1qY9e5wXgy563tfFmzb1dEaaJceWPL2TZ7YLE6HIroFWM0MO5RQsV8FacwqbBt7scel2fZTnK+11q82Zu4YoxhmGqs9y+lb27nSr9Y5+Sly5VZ/uNS/ona3JN7tebwxmXTLrVF01bP0L1MDfTzTKp1RpT09XzimCUyVvJirJKHbb4Ad19zXWyDPkasopSiMmTdJA55hsJc3Oroi1BV3lvvo5UhPesC5C9n44+5E4PfWbvxlfS9D8nJ36dNdWV18E94UbY836nqq0taeM7jWa+tajs4XEgKFo86qqnebeN6DKFfQVWnp01OJUqsy86nt5W7sghfWKUszgiOodfZgdExfkWU98KCtU9g5r2BL5+1GK9FF3Qu4Z6WpPqyaOPOWusIadojS8f5XbFSoE3harWGvY6d08ba1tP3bXeE3oVb8KHfP7YerqdbA0hQ0Zbe1c3EqVV1jZfE+17RMwSrG/8PHZAcb6ja160HIs/dC65aiSLTBQId2NHdvgfurqPZsTDhXsqmX71GDgY+Oq3EZYoSG3JwAAAAAAqFWb1q31Xfkp2jFuILafhjdO80E16DrqacU6Yw/5Svmz1c+hvayiP8nofrdVXPxoLyj02URPYGSU686D3OXK2G787T5E0WYQ2WpmqGDePGWY8wsYpYF1jOc6jthlP2w8DhQrb8U8PRI73NUJrEI1YewA10Wk9VxON/uRyuDUkTIrOmQsa8z11sWiJ4q1dbNrsDGYdcmsU3XV4PUvfJxefT5CtuJ5GhkzXuk7fAS3HaXKeiFWdyRmyxE6Vn9/0SrzhtRusCY86YopOhalVrbQ0TVSI5x1Mlvpb3o03W3PVkrseCVNn6fMfWeQKKnz/EuV+Yc4Dbqjp/pOzzeDf66+CMaNUk/XO2RvsIRN/dW3Hp0tJAaMKlVSVLW3adu7qZVtVnk9nlpQtb35gi9ryDadcKisOF85KxZaHcSY7x+oHl166pFFtVREYydXtdkam6LDq1wGX8kWpnCvmw+qKC3VVmvQpUBvjK++Ts7H6GnKsqZyKdXB2m55Cw6u504mWJHhNXRY0y5C/bzWI6uiTZ3q20f9IxVWw4E37KdeMyov1B6zQx0fHPuMg8/apc527VImGzsPoxx69+imQS94XeFfByFX1lAaDbk9AQAAAABArS69tI3sR7+znp2pQHW4yvxbpFWvW52w1uGR7gxUhyvYq5/JM9ZugCY86YrWO1a8qFnm1fOB4Qq3AviLHx+uJ14wYxzD9Yvk7IoOfKvoGKV+zukLVbBDlc0FuZutKS11XZx5zy0+L+70JT2+p3r0NB7RAzX08VRlOpMCgRo49Q1NjrCujKzPcgaFKcy6+HJxfDdd1zleiw8Yyxoe5bz622xDfugDyUZZJ2vML2K1oKyGOEsDMOuSWafqqmHrn0vYyAVaZmx32+HVSortqRuiY/XIs2ZdS9UTcQPV48YYjZlfaFS5sZr/9wTfF642gK73JyjOOe9iTf3TUlcHvYEDNP65fs7tkjc9Vr3vcMUZe0fHK23HaqW/a1cHr/4866XO8w9WWNfvVVBsV8kro9V70HglPTu+sg+LgFEafedpdqTdAOpbj84WEgOy6+AX1qDFccDcOdbwcHa04eFHrw4pzDsC3krW0N7djMo6XCMfT7Y6iDHfb3USU5tyowJbgy5RCr7SGqzGqPi1fbcOl3pdLW9Xka91cj68l81Yz4Zqks8pTEGXW4PV1LYe1bePrgyqOSlR0et9zco2zNGY6G66ISZWI6127dLeznWWgzt73WAacnsCAAAAAIBaXdY2UN98c8R6dqZsio4d62zKJetvViesdXhkmBcs9x+lmGut2TSgsPsmWsHZUqXNWa6SE8GKmzlbI8JtzosjM+bPUXpusCa/keTVOoNbsKKHuFtb8GwuKFDRt1c2Mx0bFXlaIQpbx3ANfChFy3K26tV7PAP29VjOlhGa/I8ERVckVrJV/Kkx7z4JWpYQ5YwJ2TcsNMp6uY4MmaUZ4063J4RTM+uSWafqqmHrn5tNXR9Zok0rpynebB78QKEyF5l1bZ4yNhTL0TFCcS9laFNGgtVsUyMJ6KcHn7ayO9lzlJbripGG3JumNWmutv3txa44Y1m5TUH9je21bKLPVjPqo67zDxv1hla+NEqR7RwqK1yt9EWrVXTYnG6iFmVV7V/1bKtvPTpbLviPwRpupvKV0nm40qxnppiXcjT/3rp+E8q0eEy0Eqymz+qtX4o2zR9mNRlkV9azwzVmUQ2NyLULVdfeUYq5KE+zVnhcBe85jy2pum74POdolyilrk/XCJ/Jz+rLXmXdq82rfuKX7FFiL3PIRxk9tESfJlg7A18OLNWY6ESPuxD6KTUnTSM8esyvVNv86/nZ1da56ucWLRquQc/mV9565CkgSF0jb1HMNUc1a5HnB47Vsr0JirSeVV83z7Ly0pDbEwAAAAAAnFLupnx1C/+pLr2kga7QLbfL7jOQUDOzGWPbWWxmyOSw2+U4YVNguzOMxDay+iync1pboAI9Jz3hkN3cIAFe4xvY0W+/087CTxTVu5b4lw8NXv+8udff1NIox8YshHpybdvGq/91nX9jL0d9nG49Ohu4Y0BBCulsDVq6JmXq07176vaoSAoYtszRI1WSAjZ1vS9Jy7K26uM9xrRbM7Xy1STF/cLnzVwuHUMVbQ265Kq46iXnHspUVrWdmqqqzWuU5u/yWv5aHj4D3afNld31rfp6VPbHUX376JMi4x2+Ob71PlJfqrbujOCBpUrxSgoE9pmo+WtytM0sl505Wpk+TZNjfffDcFoacnsCAAAAAIBT6hB0hf598JD1rAGYAeh29Xuci2CkGQRt6kkBU32W0zmt96RmMNws50ZeVbMOmXWpvhq8/nlzr7/5aEJJAZNr2zZe/a/r/Bt7OerjdOvR2UBiwBASVrVh94LNhadu8seHgs2rql6Jfu8sLUsZpchrqlbE73/0Dl57CAqq1ht75havNvbd9uUpy90Uvy9XBqurNeiSrYJPrMFzoMb1KM5Tptd6DLy+Mjjf5YZ+1pAlO1s5Pvs/cGjruqXWsKV7pMKsO3XseblV+1HonqBlfxmnmNCgqgeT49bfhtCQ2xMAAAAAAJzSlR2D9OWBgzrZ3BvJwDlj1h2zDpl1qb6of3A7k3p0NpAYMIREDahsJsb07gK947M1IIdypg/XoEeSNXXuUmVtKVaZR4zfcaRqVLdr1xAf7bGVKWd1rjXsgy1SkXdZw5aS6dO12DtgfKJUi19IVZ711KeWkep3v+cSlGrWkmzfzeiULtUTg+Kcnb+kr8hVwZn0GF6DktdrWI/UVK++ECIU2bWy3a2gm2+run20WrPe9BFcL12uN/5WdbkrOtExOMqPWkOWm0IVUi1z6FDeulXWcANoyO0JAAAAAABOKaB1a11xeTuVlO63xgD1Y9Ydsw6Zdam+qH9wO5N6dDacl4mBnGkPOnuorvWRuLqyOZprhih+sGcAPV9JscM1dUOpsz0qp/JS5UwfrTGv5Ktg1ULNSk3UmOHj9c4+63VD4JXuDltcChYuVY7nrQcnypT1woNK8my+vppADbx3lFdCIVsJA4cr5a1cFR2wq2THCs16IFYJa08VvLcpeti4KlesOxbFa9AflqrAndE44VDZjqVKeCBRGYW5zs5fkh6P09DZ607rrolalRvrERunWSvya1+Pu0br7musYdM1wzRhZNUSKXp5uIZOz3bOx37YmNeGORoZW7XdfwUMVuJ9ldsksL1Xw/5vL6qy/ZwdRy+apAfmNuRl+w25PQEAAAAAQF1cHdJJn33+hX74oSGbBYA/MOuMWXfMOnS6qH9oiHrU2M7LzofrpEqnwYYDKzTm9knKKree10HYQ0u0MiGiMui7Y476xk5X1SbkAxXWPdg5zcFis9dsyRZgk6PcIwjsvSzm1eMPDzx1oDi0n2ICspW1w3puqN5ZrUN502M19JUaOkT2JaCfUjPTPDrIbYjOh8MVe49NGW/nW89rEqHkNUsU593Mf3mukn4Rp3SfTQj5YjPKItMoC49kwOEVeqTnJGVaT11sCgoPVYeWRkmVFqrInL+xfWzG9qks/TPofNjUoNsTAAAAAADURfGnn8vxww8Kv967kV+gZoW7i2S76CKFXne1Neb0UP/8W0PVo8ZEU0JuHQdr/r9SNLCd9fwUwu6drflPeiQFTN3HasZD3hFtu4p2FKrAeJhJAYWO1d9njnK9VJOWwRoxc4Hia+0DN1TxLybozlP2XWFT5GNLtOjR8KrLWpOACE3+xyyPpEBD6aCoidOU2r+2pQjViFnTqicFTAFRSs6YrRG1lolboAY+n6FXPZMCpnaDlfhSP69ycKis0LV9XEmBfkpNS/LqMPgMNej2BAAAAAAAdWEG5L4rP6b9X/7bGgPUzqwrZp1piGAu9c9/NWQ9akwkBjxdM0yvbsrRooTBiqwhQRAYMViJ6Tla89IAH+3T2xT55BKtfGmUj/fb1HVwkpYtS1BkW2tUbQIilJhpLMvEfgoKsMZZbOHDlJqZocRele3w16ploKInZmjTymmK7x/kO0EQEKSYh6ZpZc4STehepxRC/V0YrBGvZWrGyAh5L3lgn7GaYaxT6l21ZCSCBxjrXdv2CVTYnRO1KGerXh0Z6nM9Q+5N0wfpExXTsfqr5jLM/1eaRlxnjWhIDbk9AQAAAABAndzQpbM+KfpUh785Yo0BfDPriFlXzDrTUKh//qcx6lFjOQ+aEmo8jsN2HSwtUMmRtgrpGqy2AYEKrEfM3HG4TCXFRbK3C1NYcFC93lvFCYfsdqsZmpY2BZ72jCwOs13+MhUVHZSuNJbtcmO92p3hPOvLXAZ3s0024/O9guV14b19OgQGylYtWVMzh914/z7j/QpRt9Dg01qG09LQ2xMAAAAAANTo4KGvtPuTverR/UYFXnqJNRaoZD/6rbbt2KXrf9pZHdo3bHMO1D//0Zj1qDGQGAAAAAAAAMB57ct/l6mo+DN1C/+p2l1Wl6Yc4C/MK7x3Fn6isNBrdeVPGqefR+rf+e9s1KOGRmIAAAAAAAAA5z3zyu3CXXv007Dr1OnKn1hj4c/MtuDNZl/Cb+zS6Fd4U//OX2ezHjUkEgMAAAAAAADwC0e//U4f79mrNgGtFXbdNbroolbWK/AnP/xwXEWf7nN2EGu2BX/pJW2sVxoX9e/8cq7qUUMhMQAAAAAAAAC/Uvzp5yrdf0DXXn2VQoI7qcUFF1iv4Hx28j//UUnpfn32+RcK7tRRodddbb1ydlH/mremUo/OFIkBAAAAAAAA+J1vvyvX5yX79dXXh3Vlxw76SYf2ze6KX9SNeaX+vw8e0pcHDuqKy9vp6pBOuqRNgPXquUH9a36aYj06EyQGAAAAAAAA4LfKjx3TlwfKdLDsK7VocYEuu6ytAi9tozYBAbrYZtOFrS7kiu5mwryS+8fjP+p7h0PflZfLfvQ7ffPNEZ08+R91CLpCV3YMUkDr1tbUTQP1r+lpjvXodJAYAAAAAAAAAAzmFcHfHLHr6NHv9N2xY3I4HM4AoRkoRNNnBtDNQLrNZlOb1q116aVtdFnbwGZzJT71r2lo7vWorkgMAAAAAAAAAADgR1pYfwEAAAAAAAAAgB8gMQAAAAAAAAAAgB8hMQAAAAAAAAAAgB8hMQAAAAAAAAAAgB8hMQAAAAAAAAAAgB8hMQAAAAAAAAAAgB8hMQAAAAAAAAAAgB8hMQAAAAAAAAAAgB8hMQAAAAAAAAAAgB8hMQAAAAAAAAAAgB8hMQAAAAAAAAAAgB8hMQAAAAAAAAAAgB8hMQAAAAAAAAAAgB8hMQAAAAAAAAAAgB8hMQAAAAAAAAAAgB8hMQAAAAAAAAAAgB8hMQAAAAAAAAAAgB8hMQAAAAAAAAAAgB8hMQAAAAAAAAAAgB8hMQAAAAAAAAAAgB8hMQAAAAAAAAAAgB8hMQAAAAAAAAAAgB8hMQAAAAAAAAAAgB8hMQAAAAAAAAAAgB8hMQAAAAAAAAAAgB8hMQAAAAAAAAAAgB8hMQAAAAAAAAAAgB8hMQAAAAAAAAAAgB8hMQAAAAAAAAAAgB8hMQAAAAAAAAAAgB8hMQAAAAAAAAAAgB8hMQAAAAAAAAAAgB8hMQAAAAAAAAAAgB8hMQAAAAAAAAAAgB8hMQAAAAAAAAAAgB8hMQAAAAAAAAAAgB8hMQAAAAAAAAAAgB8hMQAAAAAAAAAAgB8hMQAAAAAAAAAAgB8hMQAAAAAAAAAAgB8hMQAAAAAAAAAAgB8hMQAAAAAAAAAAgB8hMQAAAAAAAAAAgB8hMQAAAAAAAAAAgB8hMQAAAAAAAAAAgB8hMQAAAAAAAAAAgB8hMQAAAAAAAAAAgB8hMQAAAAAAAAAAgB8hMQAAAAAAAAAAgB8hMQAAAAAAAAAAgB8hMQAAAAAAAAAAgB8hMQAAAAAAAAAAgB8hMQAAAAAAAAAAgB8hMQAAAAAAAAAAgB8hMQAAAAAAAAAAgB8hMQAAAAAAAAAAgB8hMQAAAAAAAAAAgB8hMQAAAAAAAAAAgB8hMQAAAAAAAAAAgB8hMQAAAAAAAAAAgB8hMQAAAAAAAAAAgB8hMQAAAAAAAAAAgB8hMQAAAAAAAAAAgB8hMQAAAAAAAAAAgB8hMQAAAAAAAAAAgB8hMQAAAAAAAAAAgB8hMQAAAAAAAAAAgB8hMQAAAAAAAAAAgB8hMQAAAAAAAAAAgB8hMQAAAAAAAAAAgB8hMQAAAAAAAAAAgB8hMQAAAAAAAAAAgB8hMQAAAAAAAAAAgB8hMQAAAAAAAAAAgB8hMQAAAAAAAAAAgB8hMQAAAAAAAAAAgB8hMQAAAAAAAAAAgB8hMQAAAAAAAAAAgB8hMQAAAAAAAAAAgB8hMQAAAAAAAAAAgB+54D8Ga9hvHPveoWPHvpfD8YN+OH5cP/54QidPnrReBQAAAAAAAAD4uxYtWujCC1vqolatZLNdpNatL1bri23Wq82b3yQGjh//UUfsR3X02+/UsmVLBRgb8WJjI5ob1dy45kYGAAAAAAAAAMBkXkxuXlRuXlz+/fcOlR/7XidOnNCll7RR28BL1arVhdaUzc95nxgwN9RXXx/R0W+/dW6swEsv0UUXtbJeBQAAAAAAAACgbn744bjsR791XoR+6SWX6IrL2zovRG9uzuvEgN3+rcq+Oqy2gZfo8nZtuSsAAAAAAAAAAHDGzLsJvj58REfs3yroinYKDLzEeqV5OG8TAwfLvtb3Doc6tL/c2WQQAAAAAAAAAAANyWxi6OChr3WxzaYOQZdbY5u+8zIx8OWBMl1wwQXq+JP21hgAAAAAAAAAABrHgX8fkhlqv7JjkDWmaTvvEgNmUsBs06k5ZWcAAAAAAAAAAM2b2YqN2edtc0gOnFeN7psFb94pQFIAAAAAAAAAAHA2mXFpMz5txqmbuvMmMWB2NGz2KUDzQQAAAAAAAACAc8GMT5txajNe3ZSdF4kB8/aMsq8OOzsaBgAAAAAAAADgXDHj1Ga82oxbN1XnRWLgq6+PqG3gJbr4Yps1BgAAAAAAAACAs8+MU5vxajNu3VQ1+8TA8eM/6ui33+rydm2tMQAAAAAAAAAAnDtmvNqMW5vx66ao2ScGjtiPqm3gpWrR4rzpLgEAAAAAAAAA0IyZ8Wozbm3Gr5uiZh9NP/rtdwq89BLrGQAAAAAAAAAA554Ztzbj101Rs04MHPveoZYtW+qii1pZYwAAAAAAAAAAOPfMuLUZvzbj2E1N804MHPteAa0vtp4BAAAAAAAAANB0mPFrM47d1DTrxIDD8YOzh2cAAAAAAAAAAJoaM35txrGbmmadGPjh+HFd1IpmhAAAAAAAAAAATY8Zvzbj2E1Ns04M/PjjCV14YUvrGQAAAAAAAAAATYcZvzbj2E1Ns04MnDx5Ui1aNOtVAAAAAAAAAACcp8z4tRnHbmqIqgMAAAAAAAAA4EdIDAAAAAAAAAAA4EdIDAAAAAAAAAAA4EdIDAAAAAAAAAAA4EdIDAAAAAAAAAAA4EdIDAAAAAAAAAAA4EdIDAAAAAAAAAAA4EdIDAAAAAAAAAAA4EdIDAAAAAAAAAAA4EdIDAAAAAAAAAAA4EdIDAAAAAAAAAAA4EdIDAAAAAAAAAAA4EdIDAAAAAAAAAAA4EdIDAAAAAAAAAAA4EdIDAAAAAAAAAAA4EdIDJxNJxyyH7bLXm49Px+418nusEY0bQ67sazG8jpOWCOaEYdZzodrL+czWb/mXDYAAAAAAAAA6o7EwGly5Kaqb+cuGvq3YmuMS8GrA3Vd54GatcMaYTpRqsxnh6tHl27q0bOnenTroh5xc5RTZr1uKXsr3nhvqvKs5y5lWjymi64bs9QYcstXivHZ13k+eg5X0rul1us1OLBUY7zed0N0vNJ2VA0256VWncb1iNfiA9YETg4VzI1X7x7WOv2sm24YlKjFn1Sdl2udqs8vZYs1gcH1ed005u2qBeIc77HeNc3L+ahSPtU5PlmqhEHGMv7MWFZjeW/oEasEr/Ly/jwXq6xT863nhvqWY985KrDGuTiUk9zNeq/n9nZ91pi3qi5BWe4cjexpfIZZzj2N9/WMq/ZZdVk/3/XLeO+OeRoT7fXet4qNpfRklUO3eGVUqQe+lxkAAAAAAABA00Vi4DTZoiYqeaRNeS/PVuZha+SBpZr6crFCHnpR8d2tcXIo67mBemSRXb98Pl1rcnK0Jm2iuhVM18jfpirvDO4eiE7K0LatW7VpTbqS+9uVPuFBpX1ivViLuLStzvetz5im+OBcpfwmWZl260W3qCStNKYxp3M9puruIOs1Q9HfRmtQaq5Cxk7TyixzXimK03Il/PrpyvKoMErzq8xrqyZHWC9VMMrp2Rd9vLdS0OCpFe+ff785xmO+M4bIY/GqOlGotAcTtdg2SouMZd22NUvzhzm0eMIkpe+zpjkN7nLctCZNcVdmG+WYqpyq0XQpwCZb6VJleSaK7Ou05G9GHQqwntfm8Ar9ceR0lfRJ0coc4/NyMpQcmVf1s85k/YoX6rexxryCx2pGRpa2ZS1R8hDpnT/E6pG3fCSayrP11Iur5V1dAAAAAAAAADQfJAZOm00x419UjFYo5fV8OczA9uxkZQWMUvJjEcarln1LNWuRQ5FJs5U6MkphHYMU1n+cFi2YqLDieZr17ulfaW1rE6TAdoEKCo1S3GNjFa1i5W4/9fxsbQOd7wvpPliTJ46SypcqzzuhYLOpgzGNOZ37YWtpvebI1YKX82UbOUt/nzhYXa8x5zVMiQte1MDyFUqrdueCTW1rmpdb1CjFXb9CT0zL9rpS3YOt8v1tnQXsMd/AihKvrqxAecYiRQ8bpWhjWQPbBSsm4Q0tS5+onrYaP+2U3OUYFNpP8b/pZ5Rjqcq8I+a9h2lE91LN+lflHQf2dRnKkDH+HmtEbYoLlGn8GXjfMHXtaHxex3DFvZShRa8NUAf3op/2+jmUszBVeUadffWvExXbPViB10QoLmWBZgyWsp5bqDyvZoWiR45S1xWTNDX79MsNAAAAAAAAwLlFYuBMdBys5Gf6qWTui1q8ykwASDHPj1OMx5XgZXnrlKcoDe8fao2xhN+p0d2lrA/yG+bq68NlKjH+BAbUEiD3wX7IfFew8T7X8woOhw4627S3Hp59CBR+qMXlUtxd/SoTIKZ2g/Xq3j1aNjLYGuHm0BHPeflqJ98WrtFPj1WHRcmamtvAQeegroo0ij/nhfF6Yu4KFeyzy3FhsCL7RKlrx/qVlyfHEWt99mVr1uvZChs5UjHVblsIV9TAYDkWLreu8Lcra9VqaXCUoto4J6hdaKRijW2TNiFOKW/lquiAMZN2oYo2lj0s0JrmtNevULlLjfndN6BKnTVqkWLuGSaVr1LObmuUxdZjlP77oSCl/3G6cs6nvjIAAAAAAAAAP0Ji4AyFDJuoyaH5SnokWXkRCUoc4hUZdl5xbZMudD7zECjbFcafo0dqvkL+FIpWzdHU6dONz45V799MV0noWMX1c0eLa7b1H9ON96XqibiB+sXjq2XrP06x11svuuUma5CzTXvr8cTyyrb3T5j3RxhaOZ/VwUKN8ZxXz+nV2rk3te01TomDy5T2xznKO91C8aVluCYsy9CMUR2U8+dJGhTTUzf0Hq6kFT6ayqmH9HhrfWLilW4brOF3dTW2anU9bxumkPKlWrXZWKkDq5TxrhR75y3qYL1eq3YDNOP9dCX2+16L/xCnO8y+AMz+DPI90klnsH4OM7h/4cWuJx5sl5gJhVIfHWUHKvL3Tyv263lKct4pAwAAAAAAAKC5ITFwplqGK/6/RzkH4/9rlMK8m8hxPndIPzqfeShTWZHx56ogn8Hk+jhysFBl5YP16pIERdal3Xonh+yfFcv+04la9towhXgvd78Ubdq7R5+6H/OHVbbh39LmulPguPNZHYzVMs957TWW03qlqkANfPpFxXw5R//fm8X63hrbIALDFZuQpk079+hjsx39Ox1a/PhAJW04/dB2/JLKdVo/6qimjhytWYXWi57Ch+jBCIfSs/NUlrtaWRql2P712OodoxQ/dYm27dnp7M9gQlieUoY+WLX/gNNcP2c/Bz9WL2n7wYPG/+EKbud6XkW7Afrv5/up5JUXtbi4QbcSAAAAAAAAgLOAxEADcF1dbfBxBX1Q5G2KVK6WrC22xrg4cpdrSak0sHdk1eZ4lKedngHfE6Uq3mT89ZFACLtznCZPnKgZz01UiFYYn1G3/gp6/mai8b4kzXhygPTJUmXk1zM4Hn6LRgRI6e969QdQvFBDO3fRmLdOv98Ed/NMZqfOZvk0BMcnKzR1+jxlHXA9t5nt6D/5oGKMpS854NWQ06ZC7fFcqQNFMvM3Xa+sPZAf0m+As4+HvEJf6x6smF9HSKvXKS0vW7b7jWmrbvQalW2YZyz7ChWYy9TS5uzPYMKTYxWkfJVaH1Wv9asiXFHDjAV5c7WyPO8MMOrce2+tMBb7TvW81hrnJWhIkpL75Svlz0udTVgBAAAAAAAAaD5IDDS2a4bpvx8KVV7ycI18ZYVyNuQq661U/TZ+nkpCJ2rCXZUB56A+QxQTkK+U8YlKX5trTLtCsx54UGnloZrw6yivBIKH7qOUONimrOfmVA3wnkLgXeM1ObRUaS8uVZFXJ7P6qti5rJWPfJW4A+a2KD34XD9p0QQNTVyoLPP1FfP0yMPJygsda6yTd0P7JdpaZV65KjpsveRDyLAEJV+/wtnkTkOwBdlUMi9Vjzw2XVnFZbLvy1f6i7OVqWBFXl+5rF3vHKew8oV6JH6OMszlXLtQCQ+aHUr3U/ydXn1EGEq2u9cnW+nT5inLa36eQu4arYGl85S2yKa4X9WyLb0EXe5Q5iuT9MSzC5W3z66y4mxNfX6OyjRAXa1Fquv6VWdT9NgkxchY5+GVdS5twoNKyLYpNmGUunrfSeLWMlgj/jtJXVescHaODAAAAAAAAKD5IDHQ6GyKfHKJliVEas/rkzQyLk5j/rBUuidFazLGVQ28dhysV/+Zoru1XEnxcca0kzS1oKsmL1qgyRG1hZIDNfCxBEWWL1TK33y1ZVMDqxkkW36qZq3yurJ8xzw9YSyrubyuxxzleATzQ+5N05qZw2Rblawx5uuPT9fWaydq0d99NWe0WilV5hWnJVVvoKiqZajinp+oMOvpGWs3QFP+kaDo0nkac0e0esQMV9LaQMW99Ibiu1vTGGwRE/X3RRPVrWC6a93jk/WOhij1n7MU29GayEPmC+71iVfKBmN+Mxdogsf8qmh3mwbeZfwNHqfYCNeoOgkfp/mzRilwbbKGxvRU7zvilVYaZdSJ5xTrbuanjuvnU/Awzf/XNI2wraqsc9tCjPlnaYZH0sqn0FH6nyerJ0wAAAAAAAAANG0X/MdgDTc7e4r3qUvoNdaz5sFht0ttAmWr6UpsN4dddodNgYF1vbb8HCq3y2Grwzo1Bcay2n+sQ7ma0ylQgXXus6HxmXXHceEplqmu6+fLCYerzjWhdQYAAAAAAACau6YYx+aOgbPMFljHALotsHkkBUwBzSQpYDKWtU7lak7XxALkZt055TLVdf18aUlSAAAAAAAAAPAHJAYAAAAAAAAAAPAjJAYAAAAAAAAAAPAjJAYAAAAAAAAAAPAjJAYAAAAAAAAAAPAjJAYAAAAAAAAAAPAjJAYAAAAAAAAAAPAjJAYAAAAAAAAAAPAjJAYAAAAAAAAAAPAjJAYAAAAAAAAAAPAjJAYAAAAAAAAAAPAjJAYAAAAAAAAAAPAjJAYAAAAAAAAAAPAjJAYAAAAAAAAAAPAjJAYAAAAAAAAAAPAjJAYAAAAAAAAAAPAjJAYAAAAAAAAAAPAjJAYAAAAAAAAAAPAjJAYAAAAAAAAAAPAjJAYAAAAAAAAAAPAjJAYAAAAAAAAAAPAjJAYAAAAAAAAAAPAjJAYAAAAAAAAAAPAjJAYAAAAAAAAAAPAjJAYAAAAAAAAAAPAjJAYAAAAAAAAAAPAjJAYAAAAAAAAAAPAjJAYAAAAAAAAAAPAjJAaaCMfRo7JXefxgvQIAAAAAAAAAQMO54D8Ga7jZ2VO8T11Cr7GeNS/2zzdr7da12lCwVmuPfqWD1viqLlKXS/uof9c++n89+6vP1Zda4wEAAAAAAAAAzUFTjGOTGDibTh7Vno1vaMbqxXr7h/rfEdDhoj56YMA4PXDrDQrkXg80pvJS5eWV6Hu1VZebwxVks8bXmUNlO/K054gxeHmYosODXKMBAAAAAAAAP9MU49iEl8+Sg3nz9OCzt+m2lQtOKylgOvjDBk1Z+Vvd8Ozv9VreV9ZYNIoTDtkP2+U4YT1vZI6z+Fmn5lDOywM1NC5OI98slq3eSQGTTUHKV4I5j0GJWnzAGg0AAAAAAADgnOOOgcb24xd6969PKnHPx76bC2pxhfpc0Vs9QzqprTXK5QeVlGzWhq8+1p6T1qgqLlKfLkn60+9+qasvtEadb/at1tR/FhgDQYoZO0qRga7Rja9MGfExemKtQ7bBs7Vp5gA13kc7lDc9VkNfKZZCJ2pl5jh1bWm9dK4cXqFHek5SpjEYN3+nkvt5ZQbsxcpasVzZG7K1dX+wevaLUr8hQxQT6lVKJwo1KyZWU0ulkIkZWv9ouPUCAAAAAABA/diLs/XO8nXKzc5TSdtQRfeJUr/+dyraOx7hD07YVZS9XBnZucraflRhN9+mqIFDNKJX/VtsKNuyVO9k5ip7c7EUZpRp1G2KGRClsJqKta5xoRqUZc9Ter7d9aRDP8WPjPAZd6u+XHdq4OAIhdRyAWvZjhV6LyNLq4z3HOkUqdj+Q075nrOFpoQaWJNPDBzdrJkzH9WUah0JX6r+1z6o3/3qLvUJvkK22u7bOPmD7KWbtOxfb+j1z7brc2u0W4dLx2re4+PV83zsfmBLqq4bPs8Y6KfUnDSN6Oga3fgKNauvK6Ct0AStWTNWYa4XGoFdmY/31CMrjMGAYXo1J0UDz/HxrGTRcPV9Nt8YGqX5u5IU47HzLMtO1QMT5qmg3BpRwaau903Tq88PUIhHYqPob7G6I7nQWLexWrYtQZHnOukBAAAAAACal/JCpT08WikbrGCyl7B7Z2v+i1XjEee18nxNHT5aswod1ohKgXcladlLoxQWYI2oTW3lGhCuCWkLNDmqapCqvnGhag6v1hO/GK8M9/v7pWjT/GGqks4oL1b6H4Yr6V0fy9UuSol/TVN8d69If63rEqHJ/1igCd7vOctoSsifHNuumdN/75UUMK/y/6NWJ67TgkdGq//Vp0gKmFpcpMCr++iBR/6qDxP/rtldblAH6yXTwaPzNHj6dG09Zo1AAzB2fkuWKPX5FC37e2MmBUyBGvh8puY/n6T5/0o650kBYxevnLVmUsAw8jZFe+4zDyzVU2NcO39b+GAlzkzXovRpShwcbuz+HSp4c7yeeNPMplQKu/lOhZgD5auUs9s5CgAAAAAAoI7synx6uBXwtanr4LFKnpmu+S8lKK6PK4hS9NZ4jflzvqqHyc9DJ0q1+HF3UiBQ0Q+laH5FbMYorXeTNejF7DqUhdmMtLtcjflMnKZlGRlalpakEeHGnMoLNWvk5KpNQ59GXKgqh7KmTapMCvhkTPNirJUUMLd3gmakG58zc6Ki2xmjDucq5TdPK/Owc2KLZx0x1sVZJmYdGet6j5lI+U2qsmr9XP9EYqAx/LBdr019SFO+s56bWtygx4f+S0sevFvdqrYZVHdtb9A9D/5dq4eOVh/PLffdAo2dOk87T6/rAvjSMUIjRg5T5NnoMzcwVDEjRynmmnObuXSy5ys32zUYE9nVeVBxK3h7jrLMgYBRenXJNMUPjlJ0n8GKn7lEr450TZn3+nKZjT9VuD5CA50Dpco0b/0CAAAAAACoq+LlmrXCFeaOTMrQypkJihscpZh7xyo5PUeLxgQ7Xyt6ZYGyfFwsfr5x5M5T0lqzPGyKeSlDixKGKcYZmzHKJinCNc2iZKXtcA7WzJGrVX9zlWvIxAVa9OhgRXYPV2T/UUpd8KIVy8nW8uzKQP9pxYU8OHKnK2mR+Zn9FNPPNa6afUs1yzmNsb2fMbf3WMX2MT5n8Dgt+iBNceadEOUrlLKw0DmNk0cdGTgzyyoTs44kaNGSJEWaL5QvVEa2H1SQeiIx0OB+0NalyfofzzsFWvTR1N//VU/1vsIacWY69J6oBb9P0D0eW+/g0dl6eul2ub4GZ9mBXM16ZKB6dO6i65yPbuodn6qMwqpfuLxU6/UxS1VmjXOr7TUXh4reStbQntZ0PYfriUX5slfpsLdMi8e4Xh/0t2JjZ7JCSUN7uqbvFquEd62dWZmxvPHRusEcbzx6xM1RTpUPrZzPdanW1fNudVxXpwYoF8e+7Krz6BatoZPneS2vwWx2yTlNvBYfqEtZ1aC4wNm3gBSsyOs9syJ2HfwqUF2Ng0TX+wcousotaTZ16xHlGiy1V62DLcPUtb9rsCCv2JhLPZTlK/3Z4erdzVqPzj11xyNG+X3io5bXoaztK8Zbr8Uq3UeOovL14UrfZ40EAAAAAADnzuHSikBzz66h1pCbTdHj39Ai84ry9NHq6nW9ZZ1jKqYTZcpblKyh0d2s2EAX9bhjvFJWFFeLtXnGcUpKV1fEnsa85THjslylTfaIadT22XVmV9bSha7lCR6nyfe4kiJuYfeNU5xzqFRLNngEzn2xH1WJNRgd7lWu7YJdrT8Yjjjca3+acSE3R75m/XGe8zMjkxL04E9do72V5a1TnnOon+IGey1XQD8NH+9a55LXV1nTGS6PUqKzDixR4gCvpjhCu6qnNWgv97lkfo3EQANzfDRbT2//1HpmcCYF/qTfXHuRNaJh2K4drmleyYGt2/9bMz46y7cNFM7ToNvjNHWVGfQNVJixgwgKcKhs7Tw9MWi4UrY0xJfOodKlT2vQHxYqz32r0OF8ZTw7XENf9n2rWEHBQiX9alJlZyblhVo8wXi+I1tJMcbyri2reJ99w3SN/O105Z1qUeuzrg1QLo4tqRoUE2/Nw1JuHKjeTtVIY/ziGu7OKv7HBJ9l9cDCU1+xX1ZcaJVLhMKqHF8CFWNmajOMx5NRVe4kMB38ssg1EBzo9VqQQsxb0ExrC2RNdWqlSzUmZriSFuWrrOJWL7uKVhnlNzD2tMo68LZYxTqHCo0DpHdZGAfXVatdgxFDFNPE+zQHAAAAAMAvtAtWV2sw/fWlKvG+6LGdqxPi6D5VO5itV0zFbJ7n4RgNfXah8g5UxhvsxauV9vhADUqtqZmifM1+YHxl7MnNGdOIU8rbHjGNGuM5DhXMj1fvntEaM9cdk6lJsQrWWoMDItTVuy1/W1dFWhdnlmwuqOHCW0tQhPq5bjDQO9m5VT+3uEBbnQPBGhjpDs6fblzI5FDenKc1ywzFhE7U/4wK1cWuF6qr2L7BCvTR3HZgOytlUV6oPe5mjmqoAyZH7qoaLoCFicRAQzr5sf6yfIF2Wk/NPgUeGPT/NXhSwM1MDrw46JcefQ58oZnm55+0njY6uzJfT3V1OBIxUSt3btUaYwexaVuOZtxjfhNL9c4/19W+I6qTXM16vVhxaVn6eM8efbo1Q6n3unZMRXPNjkV87DbfMg4WTxrLsmunPs5KU5xz8nyl/GaCcu6apjU7jfnszNL8+60dXPEcZVakGn2pz7o2QLkcXq2nfjfPGUi39ZqoZVuN5d27Rx+vmaYR5iKXZyvhgTkqqHYXQLbS5kmJGTnatnWrNmUkKcbK4ua9vFR5p7hroKQk1xrqoA517e/AOOBNfd11VIv8/ZCKA7ZbSIiVNS6360jtRziXE4Wa9UCiq+230GGasWanc93N7Z7c3yy/YqVNcidy6lHWgbdp+P3mOKngn7lVkxSH1ynzXdfgwN8NqciMAwAAAACAcyh0iCYMdv2Wd6xNVN8e5pX307V4baFKzFiALzXFVNZb8SEzpvLHylYbCuY+qARn8zyhGjEz0xV72rNVy56McAa5zdjTU746ws1eqndsw5S8JMsZg5liXq3uEdOw9U/Syo9cn/3pR1ZMw/zsxxdWXK1vXryY8UK2yg6XKSt1qbbWFjcpK3XFPwwxN/jqETNIIVaYS9nFHp/hS7DiZk7TwHZGuS6aoF/EpxplmquMuZM0KDZZecaad310muK7W5PX5hRxIfOCzqdecWYFNHnmuOoJDQ9B14ZaiYWlyt7sVRgnipW11B23KlLZ19ZgFQ6V5OcqZ0O2Fk+fpKHx5l0K9VgXP0NioAHZN76h//HoV6DD9X/SH2+91HrWOAJvTdKs6z0SD9/N1l82HrWeNDaHjrg/6soQhbhvI2oZpNiXtho70p3alDKgas/ipynyyWlK7B8sm7nzaBeuEc8luNoVM5YhfZVXZtPUL0lT7g9XkM0m2zX9NHniYOdoR3mkHnxssKt39oBgxUycZF1FbuxSvqgtVF+fdT3zcilbu9TqjCVCiS+PU6TZWYrBFjpYyS+OdQWui+cow6ulI9OImbMU1z1Ige0CFdR9lGa8OMD1Qnmx9tSajTC4bxGLCq3bdivPV0rFAS9FM+6rehtbVaU6WKVzmBrkL3dlkY0dd1xSkmJDXYcEc7vHPZOkgWb7db+PVKBzUetT1jb17D/MdYDZsVQ5HjcN2DdkWhnkwYq9ra4ZEQAAAAAA0LgCNXBalhZNjDKGDM4r7+coIT5Wfbt1UY+hyVrs1WRzjTGV4H5K/J9x6nrnKCXeFWaGFKQT+cqY7QoQ2O5PUvLgUFfsqWWgIh+ZrWRnW/gOZby1yscFngM0ZUGK4noFu2IwgTaPmIbx2kuj1NUdYgg0YxoJrvbu8+cpo6Kln1BF3uuaKPCuSHWxQiA+nfjeGmggwYM15R/TNOKnrlYXEuLj9ETqCmfyISZhif7ymCsxUqtTxYVOFCv92enOJE3Yoy8qPtw1ukbd71SccxYOpT9utvxhbdvyUmW9MF5JFXGwUtmd29ibXTmvxGlkXLwSXjHWpU2Es/+FZXVZFz9EYqDBfKF/bfxfa9jUR0mD+zRspTv5lTZ8sFn2KncEXKQ+gxN0l/XM9I+N7+lza7hxBannLVYq8t1J+sXQSUqZu1RZO4wvp8Pm2pE2iGDF3OxOeVoCotTvHmt4e2n1LOhPw6oEtgM7uO+rMLbIhdagKTDI446L2tRnXc+8XPZ8bPUA3H2Ior2atbFF3GZ1AuNQToFHdNspShHXV611gVeexvXvxixqvK3Lzdz5xw5XmrkIoWP195nDFNIA27ykyH3r3DD1u9nrG3TNML1q9ng/coDCnMfN+pW1LWqYJjgPMJ7NCVU2I2S7f5hiyAsAAAAAANB0tAxS9KPp2rYrSytnJin+niiFWcF+e/5CJQyK1pi3KtvnqTWmEjVRK1815nFvhILMkMOXRRVX4Y+4LdIrjmd87gCrFYTsQu30vio1ql9F0sGtIqYR1FZHCswr1z0eJQ4rBlWqvN3uNEOgBpoXNm7dqW2zBleJZTUuhwpeHa7eAydp8Sc2BfUfpQmPjtOEMYPVNUDKSo01XktVns/gu6UOcaGSpamuYH7wWCX/vg7BeVuEJk8bK+f9EIdXKynW3XdojMb8TYpPGmfdkRCuYK+yd7GpS39jPYx1ib8nQoFl+c7moHrEpirrVBfL+iESAw1lT6b+4nE1dIcbR+uuhvw2m0mB9Ic0fOXvNfIfXsmBoLv0uxs97ho4vEDv7rGGG1nY2Df06kjji2YM2/NXKC01UWNiY9SjWzf1jvfu1Pd0hSnocmuwgk1t21iDZhDYGmxM9VnXMyuXMpXstQavMNbTGqzQsjJkX/Cl95obu1jPxEd92axd9KluOauy8x+mV/+SoEj31fo1ClYHnzvtqso+c98WZqz7KY8Y9SzrluGKGebKXhfMW+XqwKiiGSGbRvT3PgkAAAAAAABNgi1YXQePUuLUdK3ZukfbMlI0wtmvoUNZf3hRGc643CliKt4OFCvHGrRdUj0icPGF7nE+WkEwXvK+qLIiplG2VElx5pXrno9Uq7UCg1dTz7Z2dYhGBAW7AuaGg9/5joR9/6M10D3YGSepUeE8PeHst9OmmJcytSktSZMnTtTkZ6ZpZU664s3QSfE8/fbp1b5jbnWJC5UaZfCCmaSxKe5/Jnp1WFwzW68ErTGWYfKdZh+S5phAhd05UYtyMpXY1WF1Rt1BbX2uYKAiRxrrYaxL4tQl2rY+xdnEtsNY30dermFd/BiJgQayc/s7Hn0LXKWHo25uuACjOymwy9Wp8dbt3smBi9QnKl7drGfm3Qv/3P6xNdzIWgZr4PPGF21XjtYsmabkR0dpYKj5zTRvQ5qukQ97tpt2ug7K4dFEk4tDR9zjTrWzayj1WdczKpdAdbjKGnQYO3Vr0JeQukTO66GiPwCjzA/WtLe053rt/FM00OtOMU8lRVamPjhIHeqwuIFXVt5X9v0p+kRwqmdZd71rrCu7XLpKW411qGhGKHichkc1bHkCAAAAAIAzUG6X/bDxsHtfri8Fdh+m1GkTrSvIV8vVqELdYypOHp0b67j116dL1bYOge2KmMZPzb4Ntjr7HvD1mDH4NK4mbtlBwVY7+QV5Hp0qVyhUnqtBBOmm4Fr7TyxYt9Tqe3GYRg/2CuoERin2N65xjhW51fs9qGNcKG9psqv/SNmUM324BsXGVjyeWuqcRNo0XQ+Y4+Z6tZXdMUoTXs3QJrOP0L1btebVcYruKBUVWImX4AiF1aUIg4fpwftcg4638qr2NwkSAw3jK31e+oU1bGjx/3RzF2v4THklBVwu0tUdOynQc+t1uVm/8ni+s/RTHbSGG5vjcJnsJ4IU1muw4iYm6dU1W7UywdoR5q9TjruXcLfsYu2pEvAt055PrEGfCpXxYZUu240PzVP229bwtR3q2BzQmavPuta7XCrYFBJmTZebrTzvjPSO3IoMc8yNXk0snaGg8AjrwOE+oHoxd/5D41w7/3YDNOMUSQEzo75nhzUYEVanTn1DrnG2uGdYpbyKNvcsh1dr6rPTlb4iv0onQ/Uq69B+Gh5hDpjNCeUr533XUTPkN/1q7QAHAAAAAACcXXmvR6tHz57qEZ2qnOq5AZl9JVYNkJ8iplK4UEkvzHN2XlxmxqaCg9XT9Yoyt3gHIezKyXY3SxRpNWlcu4qYxicFKlGgs+8Bz4ctwBo+resSQ9XTHYRZsVTveceVdmRriRU+i42qvUUEx/fu5hWOVHQ36clxxP16qeyeBVyfuFDFjO0q2lGoAo9HkXu7lJe5xrk7Ei6co75m00Gduylpg9eCOfK1ZJ5rG4UM61eR0Cl4NcbV3FDn8dZdI54ccnCbQI1IDDSIL7RnvzVourqHujREydaQFLhnwDLN7u9Of1paXKduV1vDpv0fN8CV+qfgMHYG3brohp7RGvpn8/ajSo6KW5oqm48Ju8nVAbA0T1Pn5Mtu7oBP2FXwt0QlWfvZmuS9mKzF+6wnxntypicr3co6jrjrlsa/Y6A+61rPcvEl7M5RinEOrdbU51aoxJ1IsRcq/c9zXNs2YJTubOgr3EMjnLdYGUuqjA+9Dohl2Upy7/zNDnzeeE4xbazMvcfD4Zn0MZY310rmxvzC1dxPBUeh0uKNA3x0vNJ2VJaSLWqI65Y14+Az9bk5ynMX2YkyZf15mmYtmqOkp5erxAzin1ZZB+uXv3H2HqSCzQuUudYcitCDd1knDgAAAAAAoEnoevMwV4C7fKEemTxPeaXWL/8TDpXtWKqESdOt+NcAdbWunaw1pjI9VenzU5UwJ0/fm3EFW5RiH3JFtkumP6dZ+e5YgpytEMxyNj0sRQ7vV9GMT21sUQMU54yrrNasP2e7kg+WsrXJuuPGLupxR7zSKy7GdKhgfrx694zWmLnuPhdr1vWecda6ZSvpsTkViQ9H8YrKsggeq7j+7giM7/lXlKtWaOr0qstpL1yoWQutKSNuU6T7yvx6xoUiH6t6l4TnY/79rmkUlaSV5rjHIlzPr++n4c7t6FB6crIWW50PO8qMbTf5QaWZiY+Afpo8rDKG07XPsIqLXP/47EIVlFnL7ihTwd8m6JG3XE9t999WeXcInEgMNISyvXJfFG3qcHn7GgPV9q++soZOoT5JAadL9ZPLPfoZ0Kf6vNZ27BuAsfMc/nSUc0dSNHe4ekRbtwTd0VNDX3GlKMOeHKYYK3Yd2G+ItXOU8qYb03fpouu69NSgly/VhImuQK1vUYq/T0qI6aIboqON9/XUyLmuPaitf5LG397oaYH6rWs9y8WnjsOU/FI/5zxKVkxS3x7RxjwGqsfPYpW01tzBhSr+rwmKrm0ep8MWqTuHuWZakln1Fqu8eZ4HrnylDLWy9l6PqR53f9nXZSjDOdRPd/bxusdrx3KlrC2T/UC2Uv6ZV3nw8+xoJn+6hv6sp+4wyq+3UQZj/mYugE0xz411rftplnVQ/yGuDpzfXaEMM8EUMUQxXh0SAQAAAACAc8vWJ0F/f8gV8be/m6qhfbu5rg7v0k29YxO12BmnMNvJf1qx7osC6xJTedodTLYp8rFpind+RL6mDu2pHnfEalC02W/hQmdcxNY/RTPuq7W5hEq2KCX+1RXTKPpbvDOW4Y5TmPMzA/cd+o/TiIoGIAqV8UK2yg6XKSt1afVme7x5rJtjy3QN7WleKd9FN9wxySoLY92mTVRkRRzE9/w9y7XKchrr3WOQ1QRQQD+lzhxV0fpDveNC7rsjfDwqWsa22dTBHOdupqlluOJfHOfsAFnFS5VgdT58w8+NbfeumSQI1MDnkxTb0Tm1S/exmlFRR5I16OdWHbnRWKfkbFe8yewc+UlX/AiVSAw0gl7tfQXupc83/o9GvvQrjV/r0eyQL/VOCrh0aN/bGjp7wkamaeVLo5y9sDsOWLcEFdtl69hP8TMztfIRj6uwjR1K8r+mKS6iMpBvCx+m1H++qBFXWiN8sin0dyma/1CEbAfKrFvEzM5EUrTSR4/njaU+61qvcqlByL1p+iB9omI6Grst561VrvbjAiNGKXXlEiX2aozdmU3Rvx7n2unvmKdMz4xXvdmVtcpq3O6uIfql507bFBqpEc6DtrFTjwyrsnM2O5pZtjLFqiuuW87KjIOSWX6T07M0/97KA/JplXW7ARo+0ho2DPzdkDo1cwQAAAAAAM4mmyITMrRm5lhXfMSLGSNJXlY1TmCqV0wlIEKJyzKUOtLV0oG9uFAFBxzG+CDFTEzXB6/VL/ZUJabhbiqn2Pj0dhGKeylDy56M8IiBhCryXlecLPCuSHWpvorVONdtUYJiPeJrJue6ZWZ4xYtqmr9ZrpnaZJSRs59G93Ja6+2MueWkaUQd8yENydZropb9c5ri+1RdP1v4YOe2fvUe74XyWhdPzm2YpvUZPjpHhi74j8Eabnb2FO9Tl9AmcJlv6RKNfiVVzhZJDHcNWKM3+l9hPXMxkwLjl7+jrc5ntQT565EU+Pa7cpUf+16O73/Q8R+P68SJk/qP8e+HEz/oUPl3urjdNerW/mJd0ubs1HyH3bpdqKVNgadqLM1hl/2ER0awrsz3mQHiwEDZzmF78PVZ13qVSw0q5mE7jTKrtzItHhOthGzj4+5P17ak08yo7luooTHJylOwJmdkaYLVQU4VJxyyO4xyqW2dzI6GzPTuWSprAAAAAADQRLljBCbzivQ6/PSvV0zFjFNYH9AgsaeK5bUpsF3NC+s47JCtltdr5J7/KcrilPO34m2nWs6zzr1c9YmHud/TxGJDTSaO7YHEQEMoe0cP/ul/ZDU7Vj0xUNdgfx2mO3nypA5/Y9cR+1HZLrpIbQJa6+KLbWrV6kK1bOnaW504cULHj/+o77936LvyY3L88IPaBl6qdpcFqkULbhJBHRTO08inl+uIojR5QYJivBKup2a2YTdBT2UclG4ar78/P6DG5rUAAAAAAACA8xmJgQbWVBMDHSL/qo9G3GQ9s5wq6F+HpID96Lc69NVhXdKmjS677FJd1KqVc/yp/HD8uL755qi+/e47tb+inQIvvcR6BQAAAAAAAADQmJpiYoDLxxtCUGd5tpJy8OtDVjv4HlpcoT5xc7XkxuusEaYf9PbqoRq/ervWniIpcPDQ1/rmyFF16thBHYIur3NSwGROa77HfK85D3NeAAAAAAAAAAD/RGKgQVylLp2sQdPn27TnpDXsqabkwNrfaXQtSYED/z6kkydO6urgK53NBp0u873mPMx5mfMEAAAAAAAAAPgfEgMN4gpdHewK4jud/F9t3mMNe/OZHPBU/U4BU8eftHf+rcZRpqItK5Q+fbqmOh/ztHhtoUqcHYb45p4Xdw4AAAAAAAAAgP+hj4GGsmeeBrwxWzutpx1ufF3/97ubVeP1/XXsU8Bs+se8yr8ae6EWv/ycUhbl///t3X98z/X+//E7s81mNsY08qtwdFCdIZ05KlqEQ/OpQ86X9EkpJXUkJfU5cirpF+VHKeEkSnU4rZyIhH7QL5zCSkZ+xTLGfti8N9u+r+f7/dr23u/32Nj2vl0vvfN6Pd+vvV/P1/P1fD3/eDxer+er6LRFTv4Ki7pHLz5xj7qH20WF7D94WA1C6vPOAQAAAAAAAACoJLxjoCZr11e3NbSXLUd+fFMfJdgrxSny5EDBpEB2drbzRcNNGoc6190lrJ+mAd2jNXHJVjnCe2rEE9O1JGadvt+8Wd+seVdLXpqo6Ah/JaydoWHdu+juJbvlsP/Wnfltsw+zLwAAAAAAAACAd+CJgQqU/PmDumTFp/aa1KT9TH09skfJTw0YzicHxurtFs/lJQWMY4knlJWV7XxpsLvkL6bophGLFRfYQaNeel2TosLsb4pKjl2sh2+ZolXH/dV5wrt66+4ORepyJCFRPj611Si0gV0CAAAAAAAAAKgoPDFQwwX/6Q79vZ69Yjmy80H948sUe60EzicH3iqQFDCSklPUoEF9e8128D39bbRJCvTUlOXvlpoUMII7DNcr6xZpVBuHtjz3gF74ruhzA2YfZl8AAAAAAAAAAO9AYqAi1b5Et91wizrZq1KGFq4Yq7k7M+z1EhQ6C6kn0+Tv5yc/X1+7xEjWquemaF1ac42aN1sjflfo3v/vpumii9tp5L8KzV8UHKlJC6eql3Zr3iPztSPLLreZfZh9mX0CAAAAAAAAAGo+EgMVzP8PY/T0ZbnvDbBk/6B//PNBvb23jOSAm7T0U6oXGGCv2fZ9oHkfOqT+D+jeyFInJyqq+WCNH9dc2v2y3t1U9KkBsy+zTwAAAAAAAABAzUdioML5qcvgyfp7fT973ZL9hca/+r965ptjdkHpHKcyVLduweD/gU2rtcX6d8Rf+ijYVVQuHfvfro5yaNF68ysFmX2ZfQIAAAAAAAAAaj4SA5XB7zKNHv+aHnZ734Cyf9JLy/6sIa+/r+1JdlkJMk9nyte3jr3mciBuk/X/SHVoW86nBXK16aju5t8fD+qAsyCf2ZfZJwAAAAAAAACg5iMxUFkCLtP9417Vw+5PDihDX+z6h/pMvUa3vPKm1u4/Jke2/ZWbrKxs+fj42GtGgg7sMf/6SwXzBUXE/RSnopMFudm02/q1gsy+zD5rsozUVGUUer8CPJRO26H8uOYAAAAAAACqLhIDlan+Fbp/4jK93u4SNbGLXFK0du8M3TKnty56tLeGPP+onnlnjuban6L8FVLfXixJh+t1bwd/HVgwSjfN2FpycqB5sEkvVKjEr1/VYzf111W9rrM+/RU9cqpW7Ey1v/VUvFaMuU4PLY+31yvQzoUaOXCQHluRaBe4gpaphWZPKq7sTCUuv09XjYlR/h4L26o5VnvN+c5erRSJWjPBnJNHtaGMp1TcFah76qd6pv8g9Xt5q/M7p3SrndLt5cr23Sy7X9mf6wdp5PAJmrMyThVzqs7kPHjQV531nqXt9mpFqynXXIX2JU/aPCtV218drSjTbi+69enCYl/V8LK2qUkqub8CAAAAAICqh8RAZatzofrf8ZZW3zxG/Yu72z/7mL5IWKmXtszXP+yPI8uhrCz3W22D1aS1CefHKaGkSHNghMa/+6bu7SDtmHVL0eRAcoKOmH/btyiUpDBPKGTJx+fMukLG+qka/PfP1fSOmYp5/32tfHumJkbs14z7JmnFr/ZG51vbwXpq+nMaFxVqF8Rr9cOD9I8V7gHR4sqqufjPtea7Dors8LXWbCw5RVGqoGs1as5Tmjs0wi6Qtr86SP1ePZcB0wiNeeopvWQ+kx/RvcNaavuL9+mxmBp0rsqh5lxz57gvJXyteaOH6P7vwnXNhXZZcbL2a/nzMTrs/rAXAAAAAABADUNi4Bxp0vl2vf7EBm0YcIv+x6/0iNPRtERlZp6211w6XjFY/jqoVV/ttkuKUUpywLFlk2Ksfzv26KAwV1Eesy/fOr72WnkkasPyT9Vq6OMa06+tQkOCFBTeVpFjH9fEron67PM4ezspI6notCIl3qGflaFUa3vzKTIVifM71x9lJMZpe2x8/jbWd4lxW7Vrf6Ef9QlS04vbqVGAa9VZF2sTh7lb2d5HcWXuzPfOOhVXX6O0Opcl728L/bipS3E7zChm22IcXh+jTVcO0pgBEdqw4vOSn14oo+5BLTuqaYhr2ZyzFHOHd/rx/O3tvy/ub53t5l5Vt32V2JZFtFSn7leqc+6n31hNHBaqTau/zj8m0yaFf9C5r2J2Yp/jku5UL1dfdeM81uI2yt2fx8dbmnJcc+W5Q7+0PuDWjhV6zRXXl9w462/qVMoTBbnXZZE6FyPx8yXactlkvTd3tDrb/bk4h5c/rxkBt2lclF3gidxzXMpJzq1raf2gzG1KO08WZzub8tztPKhPaW3nyTkowK1+Hh+DWS9m43LvGwAAAAAAlAuJgXOpdn21u2qc5jzxlX4a86rm/HGI/lq/UZE7+Lcd/lGnThWcDMj/ihs0orm0Y/pirUuzC4uTlxxoo+5XdXBNG5S1W+/MWmwtRGhIzzampACzL/+6Z357bGp64aBOuHo/tVjPDm1rr2/VvEGDNK/AjcEl3KGf9LXmDR+k6FuHa7D1N/2GP64N7ndBb31V/QbN0tIlozV41ON6dNxwa5uF2rU/Ro8NHKT7Hn9a993aX/0mxOhwXsDLff9mebRmxElbXh9t/dYkrU4orsz5h9bBxWrp6P6KGjJc940con7X99djSwtNY/Prp3rGqnO/QUM07FZrm+GztNHTqXt+MfXur8HW8UYPsuo92joWe0aYjO9mKnrglCLTAO163TrmJ9eq9Ilj9mvTiv3qfW03tYroocjYGK3fb3/lrsy6u58n1/JDq63F1VOtv7Hb1McqHzdIw1+PNX+QL3Gl/jFouJbvdK1mbFuo+61j7ffXkflteTZ3/bu9hiNxxST1e3hlweSHs6+86jY9Sqp2LbTOb3+7f/U3+88PpLuUo6+6Obz8PvUb9bw2JxV8p8jemAlWHYZr2F+tNj7b43VT9jVXfJ2LvUP/vFxzJfQlIyteG6ZY+xg4RKNHW9eFdZ5GPvuFEt0D2LnXpd1vowZO0JpfSopEuwT1mapXxl6pUPfXtxT2a4xmvJ6qcQ8OVmtPhkS7rlH9rbqOGa1hNxVuB4snY4jb8Qz+q2ub+xfGFtgm7/oZYm0zZJB1zKO1dJv7KGC3+XLXeXFez2b7kupTWtvlbnOTVecxI53XyshZW0udvsuj67uY8Wb7eqt/uV+7eed/kKstzL6nfFrwGAAAAAAAwNnLqcZ+jttrL1V/p5KTc5Lsz5GEozkHfo23v8l3ZPkdOe0vapvT/o53c/aftgtLkvf9qZzNT1+f09r6u6ue3mKtFXXQ2ldK6kl7rXwc387MGdazX85tDy/I2bjrcI6j2HptyZndMypn9rf2qtPhnA/vicqZsOxwgfVr+4zNefunFFfR6cM5G6cOzulx27s5h1wlOTnW/npY+5vy0THX+ul9Ocvu6ZfTN/rBnA8PuopyDr6fM6FPP7f9Fd5/4X0bxZetHtsvZ9jUz3OO5R7Xvnedvz39M0duQc6y26JyBj+xNm+blJ8WW9tE5fS45/0cu5bFcNXp2sFP5azP3eWJXTnLrP1da+3P+eund+S8ER2V82jusRppn+dML7D/EuyYmzO454M5q51/6jq2297Y5/wqnyd1L9ou22ZY38/YYq+5pHz0YE6P6Lk5P7ud/0Nv35Z/7hxbct4YGp0z4Y1dOSn2No6vnrfqOCln/QnXerGc5/upnI0nUnJS7M+hbxdYdRxsnU+7n1iOLRtbtL2dfzszZ5u96vjsqZxrexbTvwr0Dc/7au76IWvf1/az2jq3/xl2PzXHm3umDr1t1bHPUzmb0+yCM+TZNVdcfy587lzbnL9rrri+5MjZNnNwzrVjF+fszT29J77KmT04Kmf027n915GzeWo/63wvyPk5t+8cXpsz3drG/XyXzFWXwn3YlJvrfbR9nRTXzwtz9inrnG7MrUeKddwjBue89lXuWfdkDHFtc+1Yq80LbTPlY7vND7vad8K7+dfwoXetfmedu9V5TWqPKe5tZ37HOnf5+/Ks7VzX7oKcvbn1sc7vozdafbzwEJLLo+u76HjjsMabR/uZ+uReu67z32PwzJzNuX9nn/9hM7fkXUsAAAAAAFQ3VTGOzRMDVYR//foKtj9hjRspIyNDGZmZ9rcuYTdM1pQofznWTtLIRz7UgdLuoDR3xWYla8srt+j/vbZbanO7XrwvosiLh80+HNa+guoF2iXl49d1rBa88aD6+Hyuf4warqjr+uvuRxdqy5neGN3vNg1tH+Ra9glX5F236ZpflmhNgZvR++nGfvbc5T4t9bt2GUrtGq0+ufOGX3ilrm6boX37z/Lu7F/W6u1t3TRmbI/8u4xbDtaoaD8t3/CN6+7ZXz7Xil86aMQd1+ZtE9R+mEb08+wJjC5DR+qacHslpK1uHBWtRqtXapO5a9+ngyL7BWnDp1/nPR2Q8d1nWmEdf+/upf/+rvUrdfjKfop0NlO4eg6I0K7lK7XLvc+cZd3dBXW36pRk1TvvPO3XptX7FTngKjU1q34RGvH2+3p2RFsF2fvy69pD12irft7jWi/Zp3rI3Mluf4ZMiJFjwH36a4TdTzySoc0bPpWiC/Wv24Yp0rV2Rg7HTNDIV6Vx855T7yLz1kdp6LC2ym3Npj2jFJkRr0OlPE2yb6n1ew+8p32lXNs1+ppL/0Zrlvtp1JhhapV7ekOu1K23RWj7is+1z6xb22xYLQ297Ta1y50SKPxa3Tq0g71yZlJXz9K0+Gg9MKylXVK2jPSTygjwzx9XgyI05o13NepK+6x7NIaYbdpq3KTBauq2zZNvL9ZE+x0N+1a/p01t79LEwfl1azp4ksa1jdXb1nXm7sZhbm3X8ipd3SFDh3NfTuNh26UmWdsHBOX1XV0YrSeXWX28pKbx5PouZrzxs8abWwe4jTfO85+qoQ+NzZ/uyTr/Yx6K1mFr/NrMtEIAAAAAAFQYEgNVVEhwfZ04kWKv2Xya6+aXYpzJgbh/PaDe0Q9o3hcH5SgmiJi87UNNva2XbnpuqxxtBuuVhRPVuZjYv9mH2dfZ8Gt5rYY+tUArP/lIMfMmq7ffWk346xDN21raxBPF69LSGUbOFxqupkrVsSNl/FZQvfwgVkU5lqhd+kZzRg/XyOH5n6dXW3U5fMwVrHdu006tc4P7tmYtc6d0KV2rloX+MCxcrbXP/KxTu37D1Om7lVrvjLe6gtuNoqPUKTeAWJysWG1anaprulh1sOfyVrtuiiwQuLecZd0LCOmhAX0y9MZaez4YZxAwQr17uv14Rry2L1+oOY+OdrZjdP9HtdQ6prLnh4/WK+s+0ee5n2VTdc2uqRo8rtAUKaVK1LHDxfSv8JZqZS+W196Vj2vCi1v1u9se1IBiX2brJ7/SzlMRGTr2yw7t2rFLx8ro7jX2mks6psPWuXr78YLX3H2v75B+TZRzRHRu01atmjv/Ik9oy3b20hlI/ULzXtiloY/cpnblOGdBVw3TmPC1un9Qfw1/YKqWLv9a+9znszqLMcQvNDSv/6QkWgNAu5bKfZWzizVWWIe8K/GYvW4rrf4etl276Ps0IHGhhvQfpLsffUHLV8bqcFldq6zru4TjbGRdg3lKqJ+at1QXxeuYp1O0AQAAAACAMpEYqKIaNghW6smTRd41oMA2GjF3nZaMi5R/7IeaOqKXLmnXRb2jozXA/nTr1E6XO5MGDnUcOlVrYqaqb+FAi8X8ttmH2VeF8PFTaNsrdePkuXoyKlWL/mPfEVsB/AIqPATpoY4acM9Y3ev+eWiyXrrjSpXnfvXyCVLe+6lbXqU/d4jVf8wLApK+0Jq14Rrar/Q7ozM2vq83kqQNL4/Mu8u+36hXtUmpemPFFxV2TgryU+fe/aSVK7UlXdq1+j3tiorWNbmRzPStmjd8uCasTlSra2/TI1PnasmHT2mo/XW5hHbQjY+PVeS2hVpjv7/gfDiW2lFjxl+r7a8+qDnfuc/1fqasNnzkI33+8SR1tl/aW6Yaec2Fqs+wQtfceOuae6qfWttbVKwMbX/9eS2/8Cr9zuqnWzZ+7fxsN+9Z+DXWWt6qwyXdqR7QQUPnfqS1bzyvMT2a6vD6pzXyr8O1qECC5nyMIWcp/Fo9vPh9xcyZrBut4Wb70gc1ZNAErSnpgZCKvL4BAAAAAMA5QWKgiqpdu7YaN2qoI0fdbz+1+YSp+9hF+n5zjF4cO1Cdwx2K2xarHfYnwb+N+g6brAVrNmrF1MFqW8IsQea3zT7Mvs5I6heaM9wEwez1PEGqX1zEq8Dd3RnKKObuz02xhV7KuT9O2xWupoXf0HwuNAlXJ+ufRpdcqc7d3T4REdYn3HW3tHObr/XzL2YlV4b27iz8UtvibY4tOA1Ixq4d2qyWapR3a7BrGqDtq7/W9q/Xas1F0Yq8yP6qWBna/sUXyoh6XGvd77K3PmsnX6uM9Z9pe26Q8yzrXkRElG4N+EIbvtuqTSszdOM13fLvKN/xhRYl9NNTc8ZrQNSVatcySEGpiTpsf10hMjLknkbLSHV/4iZUzZr7ldC/iuFBX+0yeLAiB9ynl6Klpc8u1PaKyA2UpZzXXMGniTKUUkwdq9Q1F9JITf1SVb9VoWuua4Q6XdnWFUh3bhOrXT8VTIEcjivSKB5K1bGkILXL+FpvvDxLs+3Pih3WVztirOUY/VzSuc3KUKp1Pfm17KDIG2/TuJmL9eSV8Zq3wfyxxZMxpHlLRZopdwq9HPzw1vynD5pZv68f4gpdL/v18w9SZOEnPkrjaduZ48oySacI9R42Xn9fMFNjQrdqzcYSMgOeXN/O41yrLdvsdadU7fyv22NMYS3Vyi9Ou3YVrJ9zXPRrp9ZhdgEAAAAAADhrJAaqsOD6Qapb11/xvx21Swpp2EHR46Zr2cbt+mXXdn2/ebN+2rVLv2xepVeeGK5ebUp+EsD8pvlts48zFvQHdb4kUfOeflwrYuNdU0akx2vX8sc1LUa6sccf7MBwO3W6yk9LX35V2xMzpIxE7Vq0QCsKxn6c/D6fqzlr7eBTUpyWP79QP186WD1LDYaXV6gaNZX2xu1TqqmzM3haTFnLKA29coemPb5Eu+wAXcavn2rGrf1191I7iufcJlFzZljb2MHjxLXPa/Z613JZ9i2dpeU77ahj/KeaM+tTNb2xn7q43TEe1DNaN/7yuRbFfK1rBke55uwviT2HeIGgvM3vyqt1oz7Vhq/thj/DutcPDZd2xbmm8XG2nc2ng665MVSbli7UekVrgPt7EJwB0h3a/oN9rBnx2vT6Em1yrZUhRSn2lEjmkxj3qRZNmqUNYf0U2d61RWjHCLWKW6J5MXHOfpix/1PNW/pft7byU+foaLVaO7Ng/5pl9S/Xms3zvuoSpE5jZ+rh8JW6f1J5pjY6Qx5fc+G6tGuotiyZpTVxVuWzMnR47Swt/aHo9X7+rrli+lJADw240U/znpiqTb/ajZ4Yq+UPDlK/Z+2nXZzbhGr5y89rk13t1J1LNGdRCUHrMoXqmsmLtWBxwc/EPtZXfR6xlh/XNSUEpA+/N1r9bp2lLbn52/hv9NUPUqfwRq51T8aQ8Kv05yvjNef5/G1SY5doxsQpWm5fL6E9B6n3rws1Y1Gs3X6mXz6vOb9eqT+7T9dVFo/aLkNbnh2k6Aff0z77FKTGfa4tv/qpaVjByYzyeHJ9h0dpRLR1bh8erUUrt2r71q+1ZtaDmveTW5/0iVCfG4Os69Kqn33+TXu5xsUyplADAAAAAADlQmKgimvS2BWIKTE5kMvHX8ENg+XvQeAk97dyf/vMBSnykbn6+2X7NWeMeQnqdbqq/3CNfH2/ujw0V+N65gZ8gnTN2EkaqhjdfVN/XTVwpN4OGKlR3e2v3XS5Y6w6rRqpq3pZvzVotOZlDNbcqdE625oW5KfI28bqd+sfVb/r+muO82bZ4spCdc1jMzWu0UqNvsmqj1WnqOHPa2/Pp/RU3ktAzTbPa1TGEo0c5Npm2KqOuvcOz+bpv3H8/9Oxx4e4jvevz2tbx0l67p6IgkH9gG66pk+cNsVeqd7dS2+J1PUxWu7XQ9d0LZwWsJjf6emn5f9Z65rb/Azr3urG8Rph5h+3zvdDMQWDsa16RqtRbKxS+11VcK72lv008a5GevuBQa5jHfigtnQbphvtr0tX8OXD0WNmalOjwXppzl35+2g/WE/d1VGbXx7t7IfR/7dVkWOGFZx6psNdeu6RDtr27HBXHYY8rmM3P1ioDp731Tw+4RowdbJu3D9LE2ZtLXj3fYXz9JqzzsXgqRp3yQ5NG2Udx3WD9I//Xql7hxZ9e+z5u+aK70vt7pirl3ru1z+GW/U2dbrpQa1odJcWjO2Rd120u2OmnuwYq8f+an1vbRP9eKKGju9nf3vuNLXa+MmOX2uCPT6Ya/jnqx4vND54MoYU3KbfuJVq9De38xl6rSbOvEuNVj5otZ+1zXVDNHplqMbNfCR/ui4Pld12fuo81owLCzX8ers+98Uo6K6ZGnNVMeOK4dH1bZJoC6zz2E4/L3lB019YqO0XPqjJhfpk4fOf214z7zi7l0sDAAAAAICCauVY7OVqZ9fufWrX5kxfHVq9mGl/zDsBTDDf3Ol/Jszfm98xf3/2SYFCzNQTqRkyc54HBZUQPDIyrG3yJtAvWUZqqjJ8ghTk6VzrZ6i46hRbRfv4/IKCSn6hbHqqc/qNUo+/BBlJ1vEGWMdbwp/uenmQRic9qJWP5AdHK9SZ1L24hkpcqcduek+d31igG4vGoD1rx7NUZhfztA4e9tXzxtNrztrOOtoy2/t8XnPFFuYeXynXhVVppaZbxx9yns+Tsx7WIZTWpzzpdx78jvM8WefzTMaZAjxpOzMumFPj6fVa1jGapx0KlScuv0/Ra6MUM6dQMsqT9gIAAAAAoJqoinFsnhioJkwgv0FIfR2KP6IjCYnKyMy0vymb2db8jflb8xsVnhQwTHAyJKjsYJWHgVYTDKrsAKVRXHWKraJ9fKUGqEwA8wyDdX6m7Yr7UxNI2/+e5sVItw6opKSAcSZ1d28o5/QmqdqyaKE2dB2sPsUlBQxP2vEsldnFPK2Dh331vPH0mrO286S9z+c1V2xh7vGVdnh+1vfnOylgOOtRRp/ypN958DvO83SG40wBnrSdGRfKqrO7Uo9xv9aMG6SHFsW5pkMykr7W20tj1bRju6JPqHjSXgAAAAAA4IzxxEA1k52dreMnkpWUnCJ/Pz/VCwxwPgHg61tHPj6uCEpWVpYyM087nxA4mZYuR0aGQoLrq2GD4DN/0TDOg3itGDNcz8T6qd2NT2nu2EJTDFUl381S1IQYZQRE6O/znlPvC+1yALBl7HxP0x5eqDVJGXaJNbb1vEuTx0erVdHXXwAAAAAAUGNUxTg2iYFqLPVkmtLST8lxKkOZpzOVlZXtLPfxqS3fOr7yr+unwIC6CqoX6CxHNZThmt6lOtw1m+Gc9qPKpi4AVBHOqdPMQmnTRAEAAAAAUIOQGKhg3p4YAAAAAAAAAABUbVUxjs28MgAAAAAAAAAAeBESAwAAAAAAAAAAeBESAwAAAAAAAAAAeBESAwAAAAAAAAAAeBESAwAAAAAAAAAAeBESAwAAAAAAAAAAeBESAwAAAAAAAAAAeBESAwAAAAAAAAAAeBESAwAAAAAAAAAAeBESAwAAAAAAAAAAeBESAwAAAAAAAAAAeBESAwAAAAAAAAAAeBESAwAAAAAAAAAAeBESAwAAAAAAAAAAeBESAwAAAAAAAAAAeBESAwAAAAAAAAAAeBESAwAAAAAAAAAAeBESAwAAAAAAAAAAeBESAwAAAAAAAAAAeBESAwAAAAAAAAAAeBESAwAAAAAAAAAAeBESAwAAAAAAAAAAeBESAwAAAAAAAAAAeBESAwAAAAAAAAAAeBESAwAAAAAAAAAAeBESAwAAAAAAAAAAeBESAwAAAAAAAAAAeBESAwAAAAAAAAAAeBESAwAAAAAAAAAAeBESAwAAAAAAAAAAeBESAwAAAAAAAAAAeBESAwAAAAAAAAAAeJFaORZ7udrZtXuf2rVpZa9VLympJ3UiKVkpKSd1Mj1dDodDpzNPK7v6ng4AOGO1a9VSHd868vf3V72AANWvX08NQoJVP6ievQUAAAAAAED1VBXj2CQGzqG09HQdjk/QkYRjql27lho0CFFw/XqqFxiouv7+zqCYCY4BgLcxSVGTHD3lcOhkWpqSU07qxIkkZWfnqElYIzUND1NgQIC9NQAAAAAAQPVBYqCCVZfEQOrJNO0/cEjHEo+raXgTXdCkMXfBAoAHzNNVvx05qsPxR9QotKFatmimoHqB9rcAAAAAAABVH4mBClYdEgO7f9mvg4fi1brlhWrRvBlPBADAGTBPFBw4eEh79/+q5s3C1eailvY3AAAAAAAAVVtVjGPz8uFKYu5y/XbrNjkyMhR5RYRatbiQpAAAnCEzfppx1IynZlw146sZZwEAAAAAAFB+JAYqwZGjx7R56zZdGN5EHdq3lZ+fr/0NAOBsmPHUjKtmfDXjrBlvAQAAAAAAUD4kBirY4d8StPPnPbr80t+rWdML7FIAQEUy46sZZ814a8ZdAAAAAAAAeI7EQAUyd67G7d7rDFY1bBBilwIAKoMZZ814a8ZdnhwAAAAAAADwHImBCmLmuo79cZc6dfidgusH2aUAgMpkxlsz7prxl3cOAAAAAAAAeIbEQAX5adce/a7tRTwpAADnmBl3zfhrxmEAAAAAAACUjcRABdj9y37VCwzgnQIAcJ6Y8deMw2Y8BgAAAAAAQOlIDJyl1JNpOngoXm0vamWXAADOBzMOm/HYjMsAAAAAAAAoGYmBs7T/wCG1bnmh/Px87RIAwPlgxmEzHptxGQAAAAAAACUjMXAW0tLTdSzxuFo0b2aXAADOJzMem3HZjM8AAAAAAAAoHomBs3A4PkFNw5uodq1adknF2/JatAZET9KqBLsAAFAiMx6bcdmMzwAAAAAAACgeiYGzcCThmC5o0theqySJsdqxLUFJWfY6AFSU5N3a8kWsEjwZX8qz7XlmxmUzPgMAAAAAAKB4JAbOUErqSdWuXUv1g+rZJTXFVs2LNk8pRGviR9xxW70kaNUk17kb8NpWu+wcSlitiZXUdxI+muQ6ruj52mKXVXlb59t1jta883A6yrZb827qq5tGROuqJzfJYZcWrzzbnn9mXDbjsxmnAQAAAAAAUBSJgTN0IilZDRqE2Gs1S8I285RCrI6k2QXViGvqJeszabW8Ma2RFO86dzsS7YJzKStJRyqr76QluI5rWzU6q1m5da6qd9kHq0lrf+dSiyYhci2VdA0Vv21VZsZnM04DAAAAAACgKBIDZygl5aSC69e0pwVqAOfUS9YnPskuAFC8MEXP3azvN2/Xmrs72GWWYq+hEratwsz4bMZpAAAAAAAAFOXzuMVernYSjyepUWgDe+3c2nvgVzW9oIn8/f3skspx+ItZendza113+w3qFGQXVqp4ff7Se87pWi7qfbuiO5jkx0GtmjFfMV99pTjfjrq8We79wvnlm5JbqHvbYGnfar2w8ANt+ipFLSLbKOOLxZo779/6OM5a/317hfpafxa/Ve+89Ybee/8LxZ0MVbu2YfLPTVHl/f1u1e14mert/lCLFn+k9V/FKiGorS65oKR7lV11WfbVt9oZb62ezpLjxG5tya2XLWHbh1r21kf6xNR520HVvaCtmgbXsb8t6sDal/V6zBfO42nSrY1C3VJpyd8t1ux31lrfxVqN1Vkt7PNT9j7K0Z5uZcnNItXkkN0ehY7LJU07Yubrk73WYpfB+luPpq5iIytZcRs/0LJlq622/Eo7fq2rJm2aKqTwoWc5dGDLv/XuO67tTP3VoIVahBZt9+Td6/XOG/+2jjNWB+q2UKf6exUzf63M7vP7ji15tzZ+aP3uxxuc7XXAt4naXRCsOnntmawtS17WW2vtNqm9RYvm/Uuf7KmrTpc1VVbsh5q3xvxyZ918fw/VMf1qmWn73VKL9mpR3DkssE/rd9Oa6KJWofl9LZcnx+zer7uF6eB/FuvNjzY4z0lbewhK+O49veX8jd1yNGuvi9K+0kvvueYQ6jL4Pl3VzLlYQH4fcrteyjqu+FjFxCzWf6y2Kr4tbcd3a93yN7TcuV1x59xq87df07Ivv7X7W3Ip15AKbevW9wr1rU17HGrSorVCA+zvjULjQi3rfOZe1wd8rb7TrOKTrDk5OTp8JEEXNr3ALgEAAAAAADg/zmccuyS1ckz0pJratXuf2rVpZa+dW1989Z26db5cfn4m0l0BkmO1I7mDOja3121bprXTTa/11LSN83RzuF3o5FDctgS1vbTQH5y1rZp68RDNs5Z6PbtRC/4SVkKZkV+uO9/VLxMjpO+m6aIh862C2zXt2d2a/ND6/PnIe07VZ/+QJvedpHVuU834R03X5/MGyvmreX/fU+Mn1Nfs5z50m8/cXx3Hvqll4yKKmcrErS7ucuuVdVAx90frbx8VnlrEX50nvKu37u5Q/PQoVn0userjsL4d9e52TepqlytZq+7vors/tBYjJuuzZcPVwuN9lKM93cpGTZ6szVOmuObYz/veXYLeGdldE9dbi+7fp23VC0Nu0ezYQjPDB0Zo/Ntv6t5L7SNPi9Xs/x2iF74rPIN84XZ3aMcrt+im57YWODe9xg6XZs3XOmvN/bgc383QTf/7snYUml7Iv+s4LfvnPeoYaNby697rsclqMX2KFpntrT7zzYLB0r9GqZvVl0y/Gj9hvV54brf5I1uw+r4Qo1f+J/9aKGmfajNYryycqr65m3p6zG79esrkLZo8xRXwH/XuLk2KOKhVj9yhu//lXqc2undspGbPWuxcc26X13fyJZTzuA78e4wGjF9t9b6CCralOf5pGmDVN861mi/QGktWWWOJ8ycL9xeVcg01L1/fso7/5tmva1p/u+5u7ffiK8n6+93vuR2Dv7o/EaMlw9rY6xUjIyNT32z5Xj3+WEzDAwAAAAAAnEPnM45dksL3mMJDpzNPq45vMXfznonkTZp6U7QG9B2ldw7aZaVyaMu0aPWO7quRSw+6BWerksWa/E8/jX9pnqaNtIOr61/WsP83RUlDp2rBSxMV3cEOM6+drndinYtu1uuFObs16Il5WjJvsm52buvQjlmPaF6RbY02GrJokSb1t1cvvV0vWutLbjTBRqu9Zt5hB+yD1Xei9ZuL5mnKX+zvnhuiqetLaMWIG3SvM7bp0KJP3N4ge3yDYkxSwNL3f29Qi7PZh4cWPTdNcT2G696x9+jeiNxkQlkSFHO/HbhtM1hT3l2nb9YsctXLBHXHzNAWu1o75o9xBcgDe2q8td33m9dpyZ0mAGza/Wm9s8+1nWLn6292UsC/g/Wb8xZpwbPDlTTflRQoIP5D3W0H6Nv+ZbKWrduoNYus82nt3gTv757pnlxw2Th9mt5pPVCjzHFGtXX1nTzz9cLrTax+ZZ3bl8ape0NTlqxV/zddq447NyiwT/8Ot2ua6Qcv3aPOJmi++z3dff9ixdlz/nt8zHkWa+pzu9V9mFU3q36drdOQ/PF0/c1OCgT3GOfsdy9ObKNVdlLAM2Ufl2PrDI20kwLB/SdqgbWfBU8MVlvznUmEPJ2bhIvVvAdcSQH/qMlasXGzvt8YoylRVkumrdfE54omFlxKu4aK49a3Ajto1LPWtoum696u5ozt1jv3PqBF7nkOp4/1wvNx6vfEdL1o1d15Tqxab/y/OVpVfKXOmBmfzTgNAAAAAACAokgMnKHsnBzVrlXLXjtLwZG65a6e8jdBuzKTA66kwE2v7ZbaDNe9NzQvFDitKsJ079NzNGpgT9382HRNiTRlB3Wg7WTNfWyweg28XS++NFEdndseVHLhO7stfZ9+U9OG9VT3qOGa9ubT6uss3a3ZH7sF6PMEq22PSHXJvbm6URt1t9a7/y7YarJNipnlilC2GPemXrnT+s0ePTXCqt8U543PDi3694big6U+HdTrr64fdXy0STvsgHLyF6u0yrnUR317nOU+PGWerFg0WePHjdP463MPtAy7P9a8tSZc3Fzjp0/ViK7NFdYmUiOemKgR5vuD8xWzyRVO7jh2nX7672Z98/ls3WttF9ywuboPH6zuzm+36qD9JtodG96z70TvqSmvW78ZFalef5mot14a7Cx1F/fx666nQ5qP04tPD1fnVmHWeRquKY8Od35/4LUPtNG1+zyOpvdoWcx0TTLHOSzCOrPurOP45yLdO9A6twPv0ZJ/jlMLU5z2od5d76pg3j6tc/PMmxN1s+kHA8fprdnDXdfK1vlatdMseH7M7vo+u05LnrDqZtWvb6tkbfzYfqql+e1aOO8eRVv7i75zjl55rDxz8Zd1XA5tXP6yq92ttnzrpdvVy9pPr2FT9cpkZweTY8kHWufsYA4l22NI2ys6q2N4sILDO2jE7I36fvsu/fJSn0JtmquUa6g4eX3Lda1O+ou1bY+B1nHM1ghnwH+rXl9dOIuXoF6TzXU9UNFW3fP7zGrtKJJEODtmfDbjNAAAAAAAAIoiMXCGKjro1OIv87Tm2bKSA+5Jgdu1LGaifcdtVdRWYXk3tfs7/3P6nVVuL6qev5rYi0X1VM8r3AKSDSPU05lcsFphW5yKideWbHds3p3sfbu6BWt92qhTD7tiH24pOu2KrWP/29XZLBx8T+uccc5krft4tVmQ/63D1dfc3X2W+/BE96sKB8nLlrxzi3Y4lxK06JFoDYi2P0NmaKXddzbvy+9s/v7JOrLlA82bMUOT7zZPpUzSRvs7lwTFbbG3j+yj7m7TW/l3jFAve9kl2drWDgwnLtbDN+bv/6bnP7a7xBYdKNzXoyLV0cdeLuJ6db/UXjQ6RNgJI2ndTvNDbvuM7KnOzjvvXfw7drYD/ge1JTa/B5V9zO4iFdnZ/Szs1o619mKfa9Q5t59b2l5md1iPlHVc1n42uNbVJ6JA+5j9uHb7obb8bP5to84DXSU7rPHiku7RGjZ+muZZ/e9AYqEszFnI71uR6hnh1iaBHdXZPvQD3+4odK1GqkPb/EbyD8n9O4ccdtKtolRo8hYAAAAAAKCGITFwhipjmorSkwMVnRQwL7WdoRfM5+PCkdmqyN/53xlJS9YBe1GFXgkR1tQZ8i9dq+s1pKdZOKh3v4h1TiO06iOz7q+bozq7qnW2+6gkjrQUe8lfIYWC7U3adFDHSztYG7meY0j4eJJ6/76XBoyapKmzXtY731vbdI5w3bnu5lRuANc68Lr2olNgSKHEhUNJebsvlNLwCVNba98dL83b/ZnxKVADi/s+C9UvtLFz2h13nh5zaRy5T7vUKVSXwOBy/U4BxRxX7lMARfYT1lxd7EWXYPV9OkYv3tlTYdYY4YiP1cZ/z9fUh0ZpwNVdrDEk1vq1s+fet1RgVrUwhVWBKfMqdLo3AAAAAACAGobEwBny9/fXKUfF3X2bq3ByYLbzDuAj+vj/KvpJAYeOrH9Zs2dZn2/zQtplcpx2O+asU/ZCZYhTQqK9aGQlKCH3dvsLw8p353x4G/tOcenAYfcotENxOza5FpsHuwL8xQpTv//p41w6sGqLtmxa55pGqPk9GhJp/9UZ7qOy2zPswtz54Tvr3tdjtCKmmI9zTv2tWjTeNUVQi2Fz9M2uXfppY4yW2HPY5wtTi4vtxW9264D7Xd4JRwo9EeG2becxWljcvq3PKNdMOB46oiPuzXv8YF5CpmNT0yvc9hmXoCPu9du7O+9JgOBAcyY8PebShKlN7oMBPxd8ksVxJCE/WVSmso8rbz8HDxaYksoRF2sfV3PruJwLUmAbRU+cp2+2W8f0X/u9DvZ7OrZMe92ecujs5Pct67gLPBawW3Hf2ov1Q0q5riqXGZ/NOA0AAAAAAICiSAycoXoBATqZVszE+BXAPTmwbr0pidW6tRU9fVCYmrS2F5euzgsUJn/xsT13vlWPxvnhd397nxvnL9ZG8zLUrGTtWLxAi1zFleCgZs94Ly/wfOC9GZpt3zHd6/KOZQcbjyUrKTco3DxS19vB51UzX9aW3NO27z29ucS12GJwT/t9B8ULviZa0WZh2ybN+8j11uGOt1+fP6VLOfdxztqzY2fd7NzXei1a6nanePJ6TY0eo8kz5mvVPqs0OUEJdp2797xGYfZxJe/IDTrn63S5K0mitMWa/Z59UrISFPPyNHtqmXydrhjsOldr39Q72/KTIMnrp2nA3VP0wmurdcAtN1K2D/XCy5uUbM6t1WYbX51j91d/de/oClR36Wm/S+Dgy3rh37n1s7Z9e75dvz7qFWn17XIcc8maq9Mf7Un518/XvE32hZQWq3nlevlwWcfVXN372x3sozmabV6YbGQd1DuL7P00H6xe7a1/963WxBHR6t2ll17Yav1CsOu9DmOG5z65kiKPcpru11BxOl9jv0vAulZn5l+ryV+8p9e3uZb7XvfHck9/VVHM+GzGaQAAAAAAABRFYuAM1a9fT8kpJ+21ipeXHLDXK/6dAsHq9b/3uO6MTluskX9op4subqfLR8x33anc5h5F594Nrwj1HWPfHbx7voZ1sbZt10UDFtdX3/JMo14uzdVi7xRdbe3ncmt/V09a7wpqW/W6d2DeWwqKaNHWOeePtG2aerez6jnNvKi4uW5+5HbXsVr1v6lbdw0Y0F2X9Jriei+A1bYv3l7Gi2KDr9GQW017rLanEYrQkJ65d0wb5dnHOWzP4D4a87irH22ZEa1uvV1z/HfrPkrztq3Woo+S1STc+ja4g5nW3umd+4fob0/O0NTxQ3TVlPVF3gMR3OcO3eusvkPrJvXSRV2sc9Suux5Ojiz0jgFr2+vu0ZQos/eteiG6u3qbdwxY7dJt5Hzt+HixVp0MU5PcbuYRa8drR+jyy619Wp9h5ikai3/U0xrV1bko/8jb7X1a9Xuoly63jrl3N2vbBSZJ4K9ezz6iaPPugXIcc2k6Dn5AvZzX5W7NG9ZFl1jtcUmnaMWElp5sKqjs42rxP49olLPdrf0M6aJuA6zzeHkvTXYmD9to1PTbXYmq5m3U4WSs4o4f1OxbrH549xRNvruvBkxyPbniP2yY+pZ8CZVwDRXDP1J32H3LsXaSru5m7aO3VX97DPGPmqpJ/c9XWkDO8dmM0wAAAAAAACiKxMAZahASrBMnkuy1ypGXHKjwpICLf8Q4LVs2Ub1MYDiPv8KixmnJW+MKvEi1452v65Vh+S+/9e8wWK8sfEB5uYMK11Z3zHlXk3pIyeaOektwxO1aUKhehYX9z2S9MrRDfkJlW5wrSNl1opatmKoR5iWpaQnaEZsgR96xetK2/ur+Z/tOdKP/LRpUaB718uzjXLansx/Nu915npN3x2rHtlglpJl6WfVdltuezTXipTmu6WbSYhWz4GUt2tRc41+fnPcS3Dz+ERr/1iKN72HX/niy1MP6rZfsRJM7n+a6ee4qLXDOd5+sOGvfznYJDFOvie9q2X0R+W3qkZ6astCqZ2uHkp13+1vHMXCyVrw0UHmxbuc+12nJONcc++aY40wfahihEc/G6JW/2Hf4l+eYSxM+UK8sn2pP1SM5jjvUdugcLZjcpxwJBg+OKzBCk5bFaJqz3ziUEGvOo7VleE+NX/KmJnW1W9KnjUYstLcz/fDjxVr08W4lmzYft0if28H8kpR0DRXH9K3PF41zjSHHd2vHbvPERLA6D5tq1X2wWhR6r8W5ZMZnM04DAAAAAACgqFo5Fnu52tm1e5/atTl/b7nc9M1WderwO9UPquS7Us0UHZUdYEtLVrJD8g8Oln9p+8pyWNv5589lXtG+m6aLhsy3Fnpq2sZ5ujncWjR1U3D59mnqmSwFNywmBOrpsRZ28D0Nu3qSc5qZvi9t1isDSwk6VpX2LMRhNYrD6k+l1cu1jVWn4tqusPKcG+c5Mc99ePjbZXDW09/ad2k/lbtPH2ufpWxYrmMuhUd1cpPwr1Hq9pC55f92LdszUWayn3Idl9mutLY/mzZ3/m0J11AxXG3oQZ8/B1JST2p77M+K7GY/EgIAAAAAAHAene84dnF4YuAsNAlrpN+OHLXXKtG5CLIFBiu4oQcBPRNgPUdB7DymbuXdp6lnSQFNT4/V5ti9Seu+WK9FM+e75p4PHK5b+pRxJ3IVbU8TtC2rXq5tPAwil+fcOM9JOX67DM56lvVTufssY8NyHXMpPKpTGcp1XGW1/dm0ufNvPf87Vxue/6SAYcZlMz4DAAAAAACgeCQGzkLT8DAdjj+i7Or70AXK5NDGf47QyBGjNPlfZt73Nhoxe5y6n30MGUAlMOOxGZfN+AwAAAAAAIDi+TxusZerncTjSWoU2sBeO/d8fX118mS60k+dYi7ripKZpqzg1up2ZQd1ufIyNT3vAfg0HT9cR006XaFu1/6PHp76uP7fZbzQFBUjKy1ZdcI7Wv39cnWLbKMQuxxnbv/BQ6pTp46aNb3ALgEAAAAAADi/znccuzi8Y+AspZ5M0+b/blfkFRHy8/O1SwEA51pGRqY2fbtVXf7QSUH1zvWcZwAAAAAAAMXjHQM1kAk+NW8Wrrhf9tklAIDzwYzDZjwmKQAAAAAAAFA6EgMVoM1FLXUyLV2HDv9mlwAAziUz/ppx2IzHAAAAAAAAKB2JgQpySbuL9XPcLzp+IskuAQCcC2bcNeOvGYcBAAAAAABQNhIDFaR+UD11+H07bY/9WckpqXYpAKAymfHWjLtm/DXjMAAAAAAAAMpGYqACNWncSG3btNb3237kyQEAqGRmnDXjrRl3zfgLAAAAAAAAz5AYqGBNLwhT+99d7AxW8c4BAKgcZnw146wZb824CwAAAAAAAM+RGKgE5s7VLhGX6tf4I4rdGaeMjEz7GwDA2TDjqRlXzfhqxlmeFAAAAAAAACg/EgOVxMx1fUXEpfL389Omb7dq34FflZ2TY38LACgPM36acdSMp2ZcNeMr7xQAAAAAAAA4M7VyLPZytbNr9z61a9PKXqu6Uk+maf+BQzqWeFxNw5vogiaNCWgBgAdSUk/qtyNHdTj+iBqFNlTLFs0UVC/Q/hYAAAAAAKDqq4pxbBID51BaeroOxyfoSMIx1a5dSw0ahCi4fj3VCwxUXX9/1fGto9q1atlbA4D3ME8EnM48rVMOh06mpSk55aROnEhSdnaOmoQ1UtPwMAUGBNhbAwAAAAAAVB8kBipYdUsMuDN3wZ5ISlZKykmdTE+Xw+FwBsWYbgiANzJJUZMc9ff3V72AANWvX08NQoJ5ugoAAAAAAFR7JAYqWHVODAAAAAAAAAAAar6qGMfm5cMAAAAAAAAAAHgREgMAAAAAAAAAAHgREgMAAAAAAAAAAHgREgMAAAAAAAAAAHgREgMAAAAAAAAAAHgREgMAAAAAAAAAAHgREgMAAAAAAAAAAHgREgMAAAAAAAAAAHgREgMAAAAAAAAAAHgREgMAAAAAAAAAAHgREgMAAAAAAAAAAHiRap0YqF27trKzs+01AAAAAAAAAACqDhO/NnHsqqZaJwbq1PHR6dNZ9hoAAAAAAAAAAFWHiV+bOHZVU60TA36+vsrIzLTXAAAAAAAAAACoOkz82sSxq5pqnRjw9/fTqVMOew0AAAAAAAAAgKrDxK9NHLuqqdaJgYCAukpLP2WvAQAAAAAAAABQdZj4tYljVzXVOzFQ119ZWVnKyGA6IQAAAAAAAABA1WHi1iZ+beLYVU21TgwY9YPqKTkl1V4DAAAAAAAAAOD8M3FrE7+uiqp9YiAkuL6SklOUnZ1tlwAAAAAAAAAAcP6YeLWJW5v4dVVU7RMDvr51VD8oSInHk+wSAAAAAAAAAADOHxOvNnFrE7+uiqp9YsBoFBqipORU5xueAQAAAAAAAAA4X0yc2sSrTdy6qqoRiQEfHx+FNWqoI0cT7RIAAAAAAAAAAM49E6c28WoTt66qakRiwAgODlJdf3/F/3bULgEAAAAAAAAA4Nwx8WkTpzbx6qqsxiQGjCZhocrJydGRBJ4cAAAAAAAAAACcOyYubeLTJk5d1dWyKppjL9cYh+MTVKtWLYVf0NguAQAAAAAAAACgcpgnBUyovWl4mF1StdXIxIBhsjOnHA41aRyqunX97VIAAAAAAAAAACqGedGweaeAmT6oOjwpkKvGJgaM5ORUJRw7rpDgIIU2DFHt2jVq5iQAAAAAAAAAwHmQnZ2txONJSkpOdb5ouKq/U6CwGp0YMLKysnQsMUkpqakKCa6v4PpB8vPztb8FAAAAAAAAAMAzGRmZSk5JVVJyiuoHBalRaIh8fHzsb6uPGp8YyJWZedp5slJSTzpPVGBAXecUQ36+vqpTx4enCQAAAAAAAAAAecxTAadPZykjM9M5ZVBa+innjej1g+o5b0L39a1jb1n9eE1iwF26dRLTrZPocGQ4T6o5ueYkAwAAAAAAAABgmJvJzU3l5uZyf38/BQTUVUANeZ+tVyYGAAAAAAAAAADwVsyfAwAAAAAAAACAFyExAAAAAAAAAACAFyExAAAAAAAAAACAFyExAAAAAAAAAACAFyExAAAAAAAAAACAFyExAAAAAAAAAACAFyExAAAAAAAAAACAFyExAAAAAAAAAACAFyExAAAAAAAAAACAFyExAAAAAAAAAACAFyExAAAAAAAAAACAFyExAAAAAAAAAACAFyExAAAAAAAAAACAFyExAAAAAAAAAACAFyExAAAAAAAAAACAFyExAAAAAAAAAACAFyExAAAAAAAAAACAFyExAAAAAAAAAACAFyExAAAAAAAAAACAFyExAAAAAAAAAACAFyExAAAAAAAAAACAFyExAAAAAAAAAACAFyExAAAAAAAAAACAFyExAAAAAAAAAACAFyExAAAAAAAAAACAFyExAAAAAAAAAACAFyExAAAAAAAAAACAFyExAAAAAAAAAACAFyExAAAAAAAAAACAF6mVY7GXYcvOzlb6KYccjgxlZGQqMzNTp7OylJWVLZoLAAAAAAAAAKqvWrVqycentur4+MjX11d+fr7y9/dTQF1/1a7tHffSkxiwZZ4+rdTUNJ08maZTjgxnJ6hrfUyn8PWtY3WSOs7OYjoNAAAAAAAAAKB6MiFxcxP46azTysw87bw5/NQph/Nm8br+fqpXL1BBQYHyrVPH/ouax+sTAyfT0pWUnKr09FOqH1RPQfUCFBgYYH8LAAAAAAAAAPAWaWnpSj2ZrpTUkwoIqKuQ4CDVq4HxYq9NDJiEwPHjScq2Dr9BcH0FWycYAAAAAAAAAAAjOTlVJ5JTVLtWLTVsGFKjEgRelxgwUwYdO3ZCjowMhVon0zwlAAAAAAAAAABAcczTA4nHk+Tv56dGjRrUiCmGvCoxYKYMSjia6EwImA8AAAAAAAAAAJ4wyQHzCWsc6pxiqDrzmsTAkYREnXI41CQsVHX9/e1SAAAAAAAAAAA8Y2LMJtZsYswm1lxd1fjEQHZ2tg7/dlR1fHx0QZNGdikAAAAAAAAAAGfmtyPHdDorS00vaKzatWvbpdVHjU4MZFkn5tDhIwoMDFCj0AZ2KQAAAAAAAAAAZ+dY4gmlpaWrWdMm8vHxsUurh+qXyvCQeVLAJAXq1QskKQAAAAAAAAAAqFAm7mzizyYObeLR1UmNTQyY6YPMkwK8ZBgAAAAAAAAAUBlM/NnEoU08ujqpkYkB8/IH804BnhQAAAAAAAAAAFQmE4c28WgTl64ualxiICk51flmaF40DAAAAAAAAAA4F0w82sSlTXy6OqhRiYHM06eVcDRRTcJC7RIAAAAAAAAAACqfiUub+LSJU1d1NSoxcOzYCeecTnX9/e0SAAAAAAAAAAAqn4lLm/i0iVNXdTUmMXAyLV2OjAxeNgwAAAAAAAAAOC9MfNrEqU28uiqrMYmB48eTSAoAAAAAAAAAAM4rE6c28eqqrEYkBkz2JTsnR/WD6tklAAAAAAAAAACceyZObeLVVfmpgRqRGDBvem4QXN9eqzoyU5OVlmR/HHYhAAAAAAAAAKBGM/FqE7euqmrlWOzlasm84Xn/gcNqc1ELu+Q8yzyqH95ZqKVf7tGhTLvM5hvUQlE33qIberRQYI167TMAAAAAAAAAwN3uXw6oZYum8q1Txy6pOqp9YuD4iWRlZp5Wk7BQu+T8Sdu1TLOmf6IfCyUECvNt8ic98PBw/Z5XIgAAAAAAAABAjXQkIVG+vnXUsEGwXVJ1VPvEwMFf450vcwgMDLBLzo+0bYv1zKwvtS/btR54YYRuirpGv7+8qRokH1bcT1v1yaoN+iH3nRNBEXp46p36faC9DgAAAAAAAACoMdLS0pV4PEnNLwy3S6qOap0YyM7O1p69B9X24pZ2yXmStlVvTnpNa82UUbWDFXXHo7qlWzFZoOxk7Xtvtp5cc0DmoQLfdkP1/MPXiAcHAAAAAAAAAKDmiduzXxe3bq7atavW3PLVeqb79FMOBdT1t9fOn0MfLXclBRSgqNGPF58UMGoHq9XN4/RAV9fTDZm7YrRym3OxcmQn69BnSzX9sYc1Ycx9un/Cw3pm7kr9eKSMuY7Ou6P6bLpV58Xb7fXyiVts/e30Dcp9OONcqpR9b1uqCRNe1GdH7PWqrrrVFwAAAAAAAKgkJn5t4thVTbVODDgcGap73hMDO/XZZ0ddi63764bOZU1pFKDf33aLopxTCKVr7ZdbnaUVLjtea6c+pkmLNupo/Ta6rPMf1PWixkr6/gM989g/tCy2KicHTiszMVkJqWdWx8xU628T05Rhr59LlbLvTOs3jycp056mqsqrbvUFAAAAAAAAKomJX5s4dlVTrRMDGRmZ8vPztdfOkyN7FJfmWvxjLw+nBfKPUNcOrsXM3Xt0yLVYodLWvak399ZR1D3PaOrDd+qW20fqlnsmaOoLf1Pf0KP6cNEHlbJfAAAAAAAAAICLiV+bOHZV4/O4xV6udo6fSFL9+vVUp04du+Q8OPGj1q6Pc04d0777Dbq8qau4TPGbteanVOlUiLre0EVhdnFFiVu9WF8eulRD7vpjwd/2bayL27dW+xYtFXZhQ9W1i52O7NRnKz/QZ5u26ofYePmFt1ZYPR/7y1yZStrzldYs/0TfbLW223NM9Rq3UKj7dknbtWrJCh0NjVBo/Cf6IGa9Nic31uWt7bSJmeLo20+1etXn2mz9xv7UEIU3s+qS9xOp+uXTDfohuIsGXe6rH606rfr8G6tOx9Sg1cVqUKDSRR397j/6Mrm9+lzbTvXsMqeKOr5cR7Zq7b9X6stvzXan1azdhUrbeob73rtBby77QX5tLpa2vq/lq7/SYZ82ahvuLx3erPe/TdXl1/ZU+NEvtWqZq277UxurRYsQ+dayfyNPphJi1+nTD9Y7t4s7JIW1aqp6RS6TCjiXmUfzz8/WParVvJ0uSP5vXn0vDnJtBgAAAAAAAHgj84rflJSTCgmub5dUDdU6MWDe6NwwJOT8vrghbY++/HSnEq3Fi68Y4HFiIC12rdb8bB41aKoelZAYyNz7tdbGJSv091epQ6OCQW3fkCa6oFBSIOnLOXr4hQ+0+UCGAutn63DsZv1n5WrtrBOhHu3s6G52vL56YYqe/PcW7UvxUWiwQ7u/2aj/rF6vlOZXW8duP71xYrOWLlqn5MwjWvruBu07maSjge3V57Imzvb68Okpmr1uj34z5UePKfbbdfpw/T61uLKbmjlnYrITA0F1lfXeW1q696iOHzumPT//V2vW/KD6V1xVasC5uMRAhR6fJW3LAk169kNtOnhcqcnH9dte6/e+k5oF7tT2lDPY957VmvHvXaqb8pUWrNihpNQkZTX7o668ODAvMdAq+GcteH2dDlrf/XY0Xt9/vU6r/uujyKutfeUmB7KPavPsyXry/R+sY0h1tduOjfrwPz/I55Kuat/IPoYKOZdb9eajz+vN7w8p0Xku9+qzlf9VvSaB+uFnEgMAAAAAAACAVEsnkpLVsEEJ76U9T6p1YuBY4gk1Cm2gWrWK3DJ97mQd0nert+s3a9Hnwq66+neeREIz9dPHy/SNeTlri24a0rNdwTv3K0D91g2V8vnnWrXhE23/VWoQ2lChIYHyKa6pjm/Qy89/qqQud+r5yf9PV//xT+rVt6faH1qv99fuVOhVV6lVgFXrH1dowepf9fthkzX5zuvV9Yo/KapfV9X99hN9+KO//pQbDE+N02ef7tQPJy7QmKcf0/8O7O0KJFvi3n5Cr+5oqqF/n6Kxf7leffr01p+vvkAp6z/Wsp/r65oera22sBMDu46qxa3/0KSRA1zbdc7W9nWb9WV6a93Q2fV7xSmSGKjo43N8q/lP/Ee/XHiDnnnmXg263jq+vtep64llenlDsrKDyr9vV/A/Tgdr/UlTpv1NN/Xt7UoKGPZ3Px9sqjFTH9Mtpj37XK/rmh/SZ2s36LOkdup3eWPnpkmfztHUT1LV686n8tqt3/WXq+73/9F7n6WqU5/LFGr1gbM/l5naPPdJLT3QQrc8PlX33OSq0w1/OK635n+uxJwgEgMAAAAAAADweiZ2fSwxSaENPZqE/pyp1u8YMI9hnNekgBHSXpeHuxbjvvhShzx54erxDfpkm2uxWcdOnr2XoLwCI3TLc0/ogchwJXz/gaZP/T+NuvM+TXpmqb7am2xv5HJo7Sf6oe6fNPbOCNmhaIt5SfJN+qMO6LMv450lvh2Gasqc6Rp9tSsI7VQ7XJd1ttbjD8h+BXOeywYO1WXuB+f4Vp98ka7AyBvUt4XbuyFCrtBNkybp+b8VekdDeG/17eaWSbuwp65rJ2X+ckAJdpEnKvr4Mr/7Rl9lB+uGW/opLO8K8lWzG26wXyqdz9N9uwQoavANaubWNO5+/+eC7RnY+TaNuFxK+u5bxTlLDmjTmj3KNC/Bdm833xbqe+OfFJj6pT752jWf2dmfy2/07fdSWNRQRV1olxktbtDQyLJewA0AAAAAAAB4BxO/NnHsqqZaJwaqhnB17XWxnLHco59owQcHnKUlyo7X2pnL9KNZrn2xbohq4SyuFL6Nddltk/TSKzM1b/LfNLJvewXu36C5Tz6mZz7KDUhn6vCvJgy8X58tXKA357t9Fv9Xh60Dizt42LWpU6YyD+zUD5+t1DJrm7lPPqwnVxUOI7uENSz0eMyv+7U7W4q8vJNdkC+wSQuF+NsruZqHF5piKVgh5c6iVPzxJRzcb/2/jdpe7FrPU7uTOlxiLzuVd98hCgu1F4sIVoc2hR838lXbNlb/SduvfebpE8d+7bV21/YPxSSbLu2oSOuf3fvd++fZnMt47bb+uaxd4Uaw9t+xQCMAAAAAAAAAqGKqdWKgqmRbQnrdoqF2fD9uxVRNnv+tEop70XTSTq2aOlVv2rHZkKtv0B8bupYrl698W7TX1X8Zo8dmPaMHOtfRj+8v1Vfmjck6phPm9vtT8frxp536ocBnv9KCghUWZN/CbuaUH3+fRk15UXNj1uuHo6dV75LeGnGl213npTlxrFx3+leMij++pOMFn7hw51vgiirHvssUqMBCTyMYgc5MidXZzJMqVr2KD+vnSzjuPOmVey7P47vAAQAAAAAAgKqkSsx6U4xqnRjw8amtrCxP5u6pZLXDFTXhTkXZ86nv27RAE+57QM+8lH+H+IJnHtao8S9q6d78jEHSZ4u1dFu6vVaRkrXvm2/1w55iAti1g3XZHy+RspN00rnrcDVrbv3T+Do99Nwzeq64z3DXHf5x/3pTa1NaaOjkmXr5hWc05eE7dctfrlObRs6vy9a8hdpa/ySUEliveBV/fI2bm7mjkpRkx9jzJRcq83zfZYvXPvOgQiGupxcaq4FJMIW3UCvrij6UWKRiVnWTnYH8ti1dGayzPpfNSj6XabnJBwAAAAAAAMDLmfi1iWNXNdU6MVDHx0ens07ba+eZmdN/6gQNbW3fAZ6Zrh+3fau1m1yfz3Ylm/u6nYH5LpERzgCuso9q1ayplZAcSNKPyxdo+mtrinnnQaZ+3PqT9W+g6tlTwbe9vJN8j3yrr/a41vM4duqrFd/qkB3nzUyz6tkkQl3c3w+gZP24vaz71G1NOqlrY+mHdV8WutvcqtPC/9Mzr31bKU8UVPTxhVm/10x79Mnn7u8HsMR/qU922cs2T/ftiU2bvlSaveyUvUebtyZLrdurrXMapvbqcKmU9t0G/ehwbpEn4fP1+kGN1fVS1xMBZ30uw0s6l/HatK7wwQIAAAAAAADeycSvTRy7qqnWiQFfX19lZlaRxIAReLH6PvaCXpo0XAPbhSvMbc78wJAW+mPf4Zr63DMae/udenjsnyoxOdBCVw+JUMjRTzT5769p7Td7lJCUrEOxX2rV9Mc0fVO6QiL7qYs9Eb3vlTdpaIujWvbcVC3bckBp1rZpB7Za63M094M1+tGuWjMzn338Gi1b4/q9tCN79NX8GVr6q+v7stn1iv9Az778ifYdsX4j6YB+fPs5Tf/yqDKbtyj0ToGKUeHH16K/brpUivtghhbY2ybs+UQLnluvBPupkVye7rtsAWr22wd6Zr5JJrh+Y9X02Vp2NEBRA3Nf2uyrLjfeoLantmr6c0v14wHTvke1b81revaDeIV0vVFX21NeVci5HNhJvu7n0vqNz16eoVWpvHwYAAAAAAAAMEz82sSxq5paOVXxlcgeSjye5JyjqVFoA7ukeknbtljPzPpS+8xd/bUbq+/YSRp6acUFVZO+WaxZb3ypOPe7x32D9cc/j9SI/u0V6J4WStujtfNe1dJt9pMNFt+Q9ho6+i5FtbPrlH1Um197TnO/y98mrPNwjWz2iZ5Z0VQPv36nfm8K41fqycc+UKt7XtEtnZ2bFWDqNX2hddy5P2KeorjhLt0+4GK5ptGP19rHpujN5nfqn6MjnCW5fpx7t545eIOee7JfiUmEYrepyOMzMg/os1mz9Was25MgN4/TNbumaPqZ7HvLa/rflw/rlicnK8rMVOQu97uHb1HmO27TUfmGq+9tYzS0W8H3AqTtWqn5cz/Q5tynEWr7qm3kLRp76xUKyT3nFXIuM3VozRzNeG+nEuwnU8I6DNVDPXZqwmslHAsAAAAAAADgRY4lnnC+YyC0oX2XdhVRrRMDJ9PSdeJEsi5sdoFdUv1UdnLAKS1Zac7or68CQ8r47cx0pZmNfQIUWNKLcR3WNqesbeoGK9DtqYjyyVRmUrr1f1/51g8o9NLeSlTRx2dv6xsYrDITf57s2wOZqcnKzCr7XLq2s856aXWriHOZnam0lHRrR9ZxBZ75cQEAAAAAAAA1za+HflODBsGqF1jBMd+zVK0TA9nZ2dqz96DaXtzSLqmezklyAAAAAAAAAABwTsXt2a+LWzdX7dpVa1b/qlWbcjKNWdffT2nmRarVWOClwyv5nQMAAAAAAAAAgHPJxK1N/LqqJQWMap0YMOrVC1TqyeofRC+SHHh5gTanur4DAAAAAAAAAFQvJm5t4tdVUbVPDAQFBSol9aS9Vr3lJQd8G6vvPSPVJcj+AgAAAAAAAABQrZi4tYlfV0XV+h0DuQ7FJygoMEDBwTUkkp6ZqbLfZAsAAAAAAAAAqIqSk1OVmpauZuFhdknVUu2fGDBCgoN0IjnFXqsBSAoAAAAAAAAAQLVl4tUmbl1V1YjEQL3AANWuVavGTCkEAAAAAAAAAKieTJzaxKtN3LqqqhGJAaNhwxAlHk+y1wAAAAAAAAAAOPdMnNrEq6uyGpMYMNkXfz8/kgMAAAAAAAAAgPPCxKdNnLoqPy1g1JjEgNGoUQNnw59yOOwSAAAAAAAAAAAqn4lLm/i0iVNXdTUqMeBbp47CGofqSEKiXQIAAAAAAAAAQOUzcWkTnzZx6qquRiUGDPOm57r+/vrtyDG7BAAAAAAAAACAymPi0SYubeLT1UGNSwwYTcJCdTorS8cST9glAAAAAAAAAABUPBOHNvFoE5euLmpkYsBoekFjpaWl8zJiAAAAAAAAAEClMPFnE4c28ejqpMYmBmrXrq1mTZvo5Mk0nhwAAAAAAAAAAFQoE3c28WcThzbx6OqkVo7FXq6RsrOzdfi3o6rj46MLmjSySwEAAAAAAAAAODPmnQJm+iDzpEB1SwoYNT4xkMu8EfqUw+Gc58m8BAIAAAAAAAAAgPIwMWYTazYx5ur0ToHCvCYxYCQlpyrhaKJCG4Y4PwAAAAAAAAAAeMK8T8B8whqHKiQ4yC6tnrwqMWBknj6tY8dOyJGR4UwO1A+qZ38DAAAAAAAAAEBBKaknnQkBfz8/NWrUQL516tjfVF9elxjIdTItXcetk5ltHX6D4PoKruYZHgAAAAAAAABAxUlOTtWJ5BTVrlVLDRuGqF5ggP1N9ee1iYFcJkFgphhKTz/lfHogqF6AAmvQCQYAAAAAAAAAeCYtLV2pJ9OdTwkEBNR1ThlUkxICubw+MZDLTDGUmpqmkyfTdMqRoYC6/qprffz8fOXrW0d1fOrIx6e2atWqZf8FAAAAAAAAAKC6MSHxrKxsnc46rczM08rIyNSpUw6lW5+6/n6qVy9QQUGBNWLKoJKQGChGdna2sxM4HBnOTpGZmWl1kixnZ6G5AAAAAAAAAKD6Mjd/m5vA6/j4yNfX13lzuL+/n/Nm8dq1a9tb1WwkBgAAAAAAAAAA8CLekf4AAAAAAAAAAABOJAYAAAAAAAAAAPAiJAYAAAAAAAAAAPAiJAYAAAAAAAAAAPAiJAYAAAAAAAAAAPAiJAYAAAAAAAAAAPAiJAYAAAAAAAAAAPAiJAYAAAAAAAAAAPAiJAYAAAAAAAAAAPAiJAYAAAAAAAAAAPAiJAYAAAAAAAAAAPAiJAYAAAAAAAAAAPAiJAYAAAAAAAAAAPAiJAYAAAAAAAAAAPAiJAYAAAAAAAAAAPAiJAYAAAAAAAAAAPAiJAYAAAAAAAAAAPAiJAYAAAAAAAAAAPAiJAYAAAAAAAAAAPAiJAYAAAAAAAAAAPAiJAYAAAAAAAAAAPAiJAYAAAAAAAAAAPAiJAYAAAAAAAAAAPAiJAYAAAAAAAAAAPAiJAYAAAAAAAAAAPAiJAYAAAAAAAAAAPAiJAYAAAAAAAAAAPAa0v8HM36XP1R4KwsAAAAASUVORK5CYII=)"
      ],
      "metadata": {
        "id": "b_i5EsUqt-uo"
      }
    }
  ]
}