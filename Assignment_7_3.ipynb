{
  "nbformat": 4,
  "nbformat_minor": 0,
  "metadata": {
    "kernelspec": {
      "display_name": "Python 3",
      "language": "python",
      "name": "python3"
    },
    "language_info": {
      "codemirror_mode": {
        "name": "ipython",
        "version": 3
      },
      "file_extension": ".py",
      "mimetype": "text/x-python",
      "name": "python",
      "nbconvert_exporter": "python",
      "pygments_lexer": "ipython3",
      "version": "3.8.9"
    },
    "colab": {
      "provenance": []
    }
  },
  "cells": [
    {
      "cell_type": "markdown",
      "metadata": {
        "id": "dt7PU_BRm0h1"
      },
      "source": [
        "Pixeltests School Data Science\n",
        "\n",
        "*Unit 2, Sprint 2, Module 3*\n",
        "\n",
        "---\n",
        "<p style=\"padding: 10px; border: 2px solid red;\">\n",
        "    <b>Before you start:</b> Today is the day you should submit the dataset for your Unit 2 Build Week project. You can review the guidelines and make your submission in the Build Week course for your cohort on Canvas.</p>"
      ]
    },
    {
      "cell_type": "code",
      "source": [
        "from google.colab import drive\n",
        "drive.mount('/content/drive')"
      ],
      "metadata": {
        "id": "rOypN2H-kNvv",
        "outputId": "e6a3cdc6-4efa-4486-a3e9-2b2ce9bb502e",
        "colab": {
          "base_uri": "https://localhost:8080/"
        }
      },
      "execution_count": 1,
      "outputs": [
        {
          "output_type": "stream",
          "name": "stdout",
          "text": [
            "Mounted at /content/drive\n"
          ]
        }
      ]
    },
    {
      "cell_type": "code",
      "metadata": {
        "id": "zLJrqUbKm0h3"
      },
      "source": [
        "%%capture\n",
        "import sys\n",
        "\n",
        "# If you're on Colab:\n",
        "if 'google.colab' in sys.modules:\n",
        "    DATA_PATH = 'https://raw.githubusercontent.com/pixeltests/datasets/main/' #You might not need this, use the data from Kaggle directly!\n",
        "    !pip install category_encoders==2.*\n",
        "    !pip install pandas-profiling==2.*\n",
        "\n",
        "# If you're working locally:\n",
        "else:\n",
        "    DATA_PATH = '../data/'"
      ],
      "execution_count": 2,
      "outputs": []
    },
    {
      "cell_type": "markdown",
      "metadata": {
        "id": "EvgUujPKm0h4"
      },
      "source": [
        "# Module Project: Hyperparameter Tuning\n",
        "\n",
        "This sprint, the module projects will focus on creating and improving a model for the Tanazania Water Pump dataset. Your goal is to create a model to predict whether a water pump is functional, non-functional, or needs repair.\n",
        "\n",
        "Dataset source: [DrivenData.org](https://www.drivendata.org/competitions/7/pump-it-up-data-mining-the-water-table/).\n",
        "\n",
        "## Directions\n",
        "\n",
        "- **Task 0:** Enter the [Kaggle](https://www.kaggle.com/t/6169ee7701164d24943c98eda2de9b5e) competition using exactly this link!\n",
        "The tasks for this project are as follows:\n",
        "\n",
        "- **Task 1:** Use `wrangle` function to import training and test data.\n",
        "- **Task 2:** Split training data into feature matrix `X` and target vector `y`.\n",
        "- **Task 3:** Establish the baseline accuracy score for your dataset.\n",
        "- **Task 4:** Build `clf_dt`.\n",
        "- **Task 5:** Build `clf_rf`.\n",
        "- **Task 6:** Evaluate classifiers using k-fold cross-validation.\n",
        "- **Task 7:** Tune hyperparameters for best performing classifier.\n",
        "- **Task 8:** Print out best score and params for model.\n",
        "- **Task 9:** Create `submission.csv` and upload to Kaggle.\n",
        "\n",
        "You should limit yourself to the following libraries for this project:\n",
        "\n",
        "- `category_encoders`\n",
        "- `matplotlib`\n",
        "- `pandas`\n",
        "- `pandas-profiling`\n",
        "- `sklearn`\n",
        "\n",
        "# I. Wrangle Data"
      ]
    },
    {
      "cell_type": "code",
      "metadata": {
        "id": "66W6koTbm0h4"
      },
      "source": [
        "import pandas as pd\n",
        "def wrangle(fm_path, tv_path=None):\n",
        "    if tv_path:\n",
        "        df = pd.merge(pd.read_csv(fm_path,\n",
        "                                  na_values=[0, -2.000000e-08]),\n",
        "                      pd.read_csv(tv_path)).set_index('id')\n",
        "    else:\n",
        "        df = pd.read_csv(fm_path,\n",
        "                         na_values=[0, -2.000000e-08],\n",
        "                         index_col='id')\n",
        "\n",
        "    # Drop constant columns\n",
        "    df.drop(columns=['recorded_by'], inplace=True)\n",
        "\n",
        "    # Drop HCCCs\n",
        "    cutoff = 100\n",
        "    drop_cols = [col for col in df.select_dtypes('object').columns\n",
        "                 if df[col].nunique() > cutoff]\n",
        "    df.drop(columns=drop_cols, inplace=True)\n",
        "\n",
        "    # Drop duplicate columns\n",
        "    dupe_cols = [col for col in df.head(15).T.duplicated().index\n",
        "                 if df.head(15).T.duplicated()[col]]\n",
        "    df.drop(columns=dupe_cols, inplace=True)\n",
        "\n",
        "    return df"
      ],
      "execution_count": 3,
      "outputs": []
    },
    {
      "cell_type": "markdown",
      "metadata": {
        "id": "N-S0uoQWm0h5"
      },
      "source": [
        "**Task 1:** Using the above `wrangle` function to read `train_features.csv` and `train_labels.csv` into the DataFrame `df`, and `test_features.csv` into the DataFrame `X_test`."
      ]
    },
    {
      "cell_type": "code",
      "metadata": {
        "id": "HBcLs5Xzm0h5",
        "outputId": "744256f1-116f-40b3-a752-cfde2e0f9bb1",
        "colab": {
          "base_uri": "https://localhost:8080/"
        }
      },
      "source": [
        "# File paths\n",
        "train_features_path = '/content/drive/MyDrive/Pixeltest/predict-faulty-tanzania-water-pumps/train_features.csv'\n",
        "train_labels_path = '/content/drive/MyDrive/Pixeltest/predict-faulty-tanzania-water-pumps/train_labels.csv'\n",
        "test_features_path = '/content/drive/MyDrive/Pixeltest/predict-faulty-tanzania-water-pumps/test_features.csv'\n",
        "\n",
        "# Use the wrangle function to load data\n",
        "df_train = pd.read_csv(train_features_path)\n",
        "df_lables = pd.read_csv(train_labels_path)\n",
        "X_test = pd.read_csv(test_features_path)\n",
        "\n",
        "print(df_train.shape)\n",
        "print(df_lables.shape)\n",
        "print(X_test.shape)\n",
        "print(df_lables.head())"
      ],
      "execution_count": 4,
      "outputs": [
        {
          "output_type": "stream",
          "name": "stdout",
          "text": [
            "(47520, 40)\n",
            "(47520, 1)\n",
            "(11880, 40)\n",
            "              status_group\n",
            "0  functional needs repair\n",
            "1               functional\n",
            "2               functional\n",
            "3           non functional\n",
            "4               functional\n"
          ]
        }
      ]
    },
    {
      "cell_type": "code",
      "source": [
        "df_train.isnull().sum()"
      ],
      "metadata": {
        "colab": {
          "base_uri": "https://localhost:8080/",
          "height": 1000
        },
        "id": "xWe3iY9sWWAn",
        "outputId": "5885328a-9572-4755-f2d9-d587ddc33d9d"
      },
      "execution_count": 17,
      "outputs": [
        {
          "output_type": "execute_result",
          "data": {
            "text/plain": [
              "id                           0\n",
              "amount_tsh                   0\n",
              "date_recorded                0\n",
              "funder                    2930\n",
              "gps_height                   0\n",
              "installer                 2940\n",
              "longitude                    0\n",
              "latitude                     0\n",
              "wpt_name                     1\n",
              "num_private                  0\n",
              "basin                        0\n",
              "subvillage                 296\n",
              "region                       0\n",
              "region_code                  0\n",
              "district_code                0\n",
              "lga                          0\n",
              "ward                         0\n",
              "population                   0\n",
              "public_meeting            2660\n",
              "recorded_by                  0\n",
              "scheme_management         3072\n",
              "scheme_name              23023\n",
              "permit                    2441\n",
              "construction_year            0\n",
              "extraction_type              0\n",
              "extraction_type_group        0\n",
              "extraction_type_class        0\n",
              "management                   0\n",
              "management_group             0\n",
              "payment                      0\n",
              "payment_type                 0\n",
              "water_quality                0\n",
              "quality_group                0\n",
              "quantity                     0\n",
              "quantity_group               0\n",
              "source                       0\n",
              "source_type                  0\n",
              "source_class                 0\n",
              "waterpoint_type              0\n",
              "waterpoint_type_group        0\n",
              "dtype: int64"
            ],
            "text/html": [
              "<div>\n",
              "<style scoped>\n",
              "    .dataframe tbody tr th:only-of-type {\n",
              "        vertical-align: middle;\n",
              "    }\n",
              "\n",
              "    .dataframe tbody tr th {\n",
              "        vertical-align: top;\n",
              "    }\n",
              "\n",
              "    .dataframe thead th {\n",
              "        text-align: right;\n",
              "    }\n",
              "</style>\n",
              "<table border=\"1\" class=\"dataframe\">\n",
              "  <thead>\n",
              "    <tr style=\"text-align: right;\">\n",
              "      <th></th>\n",
              "      <th>0</th>\n",
              "    </tr>\n",
              "  </thead>\n",
              "  <tbody>\n",
              "    <tr>\n",
              "      <th>id</th>\n",
              "      <td>0</td>\n",
              "    </tr>\n",
              "    <tr>\n",
              "      <th>amount_tsh</th>\n",
              "      <td>0</td>\n",
              "    </tr>\n",
              "    <tr>\n",
              "      <th>date_recorded</th>\n",
              "      <td>0</td>\n",
              "    </tr>\n",
              "    <tr>\n",
              "      <th>funder</th>\n",
              "      <td>2930</td>\n",
              "    </tr>\n",
              "    <tr>\n",
              "      <th>gps_height</th>\n",
              "      <td>0</td>\n",
              "    </tr>\n",
              "    <tr>\n",
              "      <th>installer</th>\n",
              "      <td>2940</td>\n",
              "    </tr>\n",
              "    <tr>\n",
              "      <th>longitude</th>\n",
              "      <td>0</td>\n",
              "    </tr>\n",
              "    <tr>\n",
              "      <th>latitude</th>\n",
              "      <td>0</td>\n",
              "    </tr>\n",
              "    <tr>\n",
              "      <th>wpt_name</th>\n",
              "      <td>1</td>\n",
              "    </tr>\n",
              "    <tr>\n",
              "      <th>num_private</th>\n",
              "      <td>0</td>\n",
              "    </tr>\n",
              "    <tr>\n",
              "      <th>basin</th>\n",
              "      <td>0</td>\n",
              "    </tr>\n",
              "    <tr>\n",
              "      <th>subvillage</th>\n",
              "      <td>296</td>\n",
              "    </tr>\n",
              "    <tr>\n",
              "      <th>region</th>\n",
              "      <td>0</td>\n",
              "    </tr>\n",
              "    <tr>\n",
              "      <th>region_code</th>\n",
              "      <td>0</td>\n",
              "    </tr>\n",
              "    <tr>\n",
              "      <th>district_code</th>\n",
              "      <td>0</td>\n",
              "    </tr>\n",
              "    <tr>\n",
              "      <th>lga</th>\n",
              "      <td>0</td>\n",
              "    </tr>\n",
              "    <tr>\n",
              "      <th>ward</th>\n",
              "      <td>0</td>\n",
              "    </tr>\n",
              "    <tr>\n",
              "      <th>population</th>\n",
              "      <td>0</td>\n",
              "    </tr>\n",
              "    <tr>\n",
              "      <th>public_meeting</th>\n",
              "      <td>2660</td>\n",
              "    </tr>\n",
              "    <tr>\n",
              "      <th>recorded_by</th>\n",
              "      <td>0</td>\n",
              "    </tr>\n",
              "    <tr>\n",
              "      <th>scheme_management</th>\n",
              "      <td>3072</td>\n",
              "    </tr>\n",
              "    <tr>\n",
              "      <th>scheme_name</th>\n",
              "      <td>23023</td>\n",
              "    </tr>\n",
              "    <tr>\n",
              "      <th>permit</th>\n",
              "      <td>2441</td>\n",
              "    </tr>\n",
              "    <tr>\n",
              "      <th>construction_year</th>\n",
              "      <td>0</td>\n",
              "    </tr>\n",
              "    <tr>\n",
              "      <th>extraction_type</th>\n",
              "      <td>0</td>\n",
              "    </tr>\n",
              "    <tr>\n",
              "      <th>extraction_type_group</th>\n",
              "      <td>0</td>\n",
              "    </tr>\n",
              "    <tr>\n",
              "      <th>extraction_type_class</th>\n",
              "      <td>0</td>\n",
              "    </tr>\n",
              "    <tr>\n",
              "      <th>management</th>\n",
              "      <td>0</td>\n",
              "    </tr>\n",
              "    <tr>\n",
              "      <th>management_group</th>\n",
              "      <td>0</td>\n",
              "    </tr>\n",
              "    <tr>\n",
              "      <th>payment</th>\n",
              "      <td>0</td>\n",
              "    </tr>\n",
              "    <tr>\n",
              "      <th>payment_type</th>\n",
              "      <td>0</td>\n",
              "    </tr>\n",
              "    <tr>\n",
              "      <th>water_quality</th>\n",
              "      <td>0</td>\n",
              "    </tr>\n",
              "    <tr>\n",
              "      <th>quality_group</th>\n",
              "      <td>0</td>\n",
              "    </tr>\n",
              "    <tr>\n",
              "      <th>quantity</th>\n",
              "      <td>0</td>\n",
              "    </tr>\n",
              "    <tr>\n",
              "      <th>quantity_group</th>\n",
              "      <td>0</td>\n",
              "    </tr>\n",
              "    <tr>\n",
              "      <th>source</th>\n",
              "      <td>0</td>\n",
              "    </tr>\n",
              "    <tr>\n",
              "      <th>source_type</th>\n",
              "      <td>0</td>\n",
              "    </tr>\n",
              "    <tr>\n",
              "      <th>source_class</th>\n",
              "      <td>0</td>\n",
              "    </tr>\n",
              "    <tr>\n",
              "      <th>waterpoint_type</th>\n",
              "      <td>0</td>\n",
              "    </tr>\n",
              "    <tr>\n",
              "      <th>waterpoint_type_group</th>\n",
              "      <td>0</td>\n",
              "    </tr>\n",
              "  </tbody>\n",
              "</table>\n",
              "</div><br><label><b>dtype:</b> int64</label>"
            ]
          },
          "metadata": {},
          "execution_count": 17
        }
      ]
    },
    {
      "cell_type": "markdown",
      "metadata": {
        "id": "RP4NbcVHm0h5"
      },
      "source": [
        "# II. Split Data\n",
        "\n",
        "**Task 2:** Split your DataFrame `df` into a feature matrix `X` and the target vector `y`. You want to predict `'status_group'`.\n",
        "\n",
        "**Note:** You won't need to do a train-test split because you'll use cross-validation instead."
      ]
    },
    {
      "cell_type": "code",
      "metadata": {
        "id": "V0KSJGwRm0h6"
      },
      "source": [
        "X = df_train\n",
        "y = df_lables"
      ],
      "execution_count": 5,
      "outputs": []
    },
    {
      "cell_type": "markdown",
      "metadata": {
        "id": "xGEY6cbCm0h6"
      },
      "source": [
        "# III. Establish Baseline\n",
        "\n",
        "**Task 3:** Since this is a **classification** problem, you should establish a baseline accuracy score. Figure out what is the majority class in `y_train` and what percentage of your training observations it represents."
      ]
    },
    {
      "cell_type": "code",
      "metadata": {
        "id": "Ss4P4Y3km0h6",
        "outputId": "70e4dbcd-c381-49ac-903a-5f8061dc64f2",
        "colab": {
          "base_uri": "https://localhost:8080/"
        }
      },
      "source": [
        "baseline_acc = y['status_group'].value_counts(normalize=True).max()\n",
        "print('Baseline Accuracy Score:', baseline_acc)"
      ],
      "execution_count": 6,
      "outputs": [
        {
          "output_type": "stream",
          "name": "stdout",
          "text": [
            "Baseline Accuracy Score: 0.5430765993265994\n"
          ]
        }
      ]
    },
    {
      "cell_type": "markdown",
      "metadata": {
        "id": "d-U85Sa0m0h6"
      },
      "source": [
        "# IV. Build Models\n",
        "\n",
        "**Task 4:** Build a `Pipeline` named `clf_dt`. Your `Pipeline` should include:\n",
        "\n",
        "- an `OrdinalEncoder` transformer for categorical features.\n",
        "- a `SimpleImputer` transformer fot missing values.\n",
        "- a `DecisionTreeClassifier` Predictor.\n",
        "\n",
        "**Note:** Do not train `clf_dt`. You'll do that in a subsequent task."
      ]
    },
    {
      "cell_type": "code",
      "metadata": {
        "id": "g-N98p5Em0h7"
      },
      "source": [
        "import category_encoders as ce\n",
        "from sklearn.impute import SimpleImputer\n",
        "from sklearn.tree import DecisionTreeClassifier\n",
        "from sklearn.pipeline import make_pipeline\n",
        "\n",
        "\n",
        "clf_dt = make_pipeline(\n",
        "    ce.OrdinalEncoder(),\n",
        "    SimpleImputer(strategy='mean'),\n",
        "    DecisionTreeClassifier(random_state=42)\n",
        ")"
      ],
      "execution_count": 7,
      "outputs": []
    },
    {
      "cell_type": "markdown",
      "metadata": {
        "id": "91L7lE6cm0h7"
      },
      "source": [
        "**Task 5:** Build a `Pipeline` named `clf_rf`. Your `Pipeline` should include:\n",
        "\n",
        "- an `OrdinalEncoder` transformer for categorical features.\n",
        "- a `SimpleImputer` transformer fot missing values.\n",
        "- a `RandomForestClassifier` predictor.\n",
        "\n",
        "**Note:** Do not train `clf_rf`. You'll do that in a subsequent task."
      ]
    },
    {
      "cell_type": "code",
      "metadata": {
        "id": "wUYGLlNPm0h7"
      },
      "source": [
        "from sklearn.ensemble import RandomForestClassifier\n",
        "\n",
        "clf_rf = make_pipeline(\n",
        "    ce.OrdinalEncoder(),\n",
        "    SimpleImputer(strategy='mean'),\n",
        "    RandomForestClassifier(random_state=42)\n",
        ")"
      ],
      "execution_count": 8,
      "outputs": []
    },
    {
      "cell_type": "markdown",
      "metadata": {
        "id": "CvFFqHk8m0h7"
      },
      "source": [
        "# V. Check Metrics\n",
        "\n",
        "**Task 6:** Evaluate the performance of both of your classifiers using k-fold cross-validation."
      ]
    },
    {
      "cell_type": "code",
      "metadata": {
        "id": "8Ia7v4v4m0h7",
        "outputId": "94580c17-2661-42a3-8055-231210b0e20c",
        "colab": {
          "base_uri": "https://localhost:8080/"
        }
      },
      "source": [
        "from sklearn.model_selection import cross_val_score\n",
        "\n",
        "cv_scores_dt = cross_val_score(clf_dt, X, y, cv=5, scoring='accuracy')\n",
        "\n",
        "cv_scores_rf = cross_val_score(clf_rf, X, y, cv=5, scoring='accuracy')\n"
      ],
      "execution_count": 9,
      "outputs": [
        {
          "output_type": "stream",
          "name": "stderr",
          "text": [
            "/usr/local/lib/python3.11/dist-packages/sklearn/base.py:1389: DataConversionWarning: A column-vector y was passed when a 1d array was expected. Please change the shape of y to (n_samples,), for example using ravel().\n",
            "  return fit_method(estimator, *args, **kwargs)\n",
            "/usr/local/lib/python3.11/dist-packages/sklearn/base.py:1389: DataConversionWarning: A column-vector y was passed when a 1d array was expected. Please change the shape of y to (n_samples,), for example using ravel().\n",
            "  return fit_method(estimator, *args, **kwargs)\n",
            "/usr/local/lib/python3.11/dist-packages/sklearn/base.py:1389: DataConversionWarning: A column-vector y was passed when a 1d array was expected. Please change the shape of y to (n_samples,), for example using ravel().\n",
            "  return fit_method(estimator, *args, **kwargs)\n",
            "/usr/local/lib/python3.11/dist-packages/sklearn/base.py:1389: DataConversionWarning: A column-vector y was passed when a 1d array was expected. Please change the shape of y to (n_samples,), for example using ravel().\n",
            "  return fit_method(estimator, *args, **kwargs)\n",
            "/usr/local/lib/python3.11/dist-packages/sklearn/base.py:1389: DataConversionWarning: A column-vector y was passed when a 1d array was expected. Please change the shape of y to (n_samples,), for example using ravel().\n",
            "  return fit_method(estimator, *args, **kwargs)\n"
          ]
        }
      ]
    },
    {
      "cell_type": "code",
      "metadata": {
        "id": "t8K5WrgSm0h8",
        "outputId": "5b2306db-5905-4cae-ccb1-0b58611f1138",
        "colab": {
          "base_uri": "https://localhost:8080/"
        }
      },
      "source": [
        "print('CV scores DecisionTreeClassifier')\n",
        "print(cv_scores_dt)\n",
        "print('Mean CV accuracy score:', cv_scores_dt.mean())\n",
        "print('STD CV accuracy score:', cv_scores_dt.std())"
      ],
      "execution_count": 10,
      "outputs": [
        {
          "output_type": "stream",
          "name": "stdout",
          "text": [
            "CV scores DecisionTreeClassifier\n",
            "[0.70286195 0.6930766  0.69581229 0.6947601  0.68855219]\n",
            "Mean CV accuracy score: 0.6950126262626263\n",
            "STD CV accuracy score: 0.004643287933487525\n"
          ]
        }
      ]
    },
    {
      "cell_type": "code",
      "metadata": {
        "id": "DwC5Mvpmm0h8",
        "outputId": "88b8eaee-e895-433d-b496-5e9d3a1465e2",
        "colab": {
          "base_uri": "https://localhost:8080/"
        }
      },
      "source": [
        "print('CV score RandomForestClassifier')\n",
        "print(cv_scores_rf)\n",
        "print('Mean CV accuracy score:', cv_scores_rf.mean())\n",
        "print('STD CV accuracy score:', cv_scores_rf.std())  # Best performing model"
      ],
      "execution_count": 11,
      "outputs": [
        {
          "output_type": "stream",
          "name": "stdout",
          "text": [
            "CV score RandomForestClassifier\n",
            "[0.79997896 0.8052399  0.80787037 0.80281987 0.80397727]\n",
            "Mean CV accuracy score: 0.8039772727272727\n",
            "STD CV accuracy score: 0.002610615293956488\n"
          ]
        }
      ]
    },
    {
      "cell_type": "markdown",
      "metadata": {
        "id": "_YoZg6gxm0h8"
      },
      "source": [
        "# VI. Tune Model\n",
        "\n",
        "**Task 7:** Choose the best performing of your two models and tune its hyperparameters using a `RandomizedSearchCV` named `model`. Make sure that you include cross-validation and that `n_iter` is set to at least `25`.\n",
        "\n",
        "**Note:** If you're not sure which hyperparameters to tune, check the notes from today's guided project and the `sklearn` documentation."
      ]
    },
    {
      "cell_type": "code",
      "metadata": {
        "id": "5lghp32sm0h8",
        "colab": {
          "base_uri": "https://localhost:8080/"
        },
        "outputId": "f51ba52f-26aa-4f0f-87b1-a468af0c0aae"
      },
      "source": [
        "from sklearn.model_selection import RandomizedSearchCV\n",
        "from sklearn.preprocessing import StandardScaler\n",
        "from sklearn.pipeline import make_pipeline\n",
        "\n",
        "def standardScaler():\n",
        "  return StandardScaler()\n",
        "\n",
        "\n",
        "pipeline = make_pipeline(\n",
        "    ce.OrdinalEncoder(),\n",
        "    SimpleImputer(strategy='mean'),\n",
        "    standardScaler(),\n",
        "    RandomForestClassifier(random_state=42)\n",
        ")\n",
        "\n",
        "\n",
        "param_dist = {\n",
        "    'randomforestclassifier__bootstrap' : [True, False],\n",
        "    'simpleimputer__strategy': ['mean', 'median'],\n",
        "    'randomforestclassifier__max_depth' : [2,5,6,8,10, None],\n",
        "    'randomforestclassifier__min_samples_leaf' : [1, 2, 4],\n",
        "    'randomforestclassifier__min_samples_split' : [2, 5, 10],\n",
        "    'randomforestclassifier__n_estimators': [100, 500],\n",
        "    'randomforestclassifier__max_features': ['auto', 'sqrt', 'log2']\n",
        "\n",
        "}\n",
        "\n",
        "\n",
        "model = RandomizedSearchCV(\n",
        "    pipeline,\n",
        "    param_distributions=param_dist,\n",
        "    n_iter=15,\n",
        "    cv=5,\n",
        "    scoring='accuracy',\n",
        "    verbose=1,\n",
        "    n_jobs=-1\n",
        ")\n",
        "\n",
        "model.fit(X, y)\n",
        "\n",
        "\n",
        "print(\"Best CV Accuracy:\", model.best_score_)\n",
        "print(\"Best Parameters:\", model.best_params_)\n",
        "\n"
      ],
      "execution_count": 12,
      "outputs": [
        {
          "output_type": "stream",
          "name": "stdout",
          "text": [
            "Fitting 5 folds for each of 15 candidates, totalling 75 fits\n"
          ]
        },
        {
          "output_type": "stream",
          "name": "stderr",
          "text": [
            "/usr/local/lib/python3.11/dist-packages/sklearn/model_selection/_validation.py:528: FitFailedWarning: \n",
            "35 fits failed out of a total of 75.\n",
            "The score on these train-test partitions for these parameters will be set to nan.\n",
            "If these failures are not expected, you can try to debug them by setting error_score='raise'.\n",
            "\n",
            "Below are more details about the failures:\n",
            "--------------------------------------------------------------------------------\n",
            "35 fits failed with the following error:\n",
            "Traceback (most recent call last):\n",
            "  File \"/usr/local/lib/python3.11/dist-packages/sklearn/model_selection/_validation.py\", line 866, in _fit_and_score\n",
            "    estimator.fit(X_train, y_train, **fit_params)\n",
            "  File \"/usr/local/lib/python3.11/dist-packages/sklearn/base.py\", line 1389, in wrapper\n",
            "    return fit_method(estimator, *args, **kwargs)\n",
            "           ^^^^^^^^^^^^^^^^^^^^^^^^^^^^^^^^^^^^^^\n",
            "  File \"/usr/local/lib/python3.11/dist-packages/sklearn/pipeline.py\", line 662, in fit\n",
            "    self._final_estimator.fit(Xt, y, **last_step_params[\"fit\"])\n",
            "  File \"/usr/local/lib/python3.11/dist-packages/sklearn/base.py\", line 1382, in wrapper\n",
            "    estimator._validate_params()\n",
            "  File \"/usr/local/lib/python3.11/dist-packages/sklearn/base.py\", line 436, in _validate_params\n",
            "    validate_parameter_constraints(\n",
            "  File \"/usr/local/lib/python3.11/dist-packages/sklearn/utils/_param_validation.py\", line 98, in validate_parameter_constraints\n",
            "    raise InvalidParameterError(\n",
            "sklearn.utils._param_validation.InvalidParameterError: The 'max_features' parameter of RandomForestClassifier must be an int in the range [1, inf), a float in the range (0.0, 1.0], a str among {'sqrt', 'log2'} or None. Got 'auto' instead.\n",
            "\n",
            "  warnings.warn(some_fits_failed_message, FitFailedWarning)\n",
            "/usr/local/lib/python3.11/dist-packages/sklearn/model_selection/_search.py:1108: UserWarning: One or more of the test scores are non-finite: [0.67866162        nan        nan 0.72651515 0.76359428 0.7464436\n",
            " 0.74404461 0.67954545        nan        nan        nan        nan\n",
            " 0.72510522 0.67866162        nan]\n",
            "  warnings.warn(\n",
            "/usr/local/lib/python3.11/dist-packages/sklearn/base.py:1389: DataConversionWarning: A column-vector y was passed when a 1d array was expected. Please change the shape of y to (n_samples,), for example using ravel().\n",
            "  return fit_method(estimator, *args, **kwargs)\n"
          ]
        },
        {
          "output_type": "stream",
          "name": "stdout",
          "text": [
            "Best CV Accuracy: 0.763594276094276\n",
            "Best Parameters: {'simpleimputer__strategy': 'median', 'randomforestclassifier__n_estimators': 500, 'randomforestclassifier__min_samples_split': 2, 'randomforestclassifier__min_samples_leaf': 2, 'randomforestclassifier__max_features': 'sqrt', 'randomforestclassifier__max_depth': 10, 'randomforestclassifier__bootstrap': True}\n"
          ]
        }
      ]
    },
    {
      "cell_type": "markdown",
      "metadata": {
        "id": "nZ_ZTO-gm0h9"
      },
      "source": [
        "**Task 8:** Print out the best score and best params for `model`."
      ]
    },
    {
      "cell_type": "code",
      "metadata": {
        "id": "DbAXBEbYm0h9",
        "colab": {
          "base_uri": "https://localhost:8080/"
        },
        "outputId": "08266b6b-b1cf-4445-a8f6-71844aaea28c"
      },
      "source": [
        "best_score = model.best_score_\n",
        "best_params =  model.best_params_\n",
        "\n",
        "print('Best score for `model`:', best_score)\n",
        "print('Best params for `model`:', best_params)"
      ],
      "execution_count": 13,
      "outputs": [
        {
          "output_type": "stream",
          "name": "stdout",
          "text": [
            "Best score for `model`: 0.763594276094276\n",
            "Best params for `model`: {'simpleimputer__strategy': 'median', 'randomforestclassifier__n_estimators': 500, 'randomforestclassifier__min_samples_split': 2, 'randomforestclassifier__min_samples_leaf': 2, 'randomforestclassifier__max_features': 'sqrt', 'randomforestclassifier__max_depth': 10, 'randomforestclassifier__bootstrap': True}\n"
          ]
        }
      ]
    },
    {
      "cell_type": "code",
      "source": [
        "# Using XGBOOST on same dataset\n",
        "\n",
        "from xgboost import XGBClassifier\n",
        "from sklearn.preprocessing import LabelEncoder\n",
        "# Import accuracy_score\n",
        "from sklearn.metrics import accuracy_score\n",
        "\n",
        "# Create a LabelEncoder object\n",
        "label_encoder = LabelEncoder()\n",
        "\n",
        "# Fit the encoder to the target variable and transform it\n",
        "y_encoded = label_encoder.fit_transform(y['status_group'])\n",
        "\n",
        "\n",
        "clf_xgb = make_pipeline(\n",
        "    ce.OrdinalEncoder(),\n",
        "    SimpleImputer(strategy='mean'),\n",
        "    XGBClassifier(\n",
        "    n_estimators=300,\n",
        "    learning_rate=0.06,\n",
        "    max_depth=5,\n",
        "    subsample=0.8,\n",
        "    colsample_bytree=0.8,\n",
        "    random_state=42,\n",
        "    use_label_encoder=False,\n",
        "    eval_metric='logloss'\n",
        ")\n",
        ")\n",
        "\n",
        "\n",
        "# Use the encoded target variable for training\n",
        "clf_xgb.fit(X, y_encoded)\n",
        "\n",
        "y_pred_xg_train = clf_xgb.predict(X)\n",
        "print(y_pred_xg_train)\n",
        "\n",
        "accuracy_xg = accuracy_score(y_encoded, y_pred_xg_train)\n",
        "print(\"Accuracy:\", accuracy_xg)\n",
        "\n",
        "y_pred_xg = clf_xgb.predict(X_test)\n",
        "print(y_pred_xg)"
      ],
      "metadata": {
        "colab": {
          "base_uri": "https://localhost:8080/"
        },
        "id": "xdn4j_kPoFDp",
        "outputId": "2f6299fe-1176-4bbb-caba-d3dc929ef134"
      },
      "execution_count": 14,
      "outputs": [
        {
          "output_type": "stream",
          "name": "stderr",
          "text": [
            "/usr/local/lib/python3.11/dist-packages/xgboost/core.py:158: UserWarning: [08:55:54] WARNING: /workspace/src/learner.cc:740: \n",
            "Parameters: { \"use_label_encoder\" } are not used.\n",
            "\n",
            "  warnings.warn(smsg, UserWarning)\n"
          ]
        },
        {
          "output_type": "stream",
          "name": "stdout",
          "text": [
            "[1 0 0 ... 0 1 0]\n",
            "Accuracy: 0.8092382154882155\n",
            "[0 0 0 ... 2 0 0]\n"
          ]
        }
      ]
    },
    {
      "cell_type": "markdown",
      "metadata": {
        "id": "0Q60ucrGm0h9"
      },
      "source": [
        "# Communicate Results"
      ]
    },
    {
      "cell_type": "markdown",
      "metadata": {
        "id": "QQEztTb2m0h9"
      },
      "source": [
        "**Task 9:** Create a DataFrame `submission` whose index is the same as `X_test` and that has one column `'status_group'` with your predictions. Next, save this DataFrame as a CSV file and upload your submissions to our competition site.\n",
        "\n",
        "**Note:** Check the `sample_submission.csv` file on the competition website to make sure your submissions follows the same formatting."
      ]
    },
    {
      "cell_type": "code",
      "metadata": {
        "id": "Teny1YdDm0h9",
        "colab": {
          "base_uri": "https://localhost:8080/"
        },
        "outputId": "8d2da450-362d-44a5-a41c-82d005d69994"
      },
      "source": [
        "\n",
        "y_pred_test = model.predict(X_test)\n",
        "print(y_pred_test.shape)\n",
        "\n",
        "# Create submission DataFrame with S.No. starting from 1\n",
        "submission = pd.DataFrame({\n",
        "    'S.No.': range(1, len(y_pred_xg) + 1),\n",
        "    'status_group': y_pred_xg\n",
        "})\n",
        "\n",
        "submission.to_csv('submission_xg.csv')"
      ],
      "execution_count": 15,
      "outputs": [
        {
          "output_type": "stream",
          "name": "stdout",
          "text": [
            "(11880,)\n"
          ]
        }
      ]
    },
    {
      "cell_type": "markdown",
      "source": [
        "![XGBOOST Kaggle.png](data:image/png;base64,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)"
      ],
      "metadata": {
        "id": "Xd45TBC7wvHA"
      }
    }
  ]
}